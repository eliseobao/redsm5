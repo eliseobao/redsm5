{
 "cells": [
  {
   "cell_type": "markdown",
   "id": "56dbda90",
   "metadata": {},
   "source": [
    "<a href=\"https://colab.research.google.com/github/eliseobao/redsm5/blob/main/analysis/linguistic/pronouns.ipynb\" target=\"_parent\"><img src=\"https://colab.research.google.com/assets/colab-badge.svg\" alt=\"Open In Colab\"/></a>"
   ]
  },
  {
   "cell_type": "markdown",
   "id": "f6aa49795f8ff4ea",
   "metadata": {
    "collapsed": false
   },
   "source": [
    "# Pronouns usage"
   ]
  },
  {
   "cell_type": "code",
   "execution_count": 1,
   "id": "eed5f0f5",
   "metadata": {},
   "outputs": [],
   "source": [
    "import os\n",
    "\n",
    "os.environ[\"SHELL\"] = \"/bin/bash\""
   ]
  },
  {
   "cell_type": "code",
   "execution_count": 2,
   "id": "7ddb941d9769558f",
   "metadata": {
    "collapsed": false,
    "is_executing": true
   },
   "outputs": [],
   "source": [
    "%%capture\n",
    "!pip install spacy\n",
    "!python3 -m spacy download en_core_web_sm"
   ]
  },
  {
   "cell_type": "code",
   "execution_count": 8,
   "id": "6d2bf74f9c0e15ac",
   "metadata": {
    "collapsed": false
   },
   "outputs": [],
   "source": [
    "import spacy\n",
    "import pandas as pd\n",
    "from tqdm import tqdm\n",
    "from collections import Counter\n",
    "\n",
    "nlp = spacy.load(\"en_core_web_sm\")"
   ]
  },
  {
   "cell_type": "code",
   "execution_count": 9,
   "id": "f32c9d07",
   "metadata": {},
   "outputs": [],
   "source": [
    "SYMPTOMS = [\n",
    "    \"NO_SYMPTOMS\",\n",
    "    \"DEPRESSED_MOOD\",\n",
    "    \"ANHEDONIA\",\n",
    "    \"APPETITE_CHANGE\",\n",
    "    \"SLEEP_ISSUES\",\n",
    "    \"PSYCHOMOTOR\",\n",
    "    \"FATIGUE\",\n",
    "    \"WORTHLESSNESS\",\n",
    "    \"COGNITIVE_ISSUES\",\n",
    "    \"SUICIDAL_THOUGHTS\",\n",
    "]"
   ]
  },
  {
   "cell_type": "code",
   "execution_count": 10,
   "id": "5e7e8b6d",
   "metadata": {},
   "outputs": [],
   "source": [
    "data = pd.read_csv(\"data/redsm5.csv\")\n",
    "\n",
    "texts_per_symptom = {}\n",
    "for symptom in SYMPTOMS:\n",
    "    texts_per_symptom[symptom] = data.loc[\n",
    "        data[\"labels\"].str.contains(symptom), \"text\"\n",
    "    ].tolist()"
   ]
  },
  {
   "cell_type": "code",
   "execution_count": null,
   "id": "e198b9a0ab624c26",
   "metadata": {
    "collapsed": false
   },
   "outputs": [],
   "source": [
    "def get_pronouns_counts(text):\n",
    "    \"\"\"\n",
    "    Count the occurrences of first-person singular, first-person plural, second person, third-person singular, and third-person plural pronouns in the given text.\n",
    "\n",
    "    Parameters:\n",
    "    - text (str): Input text to analyze.\n",
    "\n",
    "    Returns:\n",
    "    Tuple[int, int, int, int, int]: A tuple containing counts of first-person singular, first-person plural, second person, third-person singular, and third-person plural pronouns.\n",
    "    \"\"\"\n",
    "    doc = nlp(text)\n",
    "    pronoun_counter = Counter(\n",
    "        token.text.lower() for token in doc if token.pos_ == \"PRON\"\n",
    "    )\n",
    "\n",
    "    first_person_singular_count = pronoun_counter[\"i\"]\n",
    "    first_person_plural_count = pronoun_counter[\"we\"]\n",
    "    second_person_singular_count = pronoun_counter[\"you\"]\n",
    "    third_person_singular_count = (\n",
    "        pronoun_counter[\"he\"] + pronoun_counter[\"she\"] + pronoun_counter[\"it\"]\n",
    "    )\n",
    "    third_person_plural_count = pronoun_counter[\"they\"]\n",
    "\n",
    "    return (\n",
    "        first_person_singular_count,\n",
    "        first_person_plural_count,\n",
    "        second_person_singular_count,\n",
    "        third_person_singular_count,\n",
    "        third_person_plural_count,\n",
    "    )"
   ]
  },
  {
   "cell_type": "code",
   "execution_count": 24,
   "id": "15ec5c5207e29ccf",
   "metadata": {
    "collapsed": false
   },
   "outputs": [
    {
     "name": "stdout",
     "output_type": "stream",
     "text": [
      "Analyzing pronouns for NO_SYMPTOMS...\n"
     ]
    },
    {
     "name": "stderr",
     "output_type": "stream",
     "text": [
      "100%|██████████| 392/392 [00:26<00:00, 14.95it/s]\n"
     ]
    },
    {
     "name": "stdout",
     "output_type": "stream",
     "text": [
      "Analyzing pronouns for DEPRESSED_MOOD...\n"
     ]
    },
    {
     "name": "stderr",
     "output_type": "stream",
     "text": [
      "100%|██████████| 328/328 [00:14<00:00, 23.04it/s]\n"
     ]
    },
    {
     "name": "stdout",
     "output_type": "stream",
     "text": [
      "Analyzing pronouns for ANHEDONIA...\n"
     ]
    },
    {
     "name": "stderr",
     "output_type": "stream",
     "text": [
      "100%|██████████| 124/124 [00:03<00:00, 33.40it/s]\n"
     ]
    },
    {
     "name": "stdout",
     "output_type": "stream",
     "text": [
      "Analyzing pronouns for APPETITE_CHANGE...\n"
     ]
    },
    {
     "name": "stderr",
     "output_type": "stream",
     "text": [
      "100%|██████████| 44/44 [00:01<00:00, 24.17it/s]\n"
     ]
    },
    {
     "name": "stdout",
     "output_type": "stream",
     "text": [
      "Analyzing pronouns for SLEEP_ISSUES...\n"
     ]
    },
    {
     "name": "stderr",
     "output_type": "stream",
     "text": [
      "100%|██████████| 102/102 [00:03<00:00, 26.23it/s]\n"
     ]
    },
    {
     "name": "stdout",
     "output_type": "stream",
     "text": [
      "Analyzing pronouns for PSYCHOMOTOR...\n"
     ]
    },
    {
     "name": "stderr",
     "output_type": "stream",
     "text": [
      "100%|██████████| 35/35 [00:01<00:00, 18.06it/s]\n"
     ]
    },
    {
     "name": "stdout",
     "output_type": "stream",
     "text": [
      "Analyzing pronouns for FATIGUE...\n"
     ]
    },
    {
     "name": "stderr",
     "output_type": "stream",
     "text": [
      "100%|██████████| 124/124 [00:05<00:00, 22.62it/s]\n"
     ]
    },
    {
     "name": "stdout",
     "output_type": "stream",
     "text": [
      "Analyzing pronouns for WORTHLESSNESS...\n"
     ]
    },
    {
     "name": "stderr",
     "output_type": "stream",
     "text": [
      "100%|██████████| 311/311 [00:12<00:00, 24.96it/s]\n"
     ]
    },
    {
     "name": "stdout",
     "output_type": "stream",
     "text": [
      "Analyzing pronouns for COGNITIVE_ISSUES...\n"
     ]
    },
    {
     "name": "stderr",
     "output_type": "stream",
     "text": [
      "100%|██████████| 59/59 [00:01<00:00, 30.17it/s]\n"
     ]
    },
    {
     "name": "stdout",
     "output_type": "stream",
     "text": [
      "Analyzing pronouns for SUICIDAL_THOUGHTS...\n"
     ]
    },
    {
     "name": "stderr",
     "output_type": "stream",
     "text": [
      "100%|██████████| 165/165 [00:05<00:00, 32.00it/s]\n"
     ]
    }
   ],
   "source": [
    "results = {}\n",
    "for symptom, texts in texts_per_symptom.items():\n",
    "    print(f\"Analyzing pronouns for {symptom}...\")\n",
    "    (\n",
    "        total_first_person_singular_count,\n",
    "        total_first_person_plural_count,\n",
    "        total_second_person_singular_count,\n",
    "        total_third_person_singular_count,\n",
    "        total_third_person_plural_count,\n",
    "    ) = (0, 0, 0, 0, 0)\n",
    "\n",
    "    for text in tqdm(texts):\n",
    "        (\n",
    "            first_person_singular_count,\n",
    "            first_person_plural_count,\n",
    "            second_person_singular_count,\n",
    "            third_person_singular_count,\n",
    "            third_person_plural_count,\n",
    "        ) = get_pronouns_counts(text)\n",
    "\n",
    "        total_first_person_singular_count += first_person_singular_count\n",
    "        total_first_person_plural_count += first_person_plural_count\n",
    "        total_second_person_singular_count += second_person_singular_count\n",
    "        total_third_person_singular_count += third_person_singular_count\n",
    "        total_third_person_plural_count += third_person_plural_count\n",
    "\n",
    "    results[symptom] = {\n",
    "        \"total_first_person_singular_count\": total_first_person_singular_count,\n",
    "        \"total_first_person_plural_count\": total_first_person_plural_count,\n",
    "        \"total_second_person_singular_count\": total_second_person_singular_count,\n",
    "        \"total_third_person_singular_count\": total_third_person_singular_count,\n",
    "        \"total_third_person_plural_count\": total_third_person_plural_count,\n",
    "    }"
   ]
  },
  {
   "cell_type": "code",
   "execution_count": 25,
   "id": "264c3a17c5b3cfaa",
   "metadata": {
    "collapsed": false
   },
   "outputs": [],
   "source": [
    "results_percentage = {}\n",
    "\n",
    "for symptom, results in results.items():\n",
    "    total_pronouns = (\n",
    "        results[\"total_first_person_singular_count\"]\n",
    "        + results[\"total_first_person_plural_count\"]\n",
    "        + results[\"total_second_person_singular_count\"]\n",
    "        + results[\"total_third_person_singular_count\"]\n",
    "        + results[\"total_third_person_plural_count\"]\n",
    "    )\n",
    "\n",
    "    first_person_singular_percentage = (\n",
    "        ((results[\"total_first_person_singular_count\"] / total_pronouns) * 100)\n",
    "        if total_pronouns > 0\n",
    "        else 0\n",
    "    )\n",
    "\n",
    "    first_person_plural_percentage = (\n",
    "        ((results[\"total_first_person_plural_count\"] / total_pronouns) * 100)\n",
    "        if total_pronouns > 0\n",
    "        else 0\n",
    "    )\n",
    "\n",
    "    second_person_singular_percentage = (\n",
    "        ((results[\"total_second_person_singular_count\"] / total_pronouns) * 100)\n",
    "        if total_pronouns > 0\n",
    "        else 0\n",
    "    )\n",
    "\n",
    "    third_person_singular_percentage = (\n",
    "        ((results[\"total_third_person_singular_count\"] / total_pronouns) * 100)\n",
    "        if total_pronouns > 0\n",
    "        else 0\n",
    "    )\n",
    "\n",
    "    third_person_plural_percentage = (\n",
    "        ((results[\"total_third_person_plural_count\"] / total_pronouns) * 100)\n",
    "        if total_pronouns > 0\n",
    "        else 0\n",
    "    )\n",
    "\n",
    "    results_percentage[symptom] = {\n",
    "        \"first_person_singular_percentage\": first_person_singular_percentage,\n",
    "        \"first_person_plural_percentage\": first_person_plural_percentage,\n",
    "        \"second_person_singular_percentage\": second_person_singular_percentage,\n",
    "        \"third_person_singular_percentage\": third_person_singular_percentage,\n",
    "        \"third_person_plural_percentage\": third_person_plural_percentage,\n",
    "    }"
   ]
  },
  {
   "cell_type": "code",
   "execution_count": 27,
   "id": "bd240c54d61054ea",
   "metadata": {
    "collapsed": false
   },
   "outputs": [
    {
     "name": "stdout",
     "output_type": "stream",
     "text": [
      "\n",
      "Symptom: NO_SYMPTOMS\n",
      "First Person Singular: 51.84\n",
      "First Person Plural: 5.21\n",
      "Second Person Singular: 8.41\n",
      "Third Person Singular: 30.37\n",
      "Third Person Plural: 4.16\n",
      "\n",
      "Symptom: DEPRESSED_MOOD\n",
      "First Person Singular: 63.52\n",
      "First Person Plural: 3.84\n",
      "Second Person Singular: 6.11\n",
      "Third Person Singular: 22.43\n",
      "Third Person Plural: 4.09\n",
      "\n",
      "Symptom: ANHEDONIA\n",
      "First Person Singular: 69.86\n",
      "First Person Plural: 1.69\n",
      "Second Person Singular: 6.57\n",
      "Third Person Singular: 19.18\n",
      "Third Person Plural: 2.69\n",
      "\n",
      "Symptom: APPETITE_CHANGE\n",
      "First Person Singular: 68.98\n",
      "First Person Plural: 1.17\n",
      "Second Person Singular: 5.38\n",
      "Third Person Singular: 19.95\n",
      "Third Person Plural: 4.52\n",
      "\n",
      "Symptom: SLEEP_ISSUES\n",
      "First Person Singular: 65.23\n",
      "First Person Plural: 2.53\n",
      "Second Person Singular: 7.29\n",
      "Third Person Singular: 21.11\n",
      "Third Person Plural: 3.84\n",
      "\n",
      "Symptom: PSYCHOMOTOR\n",
      "First Person Singular: 64.60\n",
      "First Person Plural: 2.48\n",
      "Second Person Singular: 7.13\n",
      "Third Person Singular: 22.23\n",
      "Third Person Plural: 3.56\n",
      "\n",
      "Symptom: FATIGUE\n",
      "First Person Singular: 63.01\n",
      "First Person Plural: 4.36\n",
      "Second Person Singular: 7.79\n",
      "Third Person Singular: 21.25\n",
      "Third Person Plural: 3.58\n",
      "\n",
      "Symptom: WORTHLESSNESS\n",
      "First Person Singular: 67.50\n",
      "First Person Plural: 2.61\n",
      "Second Person Singular: 6.09\n",
      "Third Person Singular: 20.94\n",
      "Third Person Plural: 2.85\n",
      "\n",
      "Symptom: COGNITIVE_ISSUES\n",
      "First Person Singular: 68.30\n",
      "First Person Plural: 1.66\n",
      "Second Person Singular: 3.32\n",
      "Third Person Singular: 24.23\n",
      "Third Person Plural: 2.49\n",
      "\n",
      "Symptom: SUICIDAL_THOUGHTS\n",
      "First Person Singular: 66.84\n",
      "First Person Plural: 1.21\n",
      "Second Person Singular: 6.21\n",
      "Third Person Singular: 22.69\n",
      "Third Person Plural: 3.05\n"
     ]
    }
   ],
   "source": [
    "for symptom in SYMPTOMS:\n",
    "    print(f\"\\nSymptom: {symptom}\")\n",
    "    print(\n",
    "        f\"First Person Singular: {results_percentage[symptom]['first_person_singular_percentage']:.2f}\"\n",
    "    )\n",
    "    print(\n",
    "        f\"First Person Plural: {results_percentage[symptom]['first_person_plural_percentage']:.2f}\"\n",
    "    )\n",
    "    print(\n",
    "        f\"Second Person Singular: {results_percentage[symptom]['second_person_singular_percentage']:.2f}\"\n",
    "    )\n",
    "    print(\n",
    "        f\"Third Person Singular: {results_percentage[symptom]['third_person_singular_percentage']:.2f}\"\n",
    "    )\n",
    "    print(\n",
    "        f\"Third Person Plural: {results_percentage[symptom]['third_person_plural_percentage']:.2f}\"\n",
    "    )"
   ]
  }
 ],
 "metadata": {
  "kernelspec": {
   "display_name": "Python 3 (ipykernel)",
   "language": "python",
   "name": "python3"
  }
 },
 "nbformat": 4,
 "nbformat_minor": 5
}
