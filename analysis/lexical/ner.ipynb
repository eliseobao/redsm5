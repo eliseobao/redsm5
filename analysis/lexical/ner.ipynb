{
 "cells": [
  {
   "cell_type": "markdown",
   "id": "660d71856cc29931",
   "metadata": {
    "collapsed": false
   },
   "source": [
    "# NER"
   ]
  },
  {
   "cell_type": "code",
   "execution_count": null,
   "id": "13588119b11c9075",
   "metadata": {
    "collapsed": false
   },
   "outputs": [],
   "source": [
    "!pip install spacy"
   ]
  },
  {
   "cell_type": "code",
   "execution_count": null,
   "id": "bab549064b9fcf3e",
   "metadata": {
    "collapsed": false
   },
   "outputs": [],
   "source": [
    "!python -m spacy download en_core_web_sm"
   ]
  },
  {
   "cell_type": "code",
   "execution_count": null,
   "id": "9d4f47be3374861d",
   "metadata": {
    "collapsed": false
   },
   "outputs": [],
   "source": [
    "import pandas as pd\n",
    "\n",
    "import spacy\n",
    "from tqdm import tqdm\n",
    "from collections import Counter\n",
    "\n",
    "nlp = spacy.load(\"en_core_web_sm\")"
   ]
  },
  {
   "cell_type": "markdown",
   "id": "4edac872c8f8dc77",
   "metadata": {
    "collapsed": false
   },
   "source": [
    "## Reading the data"
   ]
  },
  {
   "cell_type": "code",
   "execution_count": null,
   "id": "7bcf4837d392496",
   "metadata": {
    "collapsed": false
   },
   "outputs": [],
   "source": [
    "data = pd.read_csv('/data/metahate.csv', sep='\\t', names=['label', 'text'])\n",
    "\n",
    "text_hate = data.loc[data['label'] == 1, 'text'].tolist()\n",
    "text_no_hate = data.loc[data['label'] == 0, 'text'].tolist()"
   ]
  },
  {
   "cell_type": "code",
   "execution_count": null,
   "id": "2d0a6908153388af",
   "metadata": {
    "collapsed": false
   },
   "outputs": [],
   "source": [
    "def analyze_named_entities(text):\n",
    "    \"\"\"\n",
    "    Analyze named entities in the given text.\n",
    "\n",
    "    Parameters:\n",
    "    - text (str): The input text to analyze.\n",
    "\n",
    "    Returns:\n",
    "    Tuple[dict, Union[tuple, None]]: A tuple containing:\n",
    "        - A dictionary of named entity type percentages.\n",
    "        - A tuple representing the most referenced named entity and its entity type, or None if no entities are found.\n",
    "    \"\"\"\n",
    "    doc = nlp(text)\n",
    "\n",
    "    named_entities = [(ent.text, ent.label_) for ent in doc.ents]\n",
    "\n",
    "    if not named_entities:\n",
    "        return {}, None \n",
    "\n",
    "    entity_types = [ent_type for _, ent_type in named_entities]\n",
    "    entity_type_counts = Counter(entity_types)\n",
    "\n",
    "    total_entities = len(entity_types)\n",
    "    entity_type_percentages = {ent_type: count / total_entities * 100 for ent_type, count in entity_type_counts.items()}\n",
    "\n",
    "    # Identify the most referenced named entity\n",
    "    most_referenced_entity, _ = max(Counter(named_entities), key=lambda x: x[1])\n",
    "\n",
    "    return entity_type_percentages, most_referenced_entity"
   ]
  },
  {
   "cell_type": "markdown",
   "id": "cdb9ee5344d11264",
   "metadata": {
    "collapsed": false
   },
   "source": [
    "## Analyzing named entities"
   ]
  },
  {
   "cell_type": "code",
   "execution_count": null,
   "id": "6644826fb865b38",
   "metadata": {
    "collapsed": false
   },
   "outputs": [],
   "source": [
    "text_data = text_hate # Later for text_no_hate\n",
    "results = [analyze_named_entities(text) for text in tqdm(text_data)]"
   ]
  },
  {
   "cell_type": "markdown",
   "id": "9e9d829a36cef350",
   "metadata": {
    "collapsed": false
   },
   "source": [
    "## Analyzing and summarizing named entities across the texts"
   ]
  },
  {
   "cell_type": "code",
   "execution_count": null,
   "id": "f2ceb18870531dbb",
   "metadata": {
    "collapsed": false
   },
   "outputs": [],
   "source": [
    "total_entity_type_percentages = Counter()\n",
    "most_referenced_entities = {}\n",
    "\n",
    "for entity_type_percentages, most_referenced_entity in tqdm(results):\n",
    "    total_entity_type_percentages.update(entity_type_percentages)\n",
    "\n",
    "    if most_referenced_entity:\n",
    "        most_referenced_entities[text_data[results.index((entity_type_percentages, most_referenced_entity))]] = most_referenced_entity\n",
    "        \n",
    "        \n",
    "total_entities_across_texts = sum(total_entity_type_percentages.values())\n",
    "overall_entity_type_percentages = {ent_type: count / total_entities_across_texts * 100 for ent_type, count in total_entity_type_percentages.items()}"
   ]
  },
  {
   "cell_type": "markdown",
   "id": "5d30a080476ae191",
   "metadata": {
    "collapsed": false
   },
   "source": [
    "## Printing the results"
   ]
  },
  {
   "cell_type": "code",
   "execution_count": null,
   "id": "fe04b57dbb210e88",
   "metadata": {
    "collapsed": false
   },
   "outputs": [],
   "source": [
    "print(\"Named Entity Type Percentages:\")\n",
    "for ent_type, percentage in overall_entity_type_percentages.items():\n",
    "    print(f\"{ent_type}: {percentage:.2f}%\")"
   ]
  }
 ],
 "metadata": {
  "kernelspec": {
   "display_name": "Python 3 (ipykernel)",
   "language": "python",
   "name": "python3"
  }
 },
 "nbformat": 4,
 "nbformat_minor": 5
}
