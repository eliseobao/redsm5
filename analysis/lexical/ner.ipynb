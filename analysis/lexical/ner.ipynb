{
 "cells": [
  {
   "cell_type": "markdown",
   "id": "8875ef16",
   "metadata": {},
   "source": [
    "<a href=\"https://colab.research.google.com/github/eliseobao/redsm5/blob/main/analysis/lexical/ner.ipynb\" target=\"_parent\"><img src=\"https://colab.research.google.com/assets/colab-badge.svg\" alt=\"Open In Colab\"/></a>"
   ]
  },
  {
   "cell_type": "markdown",
   "id": "660d71856cc29931",
   "metadata": {
    "collapsed": false
   },
   "source": [
    "# NER"
   ]
  },
  {
   "cell_type": "code",
   "execution_count": 1,
   "id": "815d178e",
   "metadata": {},
   "outputs": [],
   "source": [
    "import os\n",
    "\n",
    "os.environ[\"SHELL\"] = \"/bin/bash\""
   ]
  },
  {
   "cell_type": "code",
   "execution_count": 2,
   "id": "13588119b11c9075",
   "metadata": {
    "collapsed": false
   },
   "outputs": [],
   "source": [
    "%%capture\n",
    "!pip install spacy\n",
    "!python3 -m spacy download en_core_web_sm"
   ]
  },
  {
   "cell_type": "code",
   "execution_count": 3,
   "id": "9d4f47be3374861d",
   "metadata": {
    "collapsed": false
   },
   "outputs": [],
   "source": [
    "import spacy\n",
    "import pandas as pd\n",
    "from tqdm import tqdm\n",
    "from collections import Counter\n",
    "\n",
    "nlp = spacy.load(\"en_core_web_sm\")"
   ]
  },
  {
   "cell_type": "code",
   "execution_count": 4,
   "id": "1a80db58",
   "metadata": {},
   "outputs": [],
   "source": [
    "SYMPTOMS = [\n",
    "    \"NO_SYMPTOMS\",\n",
    "    \"DEPRESSED_MOOD\",\n",
    "    \"ANHEDONIA\",\n",
    "    \"APPETITE_CHANGE\",\n",
    "    \"SLEEP_ISSUES\",\n",
    "    \"PSYCHOMOTOR\",\n",
    "    \"FATIGUE\",\n",
    "    \"WORTHLESSNESS\",\n",
    "    \"COGNITIVE_ISSUES\",\n",
    "    \"SUICIDAL_THOUGHTS\",\n",
    "]"
   ]
  },
  {
   "cell_type": "code",
   "execution_count": null,
   "id": "7bcf4837d392496",
   "metadata": {
    "collapsed": false
   },
   "outputs": [],
   "source": [
    "data = pd.read_csv(\"data/redsm5.csv\")\n",
    "\n",
    "texts_per_symptom = {}\n",
    "for symptom in SYMPTOMS:\n",
    "    texts_per_symptom[symptom] = data.loc[\n",
    "        data[\"labels\"].str.contains(symptom), \"text\"\n",
    "    ].tolist()"
   ]
  },
  {
   "cell_type": "code",
   "execution_count": null,
   "id": "2d0a6908153388af",
   "metadata": {
    "collapsed": false
   },
   "outputs": [],
   "source": [
    "def analyze_named_entities(text):\n",
    "    \"\"\"\n",
    "    Analyze named entities in the given text.\n",
    "\n",
    "    Parameters:\n",
    "    - text (str): The input text to analyze.\n",
    "\n",
    "    Returns:\n",
    "    Tuple[dict, Union[tuple, None]]: A tuple containing:\n",
    "        - A dictionary of named entity type percentages.\n",
    "        - A tuple representing the most referenced named entity and its entity type, or None if no entities are found.\n",
    "    \"\"\"\n",
    "    doc = nlp(text)\n",
    "\n",
    "    named_entities = [(ent.text, ent.label_) for ent in doc.ents]\n",
    "\n",
    "    if not named_entities:\n",
    "        return {}, None\n",
    "\n",
    "    entity_types = [ent_type for _, ent_type in named_entities]\n",
    "    entity_type_counts = Counter(entity_types)\n",
    "\n",
    "    total_entities = len(entity_types)\n",
    "    entity_type_percentages = {\n",
    "        ent_type: count / total_entities * 100\n",
    "        for ent_type, count in entity_type_counts.items()\n",
    "    }\n",
    "\n",
    "    most_referenced_entity, _ = max(Counter(named_entities), key=lambda x: x[1])\n",
    "\n",
    "    return entity_type_percentages, most_referenced_entity"
   ]
  },
  {
   "cell_type": "code",
   "execution_count": null,
   "id": "6644826fb865b38",
   "metadata": {
    "collapsed": false
   },
   "outputs": [
    {
     "name": "stdout",
     "output_type": "stream",
     "text": [
      "Analyzing NO_SYMPTOMS texts\n"
     ]
    },
    {
     "name": "stderr",
     "output_type": "stream",
     "text": [
      "100%|██████████| 392/392 [00:27<00:00, 14.23it/s]\n"
     ]
    },
    {
     "name": "stdout",
     "output_type": "stream",
     "text": [
      "Analyzing DEPRESSED_MOOD texts\n"
     ]
    },
    {
     "name": "stderr",
     "output_type": "stream",
     "text": [
      "100%|██████████| 328/328 [00:14<00:00, 22.36it/s]\n"
     ]
    },
    {
     "name": "stdout",
     "output_type": "stream",
     "text": [
      "Analyzing ANHEDONIA texts\n"
     ]
    },
    {
     "name": "stderr",
     "output_type": "stream",
     "text": [
      "100%|██████████| 124/124 [00:03<00:00, 32.73it/s]\n"
     ]
    },
    {
     "name": "stdout",
     "output_type": "stream",
     "text": [
      "Analyzing APPETITE_CHANGE texts\n"
     ]
    },
    {
     "name": "stderr",
     "output_type": "stream",
     "text": [
      "100%|██████████| 44/44 [00:01<00:00, 23.68it/s]\n"
     ]
    },
    {
     "name": "stdout",
     "output_type": "stream",
     "text": [
      "Analyzing SLEEP_ISSUES texts\n"
     ]
    },
    {
     "name": "stderr",
     "output_type": "stream",
     "text": [
      "100%|██████████| 102/102 [00:03<00:00, 25.78it/s]\n"
     ]
    },
    {
     "name": "stdout",
     "output_type": "stream",
     "text": [
      "Analyzing PSYCHOMOTOR texts\n"
     ]
    },
    {
     "name": "stderr",
     "output_type": "stream",
     "text": [
      "100%|██████████| 35/35 [00:01<00:00, 17.74it/s]\n"
     ]
    },
    {
     "name": "stdout",
     "output_type": "stream",
     "text": [
      "Analyzing FATIGUE texts\n"
     ]
    },
    {
     "name": "stderr",
     "output_type": "stream",
     "text": [
      "100%|██████████| 124/124 [00:05<00:00, 22.06it/s]\n"
     ]
    },
    {
     "name": "stdout",
     "output_type": "stream",
     "text": [
      "Analyzing WORTHLESSNESS texts\n"
     ]
    },
    {
     "name": "stderr",
     "output_type": "stream",
     "text": [
      "100%|██████████| 311/311 [00:12<00:00, 24.67it/s]\n"
     ]
    },
    {
     "name": "stdout",
     "output_type": "stream",
     "text": [
      "Analyzing COGNITIVE_ISSUES texts\n"
     ]
    },
    {
     "name": "stderr",
     "output_type": "stream",
     "text": [
      "100%|██████████| 59/59 [00:01<00:00, 29.99it/s]\n"
     ]
    },
    {
     "name": "stdout",
     "output_type": "stream",
     "text": [
      "Analyzing SUICIDAL_THOUGHTS texts\n"
     ]
    },
    {
     "name": "stderr",
     "output_type": "stream",
     "text": [
      "100%|██████████| 165/165 [00:05<00:00, 32.12it/s]\n"
     ]
    }
   ],
   "source": [
    "results = {}\n",
    "for symptom in SYMPTOMS:\n",
    "    print(f\"Analyzing {symptom} texts\")\n",
    "    results[symptom] = [\n",
    "        analyze_named_entities(text) for text in tqdm(texts_per_symptom[symptom])\n",
    "    ]"
   ]
  },
  {
   "cell_type": "code",
   "execution_count": null,
   "id": "f2ceb18870531dbb",
   "metadata": {
    "collapsed": false
   },
   "outputs": [
    {
     "name": "stdout",
     "output_type": "stream",
     "text": [
      "\n",
      "NO_SYMPTOMS\n",
      "ORG: 8.76%\n",
      "DATE: 33.57%\n",
      "CARDINAL: 15.16%\n",
      "ORDINAL: 5.63%\n",
      "GPE: 4.21%\n",
      "PERCENT: 1.91%\n",
      "TIME: 11.95%\n",
      "QUANTITY: 0.80%\n",
      "PERSON: 13.92%\n",
      "NORP: 1.19%\n",
      "PRODUCT: 0.77%\n",
      "FAC: 0.38%\n",
      "LANGUAGE: 0.04%\n",
      "WORK_OF_ART: 0.53%\n",
      "LOC: 0.24%\n",
      "LAW: 0.13%\n",
      "MONEY: 0.80%\n",
      "EVENT: 0.01%\n",
      "\n",
      "DEPRESSED_MOOD\n",
      "ORG: 6.84%\n",
      "DATE: 47.17%\n",
      "CARDINAL: 16.14%\n",
      "PERSON: 8.37%\n",
      "TIME: 8.50%\n",
      "GPE: 3.48%\n",
      "ORDINAL: 4.71%\n",
      "NORP: 1.39%\n",
      "FAC: 0.08%\n",
      "MONEY: 0.66%\n",
      "PRODUCT: 0.45%\n",
      "LOC: 0.43%\n",
      "EVENT: 0.02%\n",
      "PERCENT: 0.63%\n",
      "QUANTITY: 0.62%\n",
      "WORK_OF_ART: 0.37%\n",
      "LANGUAGE: 0.02%\n",
      "LAW: 0.11%\n",
      "\n",
      "ANHEDONIA\n",
      "ORDINAL: 3.16%\n",
      "DATE: 49.84%\n",
      "CARDINAL: 18.89%\n",
      "PERSON: 5.29%\n",
      "TIME: 7.06%\n",
      "ORG: 8.90%\n",
      "LOC: 0.37%\n",
      "GPE: 3.05%\n",
      "NORP: 1.27%\n",
      "QUANTITY: 0.65%\n",
      "MONEY: 0.18%\n",
      "PERCENT: 0.45%\n",
      "PRODUCT: 0.73%\n",
      "EVENT: 0.10%\n",
      "LANGUAGE: 0.08%\n",
      "\n",
      "APPETITE_CHANGE\n",
      "CARDINAL: 19.98%\n",
      "ORG: 9.56%\n",
      "GPE: 1.86%\n",
      "DATE: 46.94%\n",
      "TIME: 6.19%\n",
      "QUANTITY: 2.17%\n",
      "PERSON: 6.64%\n",
      "ORDINAL: 4.32%\n",
      "PERCENT: 0.61%\n",
      "LOC: 0.08%\n",
      "FAC: 0.08%\n",
      "MONEY: 0.34%\n",
      "NORP: 0.55%\n",
      "EVENT: 0.67%\n",
      "\n",
      "SLEEP_ISSUES\n",
      "TIME: 33.17%\n",
      "CARDINAL: 13.97%\n",
      "ORG: 6.01%\n",
      "DATE: 31.78%\n",
      "LOC: 0.10%\n",
      "ORDINAL: 1.84%\n",
      "EVENT: 0.27%\n",
      "GPE: 2.99%\n",
      "PERSON: 6.53%\n",
      "NORP: 1.66%\n",
      "MONEY: 0.50%\n",
      "QUANTITY: 0.71%\n",
      "PERCENT: 0.17%\n",
      "WORK_OF_ART: 0.22%\n",
      "FAC: 0.07%\n",
      "PRODUCT: 0.01%\n",
      "\n",
      "PSYCHOMOTOR\n",
      "WORK_OF_ART: 0.47%\n",
      "CARDINAL: 10.94%\n",
      "DATE: 41.58%\n",
      "NORP: 0.33%\n",
      "ORG: 10.50%\n",
      "ORDINAL: 7.72%\n",
      "GPE: 1.01%\n",
      "QUANTITY: 0.05%\n",
      "PERCENT: 1.73%\n",
      "LANGUAGE: 2.46%\n",
      "TIME: 18.29%\n",
      "PERSON: 4.13%\n",
      "LOC: 0.10%\n",
      "EVENT: 0.05%\n",
      "LAW: 0.03%\n",
      "FAC: 0.03%\n",
      "MONEY: 0.60%\n",
      "\n",
      "FATIGUE\n",
      "ORDINAL: 2.30%\n",
      "TIME: 15.41%\n",
      "DATE: 44.40%\n",
      "ORG: 7.41%\n",
      "QUANTITY: 1.90%\n",
      "CARDINAL: 18.28%\n",
      "PERSON: 4.65%\n",
      "LOC: 0.60%\n",
      "PERCENT: 0.76%\n",
      "WORK_OF_ART: 0.27%\n",
      "NORP: 1.71%\n",
      "GPE: 2.21%\n",
      "FAC: 0.02%\n",
      "PRODUCT: 0.07%\n",
      "\n",
      "WORTHLESSNESS\n",
      "TIME: 7.54%\n",
      "ORDINAL: 5.94%\n",
      "DATE: 47.75%\n",
      "PERSON: 6.42%\n",
      "CARDINAL: 17.55%\n",
      "ORG: 6.91%\n",
      "LOC: 1.10%\n",
      "EVENT: 0.17%\n",
      "GPE: 2.27%\n",
      "MONEY: 0.40%\n",
      "WORK_OF_ART: 1.16%\n",
      "PRODUCT: 0.11%\n",
      "PERCENT: 0.58%\n",
      "QUANTITY: 0.76%\n",
      "NORP: 0.84%\n",
      "FAC: 0.16%\n",
      "LANGUAGE: 0.36%\n",
      "\n",
      "COGNITIVE_ISSUES\n",
      "DATE: 41.27%\n",
      "ORG: 8.85%\n",
      "CARDINAL: 14.62%\n",
      "GPE: 1.00%\n",
      "TIME: 11.93%\n",
      "ORDINAL: 2.56%\n",
      "NORP: 2.22%\n",
      "PERSON: 6.63%\n",
      "QUANTITY: 3.95%\n",
      "MONEY: 1.35%\n",
      "EVENT: 0.22%\n",
      "LOC: 2.22%\n",
      "PERCENT: 3.10%\n",
      "LANGUAGE: 0.08%\n",
      "\n",
      "SUICIDAL_THOUGHTS\n",
      "DATE: 49.80%\n",
      "ORDINAL: 5.97%\n",
      "CARDINAL: 18.07%\n",
      "ORG: 6.60%\n",
      "GPE: 3.48%\n",
      "TIME: 5.21%\n",
      "MONEY: 0.43%\n",
      "PERCENT: 1.61%\n",
      "PERSON: 6.07%\n",
      "QUANTITY: 0.76%\n",
      "WORK_OF_ART: 0.19%\n",
      "FAC: 0.07%\n",
      "NORP: 0.62%\n",
      "LOC: 0.72%\n",
      "PRODUCT: 0.42%\n"
     ]
    }
   ],
   "source": [
    "for symptom, result in results.items():\n",
    "    total_entity_type_percentages = Counter()\n",
    "    most_referenced_entities = {}\n",
    "\n",
    "    for entity_type_percentages, most_referenced_entity in result:\n",
    "        total_entity_type_percentages.update(entity_type_percentages)\n",
    "\n",
    "        if most_referenced_entity:\n",
    "            most_referenced_entities[\n",
    "                texts_per_symptom[symptom][\n",
    "                    result.index((entity_type_percentages, most_referenced_entity))\n",
    "                ]\n",
    "            ] = most_referenced_entity\n",
    "\n",
    "    total_entities_across_texts = sum(total_entity_type_percentages.values())\n",
    "    overall_entity_type_percentages = {\n",
    "        ent_type: count / total_entities_across_texts * 100\n",
    "        for ent_type, count in total_entity_type_percentages.items()\n",
    "    }\n",
    "\n",
    "    print(f\"\\n{symptom}\")\n",
    "    for ent_type, percentage in overall_entity_type_percentages.items():\n",
    "        print(f\"{ent_type}: {percentage:.2f}%\")"
   ]
  }
 ],
 "metadata": {
  "kernelspec": {
   "display_name": "Python 3 (ipykernel)",
   "language": "python",
   "name": "python3"
  }
 },
 "nbformat": 4,
 "nbformat_minor": 5
}
