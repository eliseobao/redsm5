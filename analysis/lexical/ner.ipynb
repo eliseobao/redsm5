{
  "cells": [
    {
      "cell_type": "markdown",
      "id": "8875ef16",
      "metadata": {
        "id": "8875ef16"
      },
      "source": [
        "<a href=\"https://colab.research.google.com/github/eliseobao/redsm5/blob/main/analysis/lexical/ner.ipynb\" target=\"_parent\"><img src=\"https://colab.research.google.com/assets/colab-badge.svg\" alt=\"Open In Colab\"/></a>"
      ]
    },
    {
      "cell_type": "markdown",
      "id": "660d71856cc29931",
      "metadata": {
        "collapsed": false,
        "id": "660d71856cc29931"
      },
      "source": [
        "# NER"
      ]
    },
    {
      "cell_type": "code",
      "execution_count": 1,
      "id": "815d178e",
      "metadata": {
        "id": "815d178e"
      },
      "outputs": [],
      "source": [
        "import os\n",
        "\n",
        "os.environ[\"SHELL\"] = \"/bin/bash\""
      ]
    },
    {
      "cell_type": "code",
      "execution_count": 2,
      "id": "13588119b11c9075",
      "metadata": {
        "id": "13588119b11c9075"
      },
      "outputs": [],
      "source": [
        "%%capture\n",
        "!pip install spacy\n",
        "!python3 -m spacy download en_core_web_sm"
      ]
    },
    {
      "cell_type": "code",
      "execution_count": 12,
      "id": "9d4f47be3374861d",
      "metadata": {
        "id": "9d4f47be3374861d"
      },
      "outputs": [],
      "source": [
        "import spacy\n",
        "\n",
        "import pandas as pd\n",
        "import matplotlib.pyplot as plt\n",
        "import seaborn as sns\n",
        "\n",
        "from tqdm import tqdm\n",
        "from collections import Counter\n",
        "\n",
        "nlp = spacy.load(\"en_core_web_sm\")"
      ]
    },
    {
      "cell_type": "code",
      "execution_count": 4,
      "id": "1a80db58",
      "metadata": {
        "id": "1a80db58"
      },
      "outputs": [],
      "source": [
        "SYMPTOMS = [\n",
        "    \"NO_SYMPTOMS\",\n",
        "    \"DEPRESSED_MOOD\",\n",
        "    \"ANHEDONIA\",\n",
        "    \"APPETITE_CHANGE\",\n",
        "    \"SLEEP_ISSUES\",\n",
        "    \"PSYCHOMOTOR\",\n",
        "    \"FATIGUE\",\n",
        "    \"WORTHLESSNESS\",\n",
        "    \"COGNITIVE_ISSUES\",\n",
        "    \"SUICIDAL_THOUGHTS\",\n",
        "]"
      ]
    },
    {
      "cell_type": "code",
      "execution_count": 5,
      "id": "7bcf4837d392496",
      "metadata": {
        "id": "7bcf4837d392496"
      },
      "outputs": [],
      "source": [
        "data = pd.read_csv(\"data/redsm5.csv\")\n",
        "\n",
        "texts_per_symptom = {}\n",
        "for symptom in SYMPTOMS:\n",
        "    texts_per_symptom[symptom] = data.loc[\n",
        "        data[\"labels\"].str.contains(symptom), \"text\"\n",
        "    ].tolist()"
      ]
    },
    {
      "cell_type": "code",
      "execution_count": 6,
      "id": "2d0a6908153388af",
      "metadata": {
        "id": "2d0a6908153388af"
      },
      "outputs": [],
      "source": [
        "def analyze_named_entities(text):\n",
        "    \"\"\"\n",
        "    Analyze named entities in the given text.\n",
        "\n",
        "    Parameters:\n",
        "    - text (str): The input text to analyze.\n",
        "\n",
        "    Returns:\n",
        "    Tuple[dict, Union[tuple, None]]: A tuple containing:\n",
        "        - A dictionary of named entity type percentages.\n",
        "        - A tuple representing the most referenced named entity and its entity type, or None if no entities are found.\n",
        "    \"\"\"\n",
        "    doc = nlp(text)\n",
        "\n",
        "    named_entities = [(ent.text, ent.label_) for ent in doc.ents]\n",
        "\n",
        "    if not named_entities:\n",
        "        return {}, None\n",
        "\n",
        "    entity_types = [ent_type for _, ent_type in named_entities]\n",
        "    entity_type_counts = Counter(entity_types)\n",
        "\n",
        "    total_entities = len(entity_types)\n",
        "    entity_type_percentages = {\n",
        "        ent_type: count / total_entities * 100\n",
        "        for ent_type, count in entity_type_counts.items()\n",
        "    }\n",
        "\n",
        "    most_referenced_entity, _ = max(Counter(named_entities), key=lambda x: x[1])\n",
        "\n",
        "    return entity_type_percentages, most_referenced_entity"
      ]
    },
    {
      "cell_type": "code",
      "execution_count": 7,
      "id": "6644826fb865b38",
      "metadata": {
        "id": "6644826fb865b38",
        "outputId": "9651e2a5-da54-4fd3-e1f8-3194c7a876a1",
        "colab": {
          "base_uri": "https://localhost:8080/"
        }
      },
      "outputs": [
        {
          "output_type": "stream",
          "name": "stdout",
          "text": [
            "Analyzing NO_SYMPTOMS texts\n"
          ]
        },
        {
          "output_type": "stream",
          "name": "stderr",
          "text": [
            "100%|██████████| 392/392 [00:37<00:00, 10.55it/s]\n"
          ]
        },
        {
          "output_type": "stream",
          "name": "stdout",
          "text": [
            "Analyzing DEPRESSED_MOOD texts\n"
          ]
        },
        {
          "output_type": "stream",
          "name": "stderr",
          "text": [
            "100%|██████████| 328/328 [00:19<00:00, 16.57it/s]\n"
          ]
        },
        {
          "output_type": "stream",
          "name": "stdout",
          "text": [
            "Analyzing ANHEDONIA texts\n"
          ]
        },
        {
          "output_type": "stream",
          "name": "stderr",
          "text": [
            "100%|██████████| 124/124 [00:04<00:00, 26.33it/s]\n"
          ]
        },
        {
          "output_type": "stream",
          "name": "stdout",
          "text": [
            "Analyzing APPETITE_CHANGE texts\n"
          ]
        },
        {
          "output_type": "stream",
          "name": "stderr",
          "text": [
            "100%|██████████| 44/44 [00:02<00:00, 16.21it/s]\n"
          ]
        },
        {
          "output_type": "stream",
          "name": "stdout",
          "text": [
            "Analyzing SLEEP_ISSUES texts\n"
          ]
        },
        {
          "output_type": "stream",
          "name": "stderr",
          "text": [
            "100%|██████████| 102/102 [00:05<00:00, 19.00it/s]\n"
          ]
        },
        {
          "output_type": "stream",
          "name": "stdout",
          "text": [
            "Analyzing PSYCHOMOTOR texts\n"
          ]
        },
        {
          "output_type": "stream",
          "name": "stderr",
          "text": [
            "100%|██████████| 35/35 [00:02<00:00, 14.60it/s]\n"
          ]
        },
        {
          "output_type": "stream",
          "name": "stdout",
          "text": [
            "Analyzing FATIGUE texts\n"
          ]
        },
        {
          "output_type": "stream",
          "name": "stderr",
          "text": [
            "100%|██████████| 124/124 [00:07<00:00, 16.06it/s]\n"
          ]
        },
        {
          "output_type": "stream",
          "name": "stdout",
          "text": [
            "Analyzing WORTHLESSNESS texts\n"
          ]
        },
        {
          "output_type": "stream",
          "name": "stderr",
          "text": [
            "100%|██████████| 311/311 [00:16<00:00, 19.21it/s]\n"
          ]
        },
        {
          "output_type": "stream",
          "name": "stdout",
          "text": [
            "Analyzing COGNITIVE_ISSUES texts\n"
          ]
        },
        {
          "output_type": "stream",
          "name": "stderr",
          "text": [
            "100%|██████████| 59/59 [00:02<00:00, 24.62it/s]\n"
          ]
        },
        {
          "output_type": "stream",
          "name": "stdout",
          "text": [
            "Analyzing SUICIDAL_THOUGHTS texts\n"
          ]
        },
        {
          "output_type": "stream",
          "name": "stderr",
          "text": [
            "100%|██████████| 165/165 [00:07<00:00, 22.71it/s]\n"
          ]
        }
      ],
      "source": [
        "results = {}\n",
        "for symptom in SYMPTOMS:\n",
        "    print(f\"Analyzing {symptom} texts\")\n",
        "    results[symptom] = [\n",
        "        analyze_named_entities(text) for text in tqdm(texts_per_symptom[symptom])\n",
        "    ]"
      ]
    },
    {
      "cell_type": "code",
      "execution_count": 23,
      "id": "f2ceb18870531dbb",
      "metadata": {
        "id": "f2ceb18870531dbb",
        "outputId": "44d7ec80-c28d-4837-c3e2-33a541d05f98",
        "colab": {
          "base_uri": "https://localhost:8080/"
        }
      },
      "outputs": [
        {
          "output_type": "stream",
          "name": "stdout",
          "text": [
            "\n",
            "NO_SYMPTOMS\n",
            "ORG: 8.76%\n",
            "DATE: 33.57%\n",
            "CARDINAL: 15.16%\n",
            "ORDINAL: 5.63%\n",
            "GPE: 4.21%\n",
            "PERCENT: 1.91%\n",
            "TIME: 11.95%\n",
            "QUANTITY: 0.80%\n",
            "PERSON: 13.92%\n",
            "NORP: 1.19%\n",
            "PRODUCT: 0.77%\n",
            "FAC: 0.38%\n",
            "LANGUAGE: 0.04%\n",
            "WORK_OF_ART: 0.53%\n",
            "LOC: 0.24%\n",
            "LAW: 0.13%\n",
            "MONEY: 0.80%\n",
            "EVENT: 0.01%\n",
            "\n",
            "DEPRESSED_MOOD\n",
            "ORG: 6.84%\n",
            "DATE: 47.17%\n",
            "CARDINAL: 16.14%\n",
            "PERSON: 8.37%\n",
            "TIME: 8.50%\n",
            "GPE: 3.48%\n",
            "ORDINAL: 4.71%\n",
            "NORP: 1.39%\n",
            "FAC: 0.08%\n",
            "MONEY: 0.66%\n",
            "PRODUCT: 0.45%\n",
            "LOC: 0.43%\n",
            "EVENT: 0.02%\n",
            "PERCENT: 0.63%\n",
            "QUANTITY: 0.62%\n",
            "WORK_OF_ART: 0.37%\n",
            "LANGUAGE: 0.02%\n",
            "LAW: 0.11%\n",
            "\n",
            "ANHEDONIA\n",
            "ORDINAL: 3.16%\n",
            "DATE: 49.84%\n",
            "CARDINAL: 18.89%\n",
            "PERSON: 5.29%\n",
            "TIME: 7.06%\n",
            "ORG: 8.90%\n",
            "LOC: 0.37%\n",
            "GPE: 3.05%\n",
            "NORP: 1.27%\n",
            "QUANTITY: 0.65%\n",
            "MONEY: 0.18%\n",
            "PERCENT: 0.45%\n",
            "PRODUCT: 0.73%\n",
            "EVENT: 0.10%\n",
            "LANGUAGE: 0.08%\n",
            "\n",
            "APPETITE_CHANGE\n",
            "CARDINAL: 19.98%\n",
            "ORG: 9.56%\n",
            "GPE: 1.86%\n",
            "DATE: 46.94%\n",
            "TIME: 6.19%\n",
            "QUANTITY: 2.17%\n",
            "PERSON: 6.64%\n",
            "ORDINAL: 4.32%\n",
            "PERCENT: 0.61%\n",
            "LOC: 0.08%\n",
            "FAC: 0.08%\n",
            "MONEY: 0.34%\n",
            "NORP: 0.55%\n",
            "EVENT: 0.67%\n",
            "\n",
            "SLEEP_ISSUES\n",
            "TIME: 33.17%\n",
            "CARDINAL: 13.97%\n",
            "ORG: 6.01%\n",
            "DATE: 31.78%\n",
            "LOC: 0.10%\n",
            "ORDINAL: 1.84%\n",
            "EVENT: 0.27%\n",
            "GPE: 2.99%\n",
            "PERSON: 6.53%\n",
            "NORP: 1.66%\n",
            "MONEY: 0.50%\n",
            "QUANTITY: 0.71%\n",
            "PERCENT: 0.17%\n",
            "WORK_OF_ART: 0.22%\n",
            "FAC: 0.07%\n",
            "PRODUCT: 0.01%\n",
            "\n",
            "PSYCHOMOTOR\n",
            "WORK_OF_ART: 0.47%\n",
            "CARDINAL: 10.94%\n",
            "DATE: 41.58%\n",
            "NORP: 0.33%\n",
            "ORG: 10.50%\n",
            "ORDINAL: 7.72%\n",
            "GPE: 1.01%\n",
            "QUANTITY: 0.05%\n",
            "PERCENT: 1.73%\n",
            "LANGUAGE: 2.46%\n",
            "TIME: 18.29%\n",
            "PERSON: 4.13%\n",
            "LOC: 0.10%\n",
            "EVENT: 0.05%\n",
            "LAW: 0.03%\n",
            "FAC: 0.03%\n",
            "MONEY: 0.60%\n",
            "\n",
            "FATIGUE\n",
            "ORDINAL: 2.30%\n",
            "TIME: 15.41%\n",
            "DATE: 44.40%\n",
            "ORG: 7.41%\n",
            "QUANTITY: 1.90%\n",
            "CARDINAL: 18.28%\n",
            "PERSON: 4.65%\n",
            "LOC: 0.60%\n",
            "PERCENT: 0.76%\n",
            "WORK_OF_ART: 0.27%\n",
            "NORP: 1.71%\n",
            "GPE: 2.21%\n",
            "FAC: 0.02%\n",
            "PRODUCT: 0.07%\n",
            "\n",
            "WORTHLESSNESS\n",
            "TIME: 7.54%\n",
            "ORDINAL: 5.94%\n",
            "DATE: 47.75%\n",
            "PERSON: 6.42%\n",
            "CARDINAL: 17.55%\n",
            "ORG: 6.91%\n",
            "LOC: 1.10%\n",
            "EVENT: 0.17%\n",
            "GPE: 2.27%\n",
            "MONEY: 0.40%\n",
            "WORK_OF_ART: 1.16%\n",
            "PRODUCT: 0.11%\n",
            "PERCENT: 0.58%\n",
            "QUANTITY: 0.76%\n",
            "NORP: 0.84%\n",
            "FAC: 0.16%\n",
            "LANGUAGE: 0.36%\n",
            "\n",
            "COGNITIVE_ISSUES\n",
            "DATE: 41.27%\n",
            "ORG: 8.85%\n",
            "CARDINAL: 14.62%\n",
            "GPE: 1.00%\n",
            "TIME: 11.93%\n",
            "ORDINAL: 2.56%\n",
            "NORP: 2.22%\n",
            "PERSON: 6.63%\n",
            "QUANTITY: 3.95%\n",
            "MONEY: 1.35%\n",
            "EVENT: 0.22%\n",
            "LOC: 2.22%\n",
            "PERCENT: 3.10%\n",
            "LANGUAGE: 0.08%\n",
            "\n",
            "SUICIDAL_THOUGHTS\n",
            "DATE: 49.80%\n",
            "ORDINAL: 5.97%\n",
            "CARDINAL: 18.07%\n",
            "ORG: 6.60%\n",
            "GPE: 3.48%\n",
            "TIME: 5.21%\n",
            "MONEY: 0.43%\n",
            "PERCENT: 1.61%\n",
            "PERSON: 6.07%\n",
            "QUANTITY: 0.76%\n",
            "WORK_OF_ART: 0.19%\n",
            "FAC: 0.07%\n",
            "NORP: 0.62%\n",
            "LOC: 0.72%\n",
            "PRODUCT: 0.42%\n"
          ]
        }
      ],
      "source": [
        "for symptom, result in results.items():\n",
        "    total_entity_type_percentages = Counter()\n",
        "    most_referenced_entities = {}\n",
        "\n",
        "    for entity_type_percentages, most_referenced_entity in result:\n",
        "        total_entity_type_percentages.update(entity_type_percentages)\n",
        "\n",
        "        if most_referenced_entity:\n",
        "            most_referenced_entities[\n",
        "                texts_per_symptom[symptom][\n",
        "                    result.index((entity_type_percentages, most_referenced_entity))\n",
        "                ]\n",
        "            ] = most_referenced_entity\n",
        "\n",
        "    total_entities_across_texts = sum(total_entity_type_percentages.values())\n",
        "    overall_entity_type_percentages = {\n",
        "        ent_type: count / total_entities_across_texts * 100\n",
        "        for ent_type, count in total_entity_type_percentages.items()\n",
        "    }\n",
        "\n",
        "    print(f\"\\n{symptom}\")\n",
        "    for ent_type, percentage in overall_entity_type_percentages.items():\n",
        "        print(f\"{ent_type}: {percentage:.2f}%\")"
      ]
    },
    {
      "cell_type": "code",
      "source": [
        "import matplotlib.pyplot as plt\n",
        "import seaborn as sns\n",
        "import pandas as pd\n",
        "\n",
        "# Data in dictionary format\n",
        "data = {\n",
        "    \"Entity Type\": [\"ORG\", \"DATE\", \"CARDINAL\", \"ORDINAL\", \"GPE\", \"PERCENT\", \"TIME\", \"QUANTITY\", \"PERSON\", \"NORP\", \"PRODUCT\", \"FAC\", \"LANGUAGE\", \"WORK_OF_ART\", \"LOC\", \"LAW\", \"MONEY\", \"EVENT\"],\n",
        "    \"NO_SYMPTOMS\": [8.76, 33.57, 15.16, 5.63, 4.21, 1.91, 11.95, 0.80, 13.92, 1.19, 0.77, 0.38, 0.04, 0.53, 0.24, 0.13, 0.80, 0.01],\n",
        "    \"DEPRESSED_MOOD\": [6.84, 47.17, 16.14, 4.71, 3.48, 0.63, 8.50, 0.62, 8.37, 1.39, 0.45, 0.08, 0.02, 0.37, 0.43, 0.11, 0.66, 0.02],\n",
        "    \"ANHEDONIA\": [8.90, 49.84, 18.89, 3.16, 3.05, 0.45, 7.06, 0.65, 5.29, 1.27, 0.73, 0.00, 0.08, 0.00, 0.37, 0.00, 0.18, 0.10],\n",
        "    \"APPETITE_CHANGE\": [9.56, 46.94, 19.98, 4.32, 1.86, 0.61, 6.19, 2.17, 6.64, 0.55, 0.34, 0.08, 0.08, 0.00, 0.67, 0.08, 0.61, 0.00],\n",
        "    \"SLEEP_ISSUES\": [6.01, 31.78, 13.97, 1.84, 2.99, 0.17, 33.17, 0.71, 6.53, 1.66, 0.50, 0.22, 0.01, 0.07, 0.27, 0.10, 0.71, 0.01],\n",
        "    \"PSYCHOMOTOR\": [10.50, 41.58, 10.94, 7.72, 1.01, 1.73, 18.29, 0.05, 4.13, 0.33, 0.60, 0.03, 2.46, 0.47, 0.05, 0.10, 0.60, 0.05],\n",
        "    \"FATIGUE\": [7.41, 44.40, 18.28, 2.30, 2.21, 0.76, 15.41, 1.90, 4.65, 1.71, 0.07, 0.02, 0.27, 0.07, 0.02, 0.60, 1.90, 0.00],\n",
        "    \"WORTHLESSNESS\": [6.91, 47.75, 17.55, 5.94, 2.27, 0.58, 7.54, 0.76, 6.42, 0.84, 0.40, 0.16, 0.36, 1.16, 0.17, 1.10, 0.58, 0.11],\n",
        "    \"COGNITIVE_ISSUES\": [8.85, 41.27, 14.62, 2.56, 1.00, 3.10, 11.93, 3.95, 6.63, 2.22, 1.35, 0.22, 0.08, 0.00, 0.22, 0.22, 0.60, 0.00],\n",
        "    \"SUICIDAL_THOUGHTS\": [6.60, 49.80, 18.07, 5.97, 3.48, 1.61, 5.21, 0.76, 6.07, 0.62, 0.43, 0.07, 0.19, 0.00, 0.05, 0.72, 0.42, 0.43]\n",
        "}\n",
        "\n",
        "# Convert to DataFrame\n",
        "df = pd.DataFrame(data)\n",
        "\n",
        "# Convert from wide to long format\n",
        "df_melted = df.melt(id_vars=[\"Entity Type\"], var_name=\"Symptom\", value_name=\"Percentage\")\n",
        "\n",
        "# Set plot style\n",
        "sns.set(style=\"whitegrid\")\n",
        "\n",
        "# Create the plot\n",
        "plt.figure(figsize=(10, 6))\n",
        "ax = sns.barplot(data=df_melted, x=\"Percentage\", y=\"Entity Type\", hue=\"Symptom\")\n",
        "\n",
        "# Title and labels\n",
        "plt.title(\"Comparison of Named Entity Type Percentages Across Symptoms\")\n",
        "plt.xlabel(\"Percentage\")\n",
        "plt.ylabel(\"Entity Types\")\n",
        "plt.legend(title=\"Symptom\")\n",
        "\n",
        "# Show the plot\n",
        "plt.show()\n"
      ],
      "metadata": {
        "id": "OxEIeTDjBhna",
        "outputId": "8046b6be-e720-45f4-b806-375fe953823f",
        "colab": {
          "base_uri": "https://localhost:8080/",
          "height": 573
        }
      },
      "id": "OxEIeTDjBhna",
      "execution_count": 24,
      "outputs": [
        {
          "output_type": "display_data",
          "data": {
            "text/plain": [
              "<Figure size 1000x600 with 1 Axes>"
            ],
            "image/png": "[encoded data removed]"
          },
          "metadata": {}
        }
      ]
    }
  ],
  "metadata": {
    "kernelspec": {
      "display_name": "Python 3 (ipykernel)",
      "language": "python",
      "name": "python3"
    },
    "colab": {
      "provenance": []
    }
  },
  "nbformat": 4,
  "nbformat_minor": 5
}