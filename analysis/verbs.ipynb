{
 "cells": [
  {
   "cell_type": "markdown",
   "id": "3695f268",
   "metadata": {},
   "source": [
    "<a href=\"https://colab.research.google.com/github/eliseobao/redsm5/blob/main/analysis/linguistic/verbs.ipynb\" target=\"_parent\"><img src=\"https://colab.research.google.com/assets/colab-badge.svg\" alt=\"Open In Colab\"/></a>"
   ]
  },
  {
   "cell_type": "markdown",
   "id": "f6aa49795f8ff4ea",
   "metadata": {
    "collapsed": false
   },
   "source": [
    "# Verbs Usage Analysis\n",
    "\n",
    "This notebook will guide you through analyzing the usage of verbs in the ReDSM5 dataset. We will use the `spaCy` library to process and analyze the text data.\n",
    "\n",
    "## Setup\n",
    "\n",
    "First, we need to set up the environment and install the necessary libraries."
   ]
  },
  {
   "cell_type": "code",
   "execution_count": 10,
   "id": "d1fe1600",
   "metadata": {},
   "outputs": [],
   "source": [
    "import os\n",
    "\n",
    "os.environ[\"SHELL\"] = \"/bin/bash\""
   ]
  },
  {
   "cell_type": "markdown",
   "id": "e6c6e4c8",
   "metadata": {},
   "source": [
    "## Installing Required Libraries\n",
    "\n",
    "We will install `spaCy` and download the English language model `en_core_web_sm`."
   ]
  },
  {
   "cell_type": "code",
   "execution_count": 11,
   "id": "7ddb941d9769558f",
   "metadata": {
    "collapsed": false,
    "is_executing": true
   },
   "outputs": [],
   "source": [
    "%%capture\n",
    "!pip install spacy\n",
    "!python3 -m spacy download en_core_web_sm"
   ]
  },
  {
   "cell_type": "markdown",
   "id": "480989fc",
   "metadata": {},
   "source": [
    "## Importing Libraries\n",
    "\n",
    "Next, we import the necessary libraries for our analysis."
   ]
  },
  {
   "cell_type": "code",
   "execution_count": 12,
   "id": "6d2bf74f9c0e15ac",
   "metadata": {
    "collapsed": false
   },
   "outputs": [],
   "source": [
    "import spacy\n",
    "import pandas as pd\n",
    "from tqdm import tqdm\n",
    "\n",
    "# Load the spaCy English language model\n",
    "nlp = spacy.load(\"en_core_web_sm\")"
   ]
  },
  {
   "cell_type": "markdown",
   "id": "b87126ca",
   "metadata": {},
   "source": [
    "## Defining Symptoms\n",
    "\n",
    "We define a list of symptoms that we will analyze. Each symptom corresponds to a category in our dataset."
   ]
  },
  {
   "cell_type": "code",
   "execution_count": 13,
   "id": "adaff64e",
   "metadata": {},
   "outputs": [],
   "source": [
    "SYMPTOMS = [\n",
    "    \"NO_SYMPTOMS\",\n",
    "    \"DEPRESSED_MOOD\",\n",
    "    \"ANHEDONIA\",\n",
    "    \"APPETITE_CHANGE\",\n",
    "    \"SLEEP_ISSUES\",\n",
    "    \"PSYCHOMOTOR\",\n",
    "    \"FATIGUE\",\n",
    "    \"WORTHLESSNESS\",\n",
    "    \"COGNITIVE_ISSUES\",\n",
    "    \"SUICIDAL_THOUGHTS\",\n",
    "]"
   ]
  },
  {
   "cell_type": "markdown",
   "id": "db6e5b37",
   "metadata": {},
   "source": [
    "## Loading Data\n",
    "\n",
    "We load the dataset from a CSV file and organize the texts by symptom."
   ]
  },
  {
   "cell_type": "code",
   "execution_count": 14,
   "id": "50320b52fab51b29",
   "metadata": {
    "collapsed": false
   },
   "outputs": [],
   "source": [
    "# Load the dataset\n",
    "data = pd.read_csv(\"data/redsm5.csv\")\n",
    "\n",
    "# Organize texts by symptom\n",
    "texts_per_symptom = {}\n",
    "for symptom in SYMPTOMS:\n",
    "    texts_per_symptom[symptom] = data.loc[\n",
    "        data[\"labels\"].str.contains(symptom), \"text\"\n",
    "    ].tolist()"
   ]
  },
  {
   "cell_type": "markdown",
   "id": "b9aa2d34",
   "metadata": {},
   "source": [
    "## Counting Verb Tenses\n",
    "\n",
    "We define a function to count the occurrences of past, present, and future tense verbs in a given text."
   ]
  },
  {
   "cell_type": "code",
   "execution_count": 15,
   "id": "e198b9a0ab624c26",
   "metadata": {
    "collapsed": false
   },
   "outputs": [],
   "source": [
    "def get_verb_counts(text):\n",
    "    \"\"\"\n",
    "    Count the occurrences of past, present, and future tense verbs in the given text.\n",
    "\n",
    "    Parameters:\n",
    "    - text (str): Input text to analyze.\n",
    "\n",
    "    Returns:\n",
    "    Tuple[int, int, int]: A tuple containing counts of past, present, and future tense verbs.\n",
    "    \"\"\"\n",
    "    past_count, present_count, future_count = 0, 0, 0\n",
    "    doc = nlp(text)\n",
    "\n",
    "    for token in doc:\n",
    "        # Checking the part-of-speech tag of each token\n",
    "        if token.tag_ == \"VBD\":  # Past tense\n",
    "            past_count += 1\n",
    "        elif token.tag_ == \"VBP\" or token.tag_ == \"VBZ\":  # Present tense\n",
    "            present_count += 1\n",
    "        elif token.tag_ == \"MD\":  # Modal (indicating future)\n",
    "            future_count += 1\n",
    "\n",
    "    return past_count, present_count, future_count"
   ]
  },
  {
   "cell_type": "markdown",
   "id": "aed1a270",
   "metadata": {},
   "source": [
    "## Analyzing Texts\n",
    "\n",
    "We analyze the texts for each symptom, counting the verbs and calculating the percentages of past, present, and future tense usage."
   ]
  },
  {
   "cell_type": "code",
   "execution_count": 16,
   "id": "15ec5c5207e29ccf",
   "metadata": {
    "collapsed": false
   },
   "outputs": [
    {
     "name": "stdout",
     "output_type": "stream",
     "text": [
      "Analyzing NO_SYMPTOMS texts\n"
     ]
    },
    {
     "name": "stderr",
     "output_type": "stream",
     "text": [
      "100%|██████████| 392/392 [00:28<00:00, 13.99it/s]\n"
     ]
    },
    {
     "name": "stdout",
     "output_type": "stream",
     "text": [
      "Analyzing DEPRESSED_MOOD texts\n"
     ]
    },
    {
     "name": "stderr",
     "output_type": "stream",
     "text": [
      "100%|██████████| 328/328 [00:14<00:00, 22.10it/s]\n"
     ]
    },
    {
     "name": "stdout",
     "output_type": "stream",
     "text": [
      "Analyzing ANHEDONIA texts\n"
     ]
    },
    {
     "name": "stderr",
     "output_type": "stream",
     "text": [
      "100%|██████████| 124/124 [00:03<00:00, 32.34it/s]\n"
     ]
    },
    {
     "name": "stdout",
     "output_type": "stream",
     "text": [
      "Analyzing APPETITE_CHANGE texts\n"
     ]
    },
    {
     "name": "stderr",
     "output_type": "stream",
     "text": [
      "100%|██████████| 44/44 [00:02<00:00, 21.89it/s]\n"
     ]
    },
    {
     "name": "stdout",
     "output_type": "stream",
     "text": [
      "Analyzing SLEEP_ISSUES texts\n"
     ]
    },
    {
     "name": "stderr",
     "output_type": "stream",
     "text": [
      "100%|██████████| 102/102 [00:04<00:00, 25.35it/s]\n"
     ]
    },
    {
     "name": "stdout",
     "output_type": "stream",
     "text": [
      "Analyzing PSYCHOMOTOR texts\n"
     ]
    },
    {
     "name": "stderr",
     "output_type": "stream",
     "text": [
      "100%|██████████| 35/35 [00:02<00:00, 17.48it/s]\n"
     ]
    },
    {
     "name": "stdout",
     "output_type": "stream",
     "text": [
      "Analyzing FATIGUE texts\n"
     ]
    },
    {
     "name": "stderr",
     "output_type": "stream",
     "text": [
      "100%|██████████| 124/124 [00:05<00:00, 21.75it/s]\n"
     ]
    },
    {
     "name": "stdout",
     "output_type": "stream",
     "text": [
      "Analyzing WORTHLESSNESS texts\n"
     ]
    },
    {
     "name": "stderr",
     "output_type": "stream",
     "text": [
      "100%|██████████| 311/311 [00:12<00:00, 24.28it/s]\n"
     ]
    },
    {
     "name": "stdout",
     "output_type": "stream",
     "text": [
      "Analyzing COGNITIVE_ISSUES texts\n"
     ]
    },
    {
     "name": "stderr",
     "output_type": "stream",
     "text": [
      "100%|██████████| 59/59 [00:02<00:00, 29.28it/s]\n"
     ]
    },
    {
     "name": "stdout",
     "output_type": "stream",
     "text": [
      "Analyzing SUICIDAL_THOUGHTS texts\n"
     ]
    },
    {
     "name": "stderr",
     "output_type": "stream",
     "text": [
      "100%|██████████| 165/165 [00:05<00:00, 31.21it/s]\n"
     ]
    }
   ],
   "source": [
    "results = {}\n",
    "\n",
    "for symptom, texts in texts_per_symptom.items():\n",
    "    print(f\"Analyzing {symptom} texts\")\n",
    "\n",
    "    total_past_count, total_present_count, total_future_count = 0, 0, 0\n",
    "\n",
    "    for text in tqdm(texts):\n",
    "        past_count, present_count, future_count = get_verb_counts(text)\n",
    "\n",
    "        total_past_count += past_count\n",
    "        total_present_count += present_count\n",
    "        total_future_count += future_count\n",
    "\n",
    "    total_verbs = total_past_count + total_present_count + total_future_count\n",
    "    past_percentage = (total_past_count / total_verbs) * 100\n",
    "    present_percentage = (total_present_count / total_verbs) * 100\n",
    "    future_percentage = (total_future_count / total_verbs) * 100\n",
    "\n",
    "    results[symptom] = {\n",
    "        \"total_verbs\": total_verbs,\n",
    "        \"past_percentage\": past_percentage,\n",
    "        \"present_percentage\": present_percentage,\n",
    "        \"future_percentage\": future_percentage,\n",
    "    }"
   ]
  },
  {
   "cell_type": "markdown",
   "id": "daeb6e0b",
   "metadata": {},
   "source": [
    "## Displaying Results\n",
    "\n",
    "Finally, we display the results of our analysis, showing the percentage of past, present, and future tense verbs for each symptom."
   ]
  },
  {
   "cell_type": "code",
   "execution_count": 17,
   "id": "bd240c54d61054ea",
   "metadata": {
    "collapsed": false
   },
   "outputs": [
    {
     "name": "stdout",
     "output_type": "stream",
     "text": [
      "\n",
      "Symptom: NO_SYMPTOMS\n",
      "Total Verbs: 23881\n",
      "Past Tense Percentage: 49.99%\n",
      "Present Tense Percentage: 38.96%\n",
      "Future Tense Percentage: 11.04%\n",
      "\n",
      "Symptom: DEPRESSED_MOOD\n",
      "Total Verbs: 13163\n",
      "Past Tense Percentage: 42.74%\n",
      "Present Tense Percentage: 46.40%\n",
      "Future Tense Percentage: 10.86%\n",
      "\n",
      "Symptom: ANHEDONIA\n",
      "Total Verbs: 3369\n",
      "Past Tense Percentage: 26.51%\n",
      "Present Tense Percentage: 61.83%\n",
      "Future Tense Percentage: 11.67%\n",
      "\n",
      "Symptom: APPETITE_CHANGE\n",
      "Total Verbs: 1706\n",
      "Past Tense Percentage: 40.33%\n",
      "Present Tense Percentage: 50.23%\n",
      "Future Tense Percentage: 9.44%\n",
      "\n",
      "Symptom: SLEEP_ISSUES\n",
      "Total Verbs: 3451\n",
      "Past Tense Percentage: 46.19%\n",
      "Present Tense Percentage: 43.03%\n",
      "Future Tense Percentage: 10.78%\n",
      "\n",
      "Symptom: PSYCHOMOTOR\n",
      "Total Verbs: 1761\n",
      "Past Tense Percentage: 40.55%\n",
      "Present Tense Percentage: 47.81%\n",
      "Future Tense Percentage: 11.64%\n",
      "\n",
      "Symptom: FATIGUE\n",
      "Total Verbs: 4727\n",
      "Past Tense Percentage: 39.37%\n",
      "Present Tense Percentage: 48.04%\n",
      "Future Tense Percentage: 12.59%\n",
      "\n",
      "Symptom: WORTHLESSNESS\n",
      "Total Verbs: 11762\n",
      "Past Tense Percentage: 36.32%\n",
      "Present Tense Percentage: 52.13%\n",
      "Future Tense Percentage: 11.55%\n",
      "\n",
      "Symptom: COGNITIVE_ISSUES\n",
      "Total Verbs: 1731\n",
      "Past Tense Percentage: 31.31%\n",
      "Present Tense Percentage: 55.98%\n",
      "Future Tense Percentage: 12.71%\n",
      "\n",
      "Symptom: SUICIDAL_THOUGHTS\n",
      "Total Verbs: 4786\n",
      "Past Tense Percentage: 30.55%\n",
      "Present Tense Percentage: 57.44%\n",
      "Future Tense Percentage: 12.01%\n"
     ]
    }
   ],
   "source": [
    "for symptom, data in results.items():\n",
    "    print(f\"\\nSymptom: {symptom}\")\n",
    "    print(f\"Total Verbs: {data['total_verbs']}\")\n",
    "    print(f\"Past Tense Percentage: {data['past_percentage']:.2f}%\")\n",
    "    print(f\"Present Tense Percentage: {data['present_percentage']:.2f}%\")\n",
    "    print(f\"Future Tense Percentage: {data['future_percentage']:.2f}%\")"
   ]
  }
 ],
 "metadata": {
  "kernelspec": {
   "display_name": "Python 3 (ipykernel)",
   "language": "python",
   "name": "python3"
  }
 },
 "nbformat": 4,
 "nbformat_minor": 5
}
