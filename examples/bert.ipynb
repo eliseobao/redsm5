{
  "cells": [
    {
      "cell_type": "markdown",
      "id": "f3adb47d",
      "metadata": {},
      "source": [
        "# 🔍 BERT for Multi-label Depression Symptom Detection with ReDSM5\n",
        "\n",
        "This notebook demonstrates how to fine-tune a BERT-based model for **multi-label classification of depression symptoms** using the `ReDSM5` dataset, a Reddit corpus annotated for the nine DSM-5 criteria for major depressive episodes.\n",
        "\n",
        "We walk through the full pipeline:\n",
        "- Loading and preprocessing the dataset,\n",
        "- Tokenizing posts using `bert-base-uncased`,\n",
        "- Wrapping inputs into a PyTorch-compatible `Dataset`,\n",
        "- Fine-tuning a `BertForSequenceClassification` model for multi-label classification,\n",
        "- Evaluating the model using standard classification metrics.\n",
        "\n",
        "This notebook serves as a reproducible baseline for the experiments presented in the [ReDSM5 paper](https://huggingface.co/irlab-udc/redsm5), and is intended for researchers and practitioners interested in interpretable, symptom-level mental health NLP.\n",
        "\n",
        "> ⚠️ This task is sensitive and related to mental health. The dataset should be used for research purposes only, with careful ethical considerations.\n"
      ]
    },
    {
      "cell_type": "markdown",
      "id": "c8126663",
      "metadata": {},
      "source": [
        "## 📦 Importing Dependencies\n",
        "\n",
        "In this section, we import all necessary Python libraries for data manipulation, model training, and evaluation. These include:\n",
        "- `pandas` for data handling,\n",
        "- `scikit-learn` for splitting data and evaluation metrics,\n",
        "- `torch` and `transformers` for building and fine-tuning the BERT model,\n",
        "- `tqdm` for progress bars during training."
      ]
    },
    {
      "cell_type": "code",
      "execution_count": 39,
      "id": "f7769541",
      "metadata": {
        "id": "f7769541"
      },
      "outputs": [],
      "source": [
        "import pandas as pd\n",
        "from sklearn.model_selection import train_test_split\n",
        "from sklearn.metrics import classification_report, accuracy_score\n",
        "from sklearn.preprocessing import MultiLabelBinarizer\n",
        "\n",
        "import torch\n",
        "import torch.nn as nn\n",
        "from torch.utils.data import DataLoader, Dataset\n",
        "from torch.optim import AdamW\n",
        "\n",
        "from transformers import BertTokenizer, BertForSequenceClassification\n",
        "from tqdm import tqdm"
      ]
    },
    {
      "cell_type": "markdown",
      "id": "712c1a0d",
      "metadata": {},
      "source": [
        "## 📊 Loading and Preparing the Dataset\n",
        "\n",
        "We load the `ReDSM5` dataset from a CSV file. Each row contains:\n",
        "- the Reddit post (`text`),\n",
        "- one or more DSM-5 symptom labels (`labels`),\n",
        "- and a sentence-level clinical explanation (`explanation`).\n",
        "\n",
        "We preprocess the `labels` column by splitting the semicolon-separated values into Python lists, allowing for multi-label classification. Then, we use `MultiLabelBinarizer` to convert these labels into binary vectors (one-hot style).\n",
        "\n",
        "Finally, we split the dataset into training and testing subsets (80/20 split) to prepare for model training and evaluation."
      ]
    },
    {
      "cell_type": "code",
      "execution_count": 40,
      "id": "bfb1fd5f",
      "metadata": {
        "colab": {
          "base_uri": "https://localhost:8080/",
          "height": 441
        },
        "id": "bfb1fd5f",
        "outputId": "145f0a30-2249-4eea-c001-be6865b1dbc8"
      },
      "outputs": [
        {
          "name": "stdout",
          "output_type": "stream",
          "text": [
            "Voices of Recov... ---> [0 0 0 0 0 1 0 0 0 0]\n"
          ]
        },
        {
          "data": {
            "application/vnd.microsoft.datawrangler.viewer.v0+json": {
              "columns": [
                {
                  "name": "index",
                  "rawType": "int64",
                  "type": "integer"
                },
                {
                  "name": "text",
                  "rawType": "object",
                  "type": "string"
                },
                {
                  "name": "labels",
                  "rawType": "object",
                  "type": "unknown"
                },
                {
                  "name": "explanation",
                  "rawType": "object",
                  "type": "unknown"
                }
              ],
              "ref": "c3633345-8294-4719-8441-3f3953163e6f",
              "rows": [
                [
                  "0",
                  "Voices of Recovery - Daily Meditation: Dec 20 December 20 Step Two offers hope that sanity is possible, and at the same time it implies that, in our addiction, we were insane. Sex Addicts Anonymous, page 25 When I first read this sentence, I had to pause and ask myself if I were truly insane. Step One required me to admit that I am a sex addict and a sexual anorexic, that I am powerless over these illnesses, and that my life is unmanageable by me. Since I believe that I am a sex addict and a sexual anorexic, that means I have a disease of the mind, body, and spirit that reacts very negatively to all sexual stimuli. For me, unhealthy sexual stimuli can lead to addictive sexual behaviors, and healthy sexual stimuli, such as sexual intimacy with my husband, can lead to sexual avoidance or addictive sexual behaviors. But, being a sex addict also means I have a mental obsession with sexual stimuli of all kinds. To me, thats like someone with a peanut allergy having a mental obsession with finding and eating peanuts. Wouldnt I call that person insane? Yes, I would. So it clearly means that I am, in fact, insane. Without God and the SAA program, my default desires are to harm myself with addictive sexual behavior and starve myself of healthy sexuality. Believing God can restore me to sanity means believing that God will change my whole being so that I no longer desire harmful sexual stimuli and I no longer avoid nurturing sexual stimuli, one day and one step at a time. May I be willing to go to any lengths today to be restored to sanity.",
                  "['NO_SYMPTOMS']",
                  "The previous post would suggest the presence of a loss of interest in sex by a sexual disorder. However, the information and meaning of this post do not express the loss of pleasure in sex. For this reason, it is not possible to affirm the sexual disorder related to Major depressive disorders as the second symptom of criteria for diagnosis in the DSM-5. Although this comment expresses a possible loss of interest in sex by changes in sexual behavior, in this context, the person affirms the high sexual activity that could be related to a sexual disorder. For This reason, it is not possible to confirm the presence of major depressive symptoms as the markedly diminished interest in pleasure according to DSM-5."
                ],
                [
                  "1",
                  "Our Blind Spot [part four] [Part One](<URL>)\n[Part Two](<URL>)\n[Part Three](<URL>)\n---\nIt took three months to get them to trust me. Three months spent in virtual isolation; three months spent eating one step better than garbage just to survive. I figured makeshift prisons run by Chinese rebels would hardly be luxurious, but those three months will haunt my sleep if I survive this. Until the day this struggle ends, there are far worse nightmares to faceand while awake. That Starbucks, that day, those seven Venti coffees; I broke something in myself three months ago while sitting at that table guzzling stimulant. Out the window and across the street I could see ramshackle ghettos, while on my side of the divide everything was clean, bright, and happy. Each coffee subtly changed that dynamic. I would say that the ideal level of caffeination for busy-bee workers is somewhere between half a Venti black coffee at minimum and two full ones at maximum. While in that range, every sip I took gradually shrank my awareness in a way only an experienced caffeine addict could notice. Creativity and thinking outside the box became slightly harder while focusing on specific mundane tasks became slightly easier. In that regard, I almost became more concerned with writing down my changing symptoms than with actually drinking the coffee. It took an act of will to force myself to proceed. I'd kicked caffeine for the first time in years, but now I'd given myself back to it, and my brain was very happy with the flood of energy. It wanted to enjoy the high; it did not want to keep drinking with the specific intent to make myself sick. Nevertheless, I began gulping more even as my pulse rose and my fingers began subtly shaking. The third full coffee brought the change in the world's tone to a noticeable level. The bright colors had faded in favor of greys and browns, and the street outside was dingy and cracked in small ways I had not noticed before. The ghetto across from me remained horrible; I watched a haggard mother hang laundry on a high rope strung between two rotting wooden spires. Each breath brought that surge of fire I recognized as the limit of caffeination, and I had to carefully regulate myself to keep my heart rate down. For now, I was still fine, but I was only at three of seven coffees. Taking a deep breath, I chugged the fourth. The tilt in my perceptions nearly made me slide from my seat. The world had not shifted physically, but my sense of myself within it certainly had. Looking around, I sighted for the first time bits of garbage, rust, and decay on my side of the divide. People walking on the streets didn't seem to notice; one stepped in what looked like dog excrement but continued walking without bothering to scrape it off. I watched three workers inside the Starbucks itself ignore a small pile of trash that customers kept stepping on. But still I was submerged in a long, deep, and slow river of complacency. My body was agitated, but my mind was full of excuses not to notice, mention, or otherwise regard these strange discrepancies. Downing the fifth coffee rapidly as a way of surprising myself and breaking through that submersion, I clutched the edges of control to stay centered. Each gasp brought oxygen, while each exhalation brought fuzziness at the edges of my vision. I began to feel claustrophobic and unsafe. Rusted corners and smelly bits of garbage made themselves prominent in my awareness; I slung my bag and grabbed my two remaining coffees and stumbled out onto the street. The sub-provincial city of Guangzhou no longer looked to me as all the others that I had visited. I could see character now, mostly in aged buildings off the main path, and the bright colors and cleanliness had been stripped away. This place was run down and industrial, and I had not seen it as such until my fifth coffee. The sixth filled me with very unpleasant internal heat. I'd come here ostensibly to investigate a claim that had caught my eye; I was within a block of that location, and wandered along my side of the street opposite the ghetto to investigate the site of the supposed accident. It was a simple alleyway, much like the one in Jerusalem, but this one held stacks of garbage and low pools of unidentifiable filth. I braved the muck to search the walls, and, this time, I was ready when I found the unknown invisible vines. Here goes nothing, indeed. I kept my eyes on the wall and downed my seventh and final coffee. The pain in my head became two directed blades moving through my forehead and temples. I winced, but kept my gaze forward. I needed to see this. If seven coffees didn't blow open the flaw in the lie, nothing would. Someone had pulled the wool over my eyes, and forcing it out of my system was the only way. Shivering horribly and fighting a body-wide surge of dangerous over-stimulation, I watched with triumph as patchwork lines began to weave themselves into existence before me. It was the same material that the doctor in Zimbabwe had found in Kudakwashe's throat. I knew it immediately. It ran along the walls like vines of ivy, but, as the doctor had said, it looked to be some sort of neural tissue. Somehow, it had the ability to hide itself from perception. This was what I'd stabbed into on that Zimbabwean rooftop, and this was what had made everyone around it scream and run at me to defend it. How had it done that? Did it generate some kind of neural field to blanket our senses? What *was* this stuff? Clenching my fists to keep a hold of myself against the tide of caffeine, I followed the neural vines higher and higher with my sight. They'd grown over this building, in the alley in Jerusalem, and high up in Zimbabwe. Where else might these spots of infection be growing? I stepped out of the fetid alley to follow its run further, but froze in horrified awe as I got my first unedited visual of the sub-city. There were two perceptions there; one, the faux clean clone, the other a monstrously overgrown hive. My vision flickered as I tried to comprehend what I was seeing: *a veritable jungle of hanging neural vines, conduits, and pillars had grown across the entire city.* Thick masses hung between high buildings; curving nerves spread out fractally along nearby streets. The shock and the caffeine combined were too much. I fell to my knees at the whim of a body-wide seizing vomit. Worse, the pain in my temples had become what felt like motion, and a writhing therein made me scream and grip myself to fight for sanity. Static blurred my sight, random voices shouted in my hearing, and two long worms of strange tissue burrowed out the sides of my eyes, fell to the dirty street, and shriveled up. Drops of blood fell straight down from my vision as I stared at what had just crawled out of my temples and died on the ground before me. The caffeine wracked me with pain, but I knew now that I'd done it: I'd poisoned myself hard enough that my perceptions had finally become clear. What the hell were they? Entities in their own right? Or just some form of connection to the previously invisible neural jungles growing all over the world? Had the human race evolved some sort of literal group hive mind, or were we under attack by something else? The madman. He'd written of this. He'd been intent on cutting the neural fibers out of my eyes directly. That's what he'd done to himself, and that was how he'd gained the ability to truly *see.* I'd chosen another route, but it had not been without its risks. I threw up twice more before losing consciousness on the sidewalk. Four hundred and fifteen milligrams of caffeine in a Venti black coffee, and I'd had seven. Five grams was a potentially lethal dose, and I'd had at least sixty percent of that. I descended into darkness with nothing but a small hope that my years as a coffee addict would see me through this. The first question I became aware of was simple. \" How did you do that?\" Several periods of blurred consciousness brought me to waking in a sealed underground parking lot that looked like it had never been finished. The man who had spoken was not present, but he soon visited with food and water. He asked again in perfect English, \"How did you do that?\" I shook with the after-effects of caffeine near-overdose, but managed to respond, \"Do what?\" He kicked me in the ribsnot too hard, just enough to show that he was seriousand I said, \"I'll tell you, just please clarify!\" He moved his wrinkled but hardened face closer and tapped my temple. \" Removed your blinders.\" I winced at his touch before realizing the implications of his question. \" Wait, you're aware of them? Do you also see the world as it truly is?\" He gave me another sharp kick. \" I've tortured better men than you until they wished for death. Understand your position. I ask, you tell.\" I nodded in acceptance. \" I, uh, took sixty percent of a lethal dose of caffeine.\" His glare was sharp. \" How did you calculate a lethal dose? The same amount for others may kill them.\" \"It was just a guess based on articles I've read,\" I protested, staving off another kick. \" I've been addicted to caffeine for years, so I may have withstood it better.\" He pulled back. \" So her story was true. She watched you from our side of the border, and she said you drank coffee until you became violently ill.\" I held up my hands to ward off the bright light that his change in position had cast upon me. \" Now a silhouette, he asked, \"And what did you see?\" \"Look,\" I told him, trying to think quickly. \" I don't think you and I are enemies. I've been pursued by crazy people, got my finger cut off, my ear sliced, some guy wanted to cut my eyesI have *no idea* what's going on, but I do think the human race is in serious trouble. There areGod, there's like some sort of infestation out thereit's everywhere! I think we're under attack!\" He gave a dark laugh and moved away, saying, \"You just saved your life, and you don't even know why.\" A door slammed somewhere distant, and I was left alone in a poorly lit crumbled stone prison. I walked the length of my confinement for a few hours, finding a scattering of shitty fluorescent lights illuminating empty parking spots and incomplete stairwells. Some of these stairwells led up toward daylight very *very* high up, but nothing but sheer concrete and the occasional rotting foothold presented itself. They had no guards on this exit for a reason: the climb was suicide. An entire month passed before I received my next visitor. I was self-aware of the effects that solitary confinement was having on me, but this was no hallucination. The same man opened a door, but only his guest came inside; that creature that had once crawled out of my severed pinky finger now skittered into the room on bone-white blade-like legs. Ivory eyes watched me unblinking, and I heard its voice in my head again: *Are you done playing the fool?* There was no escape this time, but I still moved back a few steps. \" After a thought, I added, \"I understand what you meant now by my senses betraying me. I've seen it.\" The question now is whether you are a double agent. It is exceedingly rare that a human being breaks free from the Entity on its own. Would you have us believe you are just that smart?* I looked past the Bonewalker toward the door where my human former interrogator stood. He seemed very uncomfortable with the creature's presence, and nodded for me to speak carefully. I finally said, \"A little smart, but mostly just way too addicted to caffeine.\" It seemed to accept that answer. * You spoke of a man that tried to cut your eyes.* *Describe him.* I gave it the best description I could of the man with the wild glee and surgical knife, but I couldn't tell what it thought of my words. It left immediately, this time jumping into a small open wound on the man at the door's arm; he shivered, pulled a bandage over it, and closed the door. Was he a guard? Or someone higher level? If the crazy doctor was someone this group wanted, then I might have been regarded as a very important prisoner. Indeed, the quality of my given food rose, and guards came in to play cards with me and keep me company. I understood that this was both luxury for my information and a test of my true character; I made sure to be completely honest about every single thing they asked me. I had nothing to hide. I even told them about the breakup, and my hollow reactions to it. At the end of the second month, the Bonewalker returned. This time, I was in the open-topped stairwell standing in the rain, but it didn't seem to care about the falling liquid. * The guards seem to think you're not a liar.* I'd had plenty of time to craft my strategy. \" Tell me one thing. I assume the Entity is something related to the neural fibers growing all over the world. Are you opposed to it?\" The creature's ivory eyes gave no hint of connotation or elaboration. * \"Then that means we're on the same side,\" I told it, taking a risk. \" Regardless of whatever organization or power structure you've got control of.\" *You would choose the more personable of two dooms?* it asked. * You will remain untreated, for it can sense the blood-bond. None of my humans can ever truly be a part of its society.* There was a chance I would come off as a double agent fishing for information, but I also genuinely wanted to know. \" How much do you control?\" *Thirty percent.* So the ghettos had been made terrifying in our perceptions on purpose to separate us from the opposition. \" Thirty percent of China, that's a sizable\"\n*Of the Earth,* it responded. A clicking followed, a sound I took to be laughter. * You're not a double agent. You're too full of yourself, like most humans. Know that you will be watched, and if you betray us, you will die in the manner you are most afraid of.* Could it see that? Could it see my fears? I gulped as it crawled away without another word. And what of being watched? Did it mean I was to be released? The third month was full of tension and confusion. Gone were the guards and the visits. Had I done something wrong? Finally, the man who had first interrogated me dragged me out the door and up a long set of stairs to release me into a moderately disheveled area that I might once have seen as ruined and horrible. After undoing a temporary pair of handcuffs, he told me, \"That doctor has a special interest in you. Let him find you, then bring him to us. He is very important to this fight.\" I nodded, and accepted money and a folded set of clothes from him. \"And take a shower,\" he said as a final note of goodbye. \" I did reekbut there was wind to carry the smell away and a sun in the sky. I was free. Wandering the streets and watching the poor go about their lives the best they could with what they had on hand, I realized that life was precious. I'd been doing nothing with it since I'd been hollowed out by someone I'd loved, and yet here there were people that did not have the suits or the offices or the coffeepeople making do, raising kids, and having afternoon chats from window to window. This was the Bonewalker's territory, and it was not altogether bad. The divide between territories was stark. Neural masses hung from building to building directly across the final street, and I could see raised lines of parasitic flesh along the temples of passersby. My God, it hadn't been a caffeine nightmare! Seventy percent of the Earth had been overtaken by an infection of unknown proportions, and the other thirty percent held fast only under the vicious rule of the Bonewalker. Where was the human spirit in all this? Where was *our* faction? Eyes were upon me even thenfrom both sidesso I resolved to keep my counsel to myself. If there was to be one at all, I had to be the start of our faction. I'd figured this out myself, freed my own perceptions through risk and calculated daring, and I'd dodged the Bonewalker's control as well. I knew who my first true ally would be, too: the very man that creature wanted. Who are you, Doctor? What do you have that both these nightmares want? I've left enough keywords in this for you to find it, and I know you're obsessive enough to contact me despite the risk. I'm back in the States, and I have a suspicion you know where to find me. ---\n[+](<URL>)[+](<URL>)[+](<URL>)",
                  "['PSYCHOMOTOR']",
                  "Psychomotor agitation is a characteristic symptom of many people with depression since when they develop depressive symptoms and depressed moods, their behavior is altered, and they may have tremors, restlessness when walking, move without being able to stop and present mental agitation. These behaviors constitute the fifth symptom of criterion A for the DSM-5 diagnosis of major depression."
                ],
                [
                  "2",
                  "Health update I'm getting so much better. Even little things like my skin not being so damn see through, my pigment is coming back. :) I've noticed so many positive changes, especially with my gut and my mind. The brain fog is gone. I can concentrate, I feel sane and normal again. I am finally getting some energy back, I still get some serious fatigue almost everyday between 3-6. Today was amazing. First day I woke up without stomach pain that lasts for hours! It's been 8.5 days with a candida friendly paleo ish diet and I gotta say, as a sugar/carb addict this has been as hard as quitting smokes, but honestly so worth it. I've gotten back in touch with my cooking side and have had fun doing weird shit I've always wanted to do like toast and grind my own millet, I burnt a bunch too! I feel like I've been under some moldy tarp and finally the air roots of this orchid popped through. I'll be back real soon. Right in time for the flowers :)\nStruggles I'm having are definitely die off symptoms from the Candida, some serious fucking cravings, porn like dreams of whipped cream, and just overall hunger from no carbs (30g/day avg), and of course feeling chained to my kitchen.",
                  "['NO_SYMPTOMS']",
                  "The person who wrote this post claims to have good concentration and to feel healthy, so there is no reference to loss of cognitive ability or deteriorated mood in the last two weeks. Therefore, this statement cannot be considered a manifestation of a depressive symptom in line with the DSM-5."
                ],
                [
                  "3",
                  "Dude, I can't even tell you the last time something had my complete attention. I watch movies / games at home and I'm barely even into it cause I have my phone and computer with me and continuously get distracted. A little overdramatic but I definitely feel like I don't enjoy anything the way I used to. I'm just disengaged most of the time.",
                  "['ANHEDONIA']",
                  "This post suggests that this person is developing a significant change in motivation and markedly diminished interest and pleasure. This problem could be a consequence of depressive mood related to the diagnosis of major depressive disorder. This disorder is in the DSM-5, and this post is related to the second symptom for the diagnosis of the disorder."
                ],
                [
                  "4",
                  "My sadness is immeasurable and my day is ruined.",
                  "['DEPRESSED_MOOD']",
                  "This post describes intense pain and immeasurable sadness, which may be a symptom of criterion A for the diagnosis of major depressive disorder in the DSM-5. This manual explains that people with major depression develop profound sadness, and it causes significant deterioration in the person and their environment."
                ],
                [
                  "5",
                  "That doesn't give you any real security and I doubt any real fire protection, either. In other words, you're getting what you paid for it. It will work for *storing* your silver, but not *securing* it. There's a big difference. Just my worthless opinion.",
                  "['NO_SYMPTOMS']",
                  "The term \"useless\" used in the publication is a word in a specific situation and is not a generalized emotion about one's ability. For this reason, this phrase is not relevant as a depressive symptom since it does not meet the criteria for major depressive disorder in the DSM-5."
                ],
                [
                  "6",
                  "I am going to get on disability. So I will be able to support myself. My plan is to have enough pain management that I can work a couple days a week under the table as well. The distance is the main issue. We would still be able to follow through with our plans. I will just be low energy most of the time, I could need surgeries, and I may fall down in the shower once in a while. There is no cure for what I have but it is fairly manageable.",
                  "['NO_SYMPTOMS']",
                  "Although the previous publication indicates tiredness, this symptom corresponds to a physical condition of organic origin and is not based on a depressed emotional state. Thus, it is not possible to relate this behavior to depressive symptomatology, as mentioned in the DSM-5 for major depressive disorder."
                ],
                [
                  "7",
                  "Something I've noticed about my depression I feel like everyone thinks they can relate to what I'm feeling. Any time I tell someone of my insecurities, they reflect with \"I feel that way too,\" or \"Everyone gets that way sometimes.\" They don't realize that it eats me alive. I can't live with my mistakes, myself. You might not think your pretty, but I think I'm freakishly hideous. You might not want to get out of bed, but I don't want to wake up in the morning. You might feel embarrassed by an awkward first encounter, but I can't stop thinking about it until I crumble. You might wonder if someone does or doesn't like you, I pray that someone in the world can stand to be around me. And no matter what I say, no one seems to understand the gravity of my fears and pain.",
                  "['WORTHLESSNESS']",
                  "This person is going through a personal moment that can be difficult. The above statement allows us to infer that this person feels sad and has generalized feelings of self-criticism, which are related to the seventh symptom of criterion A for the diagnosis of major depressive disorder of the DSM-5."
                ],
                [
                  "8",
                  "Trying to force my workout today from just completely not having the mental energy yesterday and wasting it, but I feel so weak and worn down and I dont know why. Its frustrating, I think that weak worn down feeling is what made me just not want to get off my ass yesterday. Ive made ample progress lately but because I was sedentary for a few days, or maybe overtrained? Though I dont feel like I was anywhere close to overtraining. I just feel so worthless and pathetic all of a sudden",
                  "['WORTHLESSNESS']",
                  "According to the diagnostic criteria for major depressive disorder, this phrase could be the manifestation of a symptom of worthlessness and failure, characteristic of the seventh symptom of criterion A of the disorder, which refers to generalized thoughts and feelings of failure. These thoughts persist for at least two weeks and can cause significant distress."
                ],
                [
                  "9",
                  "I don't get enough sleep",
                  "['SLEEP_ISSUES']",
                  "In this post, it is possible to infer insomnia, a significant behavioral change related to the clinical profile of depressive mood. Following the criteria of Major depressive disorder, this person could be developing the third symptom of this disorder. If this behavior persists over time for more than two weeks, this person meets this depressive symptom."
                ],
                [
                  "10",
                  "I cry everytime I see this.",
                  "['DEPRESSED_MOOD']",
                  "The person writing this post indicates a feeling of sadness and uncontrolled crying. This feeling could be an indicator of a depressed mood symptom of major depressive disorder. The DSM-5 mentions uncontrolled crying as one of the core symptoms of depression. Likewise, this symptom lasts for more than two weeks and affects most activities of the day."
                ],
                [
                  "11",
                  "I feel hopeless... A prisoner of my mind. I don't really know where to start, but I'll try anyway. I was diagnosed with Psychosis NOS about a year and a few months ago, then it progressed into a diagnosis of basically schizophrenia, to put it bluntly. With schizophrenia we have 2 blocks of symptoms, negative and positive. Negative is basically, lack of emotion, extreme lack of motivation, poor hygiene, disorganization (which Is pretty strong for me, stronger than the other negative symptoms) etc. Positive symptoms are just basically psychosis. Anyway, because of this, I had do drop out of school, as directed by my doctors. I lost most of my friends, except one and he has always been my best friend, but he's just came back into the picture (which is great btw, when you've been in extreme isolation for a year that shit will touch your heart more than anything). Being in extreme isolation and barely getting sunlight other than the sun rays coming through my window, is extremely depressing especially when you're not in an episode and have to reflect on how this has affecting your life...\nI've just started getting tutoring back in my school, once a week... I don't see the point in going back to school any more, I'm already behind everyone, people think I'm stupid because I don't go to school (even though I've learned a lot of stuff on my own in the past year). Schizophrenia (with depression, but depression hasn't been diagnosed, it's probably depression because of the schizophrenia). I feel absolutely hopeless, it's like I can't get something inside my head out... I just want to be normal again, but there's always something inside my mind stopping me. I used to think I would have a good career, have a good life etc... That's all completely ruined now. I'll answer any question to clarify anything... Thank you.",
                  "['DEPRESSED_MOOD']",
                  "This comment could be a manifestation of pessimism, which is often associated with major depressive disorder. Expressions of hopelessness about the future, such as believing that one's aspirations for a good career or life are \"completely ruined,\" may reflect a negative vision and loss of hope, which are common cognitive symptoms of depression. This type of thinking can contribute to or be part of the broader depressed mood and feelings of worthlessness seen in MDD."
                ],
                [
                  "12",
                  "They're incomprehensible, illogical and erratic. But these are my thoughts and I want to share them. Tell me what its like to look in the mirror and hate everything that you see. Tell me how it feels to know that for every second of happiness you are going to have an hour of suffering. What does it feel like to look around yourself, see the people that care for you, but theyre so far away. You scream and yell and cry but they cant hear you. Theyre looking, looking for you. Where did you go? What happened to the happy little boy that lived life to the fullest? Why am I so tired, tired of this world and this life? Every snide remark and ignorant comment feels like a punch to the gut. Im being eaten alive by a disease whose first mission is to knock out your communications. You cant tell anyone about the dark cocoon youre wrapped in. Wave after wave it crashes down on you, youre drowning, gasping for air. In between the waves you might be lucky enough to see a bit of sunshine, but only for an instant before your sight is robbed from you once more. What is a life without true happiness? Where the best feeling is no feeling at all, and sleep is the only real escape? Can a person really be blamed for wanting to escape such a hopeless place? What is living if it is simply out of guilt for the pain you would cause loved ones? If only I had gotten help sooner.",
                  "['FATIGUE']",
                  "The emotional tone of the publication reflects a possible low mood and loss of energy that coincides with the sixth symptom of criterion A for the diagnosis of depression in the DSM-5 manual. After considering the possible feelings associated with this phrase, it is possible to infer the presence of a low mood that causes tiredness and fatigue and is associated with the sixth symptom of depression in the DSM-5."
                ],
                [
                  "13",
                  "I have this problem too.. It's hard to accept fault for our mistakes",
                  "['WORTHLESSNESS']",
                  "Both the content and the tone of the sentence are manifestations of a generalized feeling of self-criticism that would imply the presence of a possible depressive symptom, such as those described in the DSM-5 manual of mental disorders. In this manual, thoughts of worthlessness, failure, and delusional self-criticism are symptoms associated with an episode of major depression. Professionals should further evaluate whether this symptom persists for two weeks and causes significant deterioration in this person."
                ],
                [
                  "14",
                  "Continuing the saga of my(f34) husband(m32) not loving me. More confused than angry right now. ( Links to previous posts in text). Original post: <URL>\nFirst update: <URL>\nSecond update: <URL>\nOk. It has now been three and a half weeks since he intially told me that he no longer loved me. We have talked and talked, but I am becoming more and more confused by his attitude toward me, the kids, the future. He is swinging between being very open emotionally, talking things through in great detail, what he feels about us moving back to the UK. Then the next day, he is grumpy, ignoring me, neglecting his time with the kids, flaking out on plans to do things with the kids. One day he cannot do enough to help out, the next I am having to ask him to come and say goodnight to the kids because he can't be bothered to come upstairs. He dedecates most of his time to playing on his PC and working out. Just saying that makes me realize that he is still such an adolescent. I don't think he has ever lost the mentality that he is his own person and he can do whatever he likes. Yes, that was true, but I believe that when you have children, you have to have a balance in your life towards what you give to your family, and what you give to yourself. He told me the other day, when he was in a bad mood, that he feels that he has to support me too much (an example was having to come and get me when my car broke down) and because of my health problems he feels he has to look after me too much. He told me that I was living my life like I was in the 1950's and that men aren't expected to look after women like that anymore. He seems to have neglected the fact that I work full time, look after the kids for 75% of the time on my own, he goes out at least twice a week for social stuff, and that tomorrow I am having to run him around because his car broke down! Yes I do have health issues, but I have had them since we met, and they are actually much better now than when we first got married! I had to apologise to him earlier this week, because tomorrow I need him to miss his games session after work because I have therapy and I cannot get anyone else to have the kids (it is around dinner time, so kind of hard to arrange pick up and drop off). I feel that I should not be having to apologize for going to a session that was the only one left this week when I booked it two weeks ago. I asked my therapist to reshedule, but her calendar is full and she really wanted to see me this week. He has know about the appt since I made it, but at no point did he offer to come home to have the kids. He keeps asking me to stay. But not as a couple, as two people living in the same house who have kids together, but no relationship. He keeps telling me how much better it would be for me and the kids to stay. He says I could save up money from my job before moving back, the kids wouldn't have to move etc. And the more he says it, the more I feel like I am the bad guy here, taking the kids away from everything they know and love. Yes, I could do that. But is it worth the pain? I keep feeling so confused about what is the right thing to do. But how can I stay? If I could be sure that everything would be ok and stable for the kids, then I would. But on days like today, I can see that this is not a healthy environment for me or the kids. I am starting to feel that he is manipulating me to make me stay. To make me feel guilty for hurting the kids by moving. To get rid of his guilt over the choices he has made. To make me the bad guy making the descisions. I really feel he is forcing my hand here. And it is really starting to affect my ability to judge things properly. I no longer am sure that I can make the best decision for the kids. What if I am making the wrong choice and ruining my kids lives because of this? My friend was over today and saw for herself how he can make me feel bad for wanting something for me and the kids. I asked him if he had arranged a lift for the morning (he is prone to forget stuff like that) and he told me no, he would take my car 'if that was ok' and just do a half day to get home. I told him that I had plans for the morning with the kids, and he told me that he 'only needs it for half a day' . He just had no concept that he would be making me and the kids stay home when I had promised to take them out. I told him I would drive him in and out, and then he started demanding to know what time I would pick him up as he 'had to look after the kids for me'. My friend, who knows the situation, was just shocked to see first hand how he has no idea about how his actions affect others. He says that a lot. That he is doing stuff 'for me'. Not doing it because he is their dad, but as a favour. So that I owe him. **TL;DR** Am I being guilt tripped into staying by a man who tells me he doesn't love me? **edit** I meant to add that because I saw my OBGYN last week and told her the situation, she ran a full STD panel on me, just in case. Everything came back negative, so I have that going for me, which is nice.",
                  "['NO_SYMPTOMS']",
                  null
                ],
                [
                  "15",
                  "**PSA** NEVER TAKE REMERON!!! I had really bad insomnia and was prescribed it for sleep. I weighed about 120 when I started taking it and gained like ten pounds in a month! It made me constantly ravenously hungry and back when I didn't have any eating issues, I wasn't aware of how badly all of the over eating would affect my body!",
                  "['NO_SYMPTOMS']",
                  "This phrase seems to respond to a problem related to a possible eating disorder and not to a loss or increase in appetite due to depression. Therefore, this phrase is not sufficient as an emotional marker of depression."
                ],
                [
                  "16",
                  "Nobody At The Wheel I was out on the street the day the first driverless truck came through town. The sun watched us through the overcast sky with an aloof white glare, arcing dull glints across that smooth steel face - a bank of chrome and black sensors glimmered where the cabin should have been. It looked every bit like a metal snail pulling a shipping container. A few of the men around me grinned and clinked beer cans. Several muttered epithets. Our town was small, but we had our claim to fame: we were a town of truck drivers, through and through. Everyone knew the best drivers came from our stock, and coming from around here meant the best pay and the best radio company while on the road. We were out in the middle of nowhere, but we'd made this junction our own. When the company decided to try out driverless trucks, our little town nearly went into riot mode. It took quite some time to work out the compromise: the drivers would shift to maintenance and consultation if the driverless truck tests were successful, and we would all keep our pay. It made sense - the company couldn't afford engineers in far out places like this one, and we knew our trucks better than any college man. So we took the offer. Some saw this as a lifetime pension. Sit on our asses, drink beer, and take care of our trucks when they rolled into town? Sign me up! Some had enjoyed the work. The drive, they said, was time alone. Time on the road, they said, was time away from home, away from the screaming kids and the old ball and chain. They joked, but I knew what they meant. Sittin' around all day I wasn't sure what I'd do with myself. I got the Internet. That's what I did. Started learning to read and write a little better. I'd seen pensions gutted and slashed in the news my whole life, and didn't trust that our situation would last forever. Time to get educated and get out, I told myself. I just didn't know how little time I had\nThat one truck rolled through every couple days like clockwork. The guys, they clamored for something to do, so the company deemed the first test a success, and sent out ten more. We had one or two driverless trucks coming through each day, and it seemed like every arrival was a little town block party. Kids danced by gushing fire hydrants to beat the summer heat, old men drank their Old Milwaukees in rickety nylon seats under the trees, and me and the boys hung around hitting on the kids' mothers. I suppose we should have seen it coming, but it was still a shock when the first dog got run over. A kid threw a ball into the street during the festivities, and that was that. His pet dog ran right up and got crushed under the wheel. The damn truck didn't even realize what it had done, and we were all horrified. The whole town came out for that meeting at the town hall. The slick-suited business guy heard our concerns, and promised the designers would look into it. Two weeks later, the trucks rolling through town looked a little different - bigger, more cargo space. Every now and then, they still ran over dogs, but we figured they'd tried, and we just had to keep a tighter leash on the pets. They said that, without a driver, the trucks were more efficient, so they kept getting slightly bigger every few weeks. It wasn't long before half the pets in the area had been run over or permanently moved inside. There were no more parties when the trucks came in. Parents didn't want their kids playing near the damn things, and good on them. It didn't help. The Dyers' kid went out chasing a ball, just like that damn dog. The draft on these bigger trucks was stronger, and he got sucked right under. It crushed his leg, and not two days later we heard he would never walk again. The Dyers couldn't afford the hospital bill, but we all banded together and gave what we could 'til the lawsuit came through. The company settled quickly, and promised a redesign on the trucks to make sure it would never happen again. Two weeks later, the Dyers got flush rich, and moved away. Two weeks after that, they stopped returning our messages. Two weeks after that, the trucks grew even bigger. The sensors on the front had grown spiky, and the look of these huge machines and their twice-as-long cargo compartments enormous, imposing, to put my grown vocabulary to use. They bent in the middle when they turned, that's how long they'd become. There were more of them, too, rumbling through almost all hours of the day and night. Though there were more of them, they stopped for maintenance less often. Our paychecks kept coming in, but the work was drying up, and that made honest men antsy. I won't even describe the antics the dishonest men started getting up to at the bars and the town gentleman's establishment. The center of town became known for drunken violence and sexual harassment... I was glad that I lived out on the edge, far from that rowdy crowd. Bitterness about the trucks had grown, but our resentment exploded after the first death. This time, it was a full-grown adult, old man Richter. He'd gone out for a walk without his glasses, but how the hell he didn't hear the damn bellowing things on the road, that's beyond me. We didn't even have time to organize a protest before we found out firsthand how the old man had gone out. The drafts under these barreling monstrosities were little tornadoes, pulling things up like a vacuum. On our way to the town hall, one of our group got pulled right up under and spun around the back wheels like a ketchup-splattered rag doll. He fell out behind, and we almost ran to go help him - but the next truck trampled over him, and left nothing more than spaghetti and meat sauce. That's when I knew we were in trouble. Real trouble. This was two deaths now, and the town hall was boarded up. The mayor and his slick-suited buddy were on vacation, with no return date. There'd been rumors of the mayor coming into money, but we didn't know for sure at the time. It was an odd feeling, trying to live in a community under siege. You got your paycheck, and the food's all in the stores, and water's running but everyone is quiet, and everything is dimmer. A little gloomier. You just sit around each day waiting for news. Did we get through the day without a death? Yeah, usually. Sometimes a week without an accident. You start to relax a little - and somebody dies. We were on the phones the whole time, calling up lawyers, calling up police, calling anyone who might listen. We couldn't afford good lawyers, but the ambulance-chasers we finally did hire launched a dozen lawsuits - which were all immediately tied up in court. We were told the process would take years. No help there. The police came around a few times, saw a splattered body or two, and gave us a few sympathetic comments like \"aw shit\" and \"wow, have you got a lawyer on this?\" but there was nobody to arrest, since the trucks were driverless. Couldn't shut down one truck without shutting them all down, and that would cost a ton of money and jobs. All we could do, they said, was wait for the lawyers to get something done. Because of the siege, whatever tension we'd had with our local illegals was right out. I let the Jimenez kid stay at my house after his parents tried to hit up the grocery store and got crushed between a driverless truck and the tight walls of the back alley they'd been using to avoid the main road. That was the worst part: the number of trucks kept increasing until the main road had trucks on it at all times, in endless rows that never stopped. It was eerie, seeing them all move like a train like that, all moving at the same speed, never braking, never swerving The town had been split in half - and, without warning, excess trucks had begun using the smaller roads to optimize their route. Trucks rumbled by my driveway day in and day out. By then, I was spending most of my time hiding in the house, curtains shut, playing some old Nintendo games with the Jimenez kid and trying not to think about the constant subtle shaking underneath my feet. Boredom was our constant enemy, but we kept busy, kept challenging each other, and we got by and kept our heads. What members of the community that could still reach other banded together. We were hardly beaten, not by a longshot. This was our town, and we would survive. With the mayor's office vacated, the municipal water eventually went out - but the illegals on our side of town showed us all how to set up raincatch barrels, and how to clean the water for drinking. The same police who'd come by and been unable to help us soon showed up in full SWAT gear and raided many of the nearby homes. The illegals all got deported, and the neighbors that had helped them were forced to cut deals for jail time or face huge minimum sentences at trial. Turns out, the mayor had sold the area's water rights to some foreign company before he'd left, so collecting rainwater the way we did was against the law. Much of the rest of our little community tried blocking the road after that, but the trucks just went around, hitting more people. Use of makeshift explosives followed, and they did manage to destroy one truck and block traffic for nearly a day. The SWAT teams showed up and hauled them all off soon after. Of the friends that went to prison, one died inside shortly after entering. The rest, I heard, were put to work building parts for the driverless trucks. Turns out, the company had a contract with the prison. Bitter pill to swallow, that. I'd hid the kid from the police, but he and I were one of only a few people left on our side of town. The surviving kids had all been snapped up by Child Protective Services now that their parents were dead or in jail, so he had nobody to play with, and I spent most of my time making our survival a game. Hide from the trucks, I'd challenge. Find the hidden food, I'd dare him. He could fit in pipes under the road and cross to parts of town I couldn't reach. He did come back with food much of the time, but he never spoke of the things he saw in fact, he stopped speaking altogether after his seventh trip to the inner parts of town. I can remember the exact moment that I realized he and I were the last ones left. A truck swerved to avoid a wild dog - well shit, looked like they finally fixed that flaw - and barreled straight through a nearby house. By then, the monstrous trucks had become armored in response to our explosives, and the back had become enormously long and massive to carry as much cargo as possible. The house crumpled and tore apart like paper, and that truck kept on going like nothing had happened. Only, my friend Don had been inside he'd entertained us with military stories every day, optimistic and hardy to the very end. After finding his body in the wreckage of his house, I knew there was no longer any safe place to be. We were out of food, out of water, and out of places to hide. I was much thinner from hunger by then, and found that I could fit through the pipes under the road if I squeezed up enough and tried not to breathe in anything foul. The kid didn't want to go back to the other parts of town anymore, but he had no choice but to follow me, and I wasn't about to leave my hometown without seeing if anyone else was left. Many times, I thought I was going to die in that rumbling, vibrating, cramped pipe under the road, but I managed somehow. It was clear, once I'd pushed through the muck, why the kid had stopped speaking. The center of town was a charnel house, splattered with dried blood and torn apart bodies. Worse: most had not been killed by the trucks. They'd killed each other once the driverless walls had gotten too tight to cross killed each other for food, for water, and seemingly, at the end for entertainment. Don had always said that unchecked boredom was the true bringer of nightmare in extreme circumstances. I'd always wondered what he meant, but now I knew\nWithout a job, boredom had become agony. We'd been lucky, being on the outskirts of town we'd kept ourselves entertained, and gone into the forest to hunt for food often. These men, women, and children had had *nowhere to go*, and they'd been surrounded by violence, hunger, and thirst more than any other emotion, boredom had brought hell on earth. I thought to cover the kid's eyes, but I knew he'd already seen this seven times before. The main road was strikingly clean, swept constantly by truck drafts. I even saw a motorist driving between the trucks, oblivious to the death and gore hidden just behind the corners of each building. To him, this was just another small village he was passing through... I screamed for help, but he couldn't hear us over the constant roar of the trucks. Finally, crawling through more pipes, we reached the other side of town. I emerged from the filth and clambered up onto a nicely paved road. Staring around, I saw lots of nice new buildings. Fresh paint, cheery signs, large open roads bigger, newer houses there was even a large mall down at the end of the street. The kid and I walked around in shock, wondering when the hell the old town had been bulldozed and built over. How long had we been surviving in the dirt, cut off from society? Sharply dressed men and women escorted well-behaved children around the pleasant neighborhood. How are you? Long time no see!\" I turned and saw Bill Dyers walking over from a nearby playground. His kid continued playing, his prosthetic leg hardly noticeable. \"Isn't it great what they've done with the town?\" Bill asked, grinning widely. He lowered his head to show me the top. \" Notice anything different? I'll tell you. I got hair implants! No more baldness!\" He didn't seem to notice that the Jimenez kid and I were covered in dirt, filth, blood, and other unspeakable signs of the nightmare we'd endured but a nearby cop certainly noticed. \"You can't be here dressed like that!\" he barked. \" If you're homeless, I'll have to take you in.\" \"Oh no,\" Bill told the officer, still cheery. \" These are friends of mine. They can stay with me!\" \"That true?\" the officer asked me, his tone stern. I wasn't about to go to prison. I would kill myself before I helped build those godless trucks. \" Um, yes sir. We'll clean up right away, sir.\" The officer regarded us both for a minute, then leaned down to look the kid in the eye. \" Yo hablo ingles?\" I gulped. One word of Spanish, and he was gone - but the kid just stared at him. \"He doesn't speak,\" I told him. \"He yours?\" His mother died in childbirth.\" \"Sorry to hear that.\" The officer coughed uncomfortably. \" Well, clean up, get off the street. Don't let me see you like this again. If I see you sleeping out here, it's off to lockup with you both.\" \"Yes sir.\" I relaxed as he walked away. Bill laid his arm around my shoulders. \" Don't think I've forgotten about you all, banding together for our hospital bill like that. You can stay with me 'til you get on your feet. We're all friends here, right?\" \"Right,\" I answered, following him toward his nice, clean house. He had no idea. None of these people had any idea. For survival's sake, I kept my burning fury hidden. There was nobody to blame - no conspiracy, no plan behind what had happened. The more I researched the workings behind the events that had destroyed my town and killed or imprisoned my entire community, the more I realized that nobody was even aware it had happened. They'd heard about the first dog that had died, and that had caused weeks of national outrage. They'd heard about the Dyers kid and his crushed leg, and that had gotten brief national attention and lots of sympathy. They'd heard a clamor about a water rights trial. They hadn't really understood. They'd heard clamor about some hicks blowing up a driverless truck. They hadn't cared. It'd become a running joke on late-night television. But nobody knew the true web of horrors we'd experienced. The company didn't even fully realize. All they'd seen was a volatile workforce fighting over paychecks. The legal department had handled the lawsuits until the plaintiffs had all died or gone to prison. The payroll department had stopped checks one-by-one for those who had died or gone to prison. The maintenance department had replaced the workers as they'd left. Eventually, the whole thing had just gone away. The higher-ups had seen nothing past the initial labor compromise, and most of them had been replaced over time anyway. There was nobody left at the company who even knew the name of our town. That's the part that fills me with more bitterness than rage: there's nobody to blame. I can't get revenge. Nobody *did* anything to us. No one person meant us harm. No one person wanted anything more than comfort and profit. When you endure something like that, you want to know who did it. You want to blame someone. I can't find anyone to blame. When the Jimenez kid - when *Ricky* finally starts speaking again, when he asks me who was responsible for the hell we went through, I can honestly tell him: nobody. That's the scariest part. The system is bigger than any of us. The system barrels on. Horrific tragedies can just *happen* without anyone meaning them to because there's nobody at the wheel.",
                  "['NO_SYMPTOMS']",
                  "Although the phrase in the previous comment indicates an intention to die, this expression is used as a metaphor to express an emotion other than sadness or a deep depressive state that is related to the symptoms of the diagnosis of major depression. For this reason, there are no sufficient reasons to affirm that this suicidal ideation is a consequence of depression."
                ],
                [
                  "17",
                  "I am irritated, yes. I feel like either I'm not communicating my opinion properly or you guys are interpreting my statement wrong. It's aggravating because it's not face to face contact, and so when someone disagrees you know that they disagree but not why. You can't have an actual argument with someone. Not that I'm even arguing anything...it's ridiculous. I'm shocked people don't experience any kind of physical or emotional trauma from a miscarriage or an abortion, but you can bet if I knew someone who went through it or experienced I would be extremely concerned.",
                  "['DEPRESSED_MOOD']",
                  "From the expressed sentence, it is possible to infer the irritability by the emotional discomfort. According to the first symptom of criterion A for the diagnosis of major depression in the DSM-5, this statement can be a form of generalized sadness, and that is the physical and psychosomatic manifestation of depressive mood. This problem could be a risk factor for the onset of depression if other clinical symptoms appear, such as crying, changes in appetite, loss of pleasure, or feelings of worthlessness."
                ],
                [
                  "18",
                  "I go to all my classes and try really hard to study all the time but focusing is still hard because my mind wanders even without touching the internet (which is why cutting has become a strategy to get myself to focus again) I feel like at this point dropping out is my only option which i know would make my parents furious. Hearing other people with similar experiences but still are chugging along makes me feel a lot better, so thanks.",
                  "['NO_SYMPTOMS']",
                  "The previous post reflects difficulty concentrating on daily tasks, which is a common cognitive issue. However, this problem is expected given the individual's current circumstances, such as stress or increased workload. In the absence of a depressed mood or other depressive symptoms, this concentration difficulty cannot be attributed to Major Depressive Disorder. Therefore, it should not be considered a symptom of depression based on the DSM-5 criteria."
                ],
                [
                  "19",
                  "Would I still be considered depressed if I hate myself, have no esteem or worth, constantly talk bad about myself, sleep issues, loss a appitite, sadness, self harm and suicidal thoughts?",
                  "['WORTHLESSNESS']",
                  "The previous publication shows the presence of different generalized feelings associated with the seventh symptom of criterion A for the diagnosis of major depression, including feelings of worthlessness and failure. Thus, this publication shows other possible symptoms of depression that health professionals should evaluate in greater detail to identify the traceability of the different symptoms associated with major depression in the DSM-5."
                ],
                [
                  "20",
                  "If you said you snore, I'd say probably yes. But there are other types of sleep disorders that I am not as familiar with. Central apnea being one. My brother has it, he breathes like he's whining at times without the machine and he often refuses to use it. I have sleep apnea and I'll sleep 10-12 hours sometimes....some people just need more sleep. You also don't say how old you are. If you're potentially still growing, late teens or early 20s you might sleep more. Or if you're in a place where you have potentially allergies going on, you'll sleep more since it's like being sick with your body reacting to the allergens all day long.",
                  "['NO_SYMPTOMS']",
                  "Certainly, changes in sleep patterns may appear in depressive episodes. However, the problem described in the publication refers to an organic problem. Therefore, following the diagnostic criteria for depression, this publication is ruled out as a relevant emotional marker for the diagnosis."
                ],
                [
                  "21",
                  "This hits home and also you're telling me about your friend's situation? Similar is happening with me. Grades are going down, I have no focus, I get made fun of by teachers etc. I feel like a loser in this college and my self esteem has gone way too low now already. I don't enjoy anything. I get irritated easily. I am losing my hair as well due to stress and I am just outright hopeless and everything seems gloomy now. I don't enjoy anything at all now and I am unable to continue but no one is supporting me and they just tell me to man up and keep facing the situation. I really think I should drop because sometimes I even think that dying would be better than go to the lab again.",
                  "['ANHEDONIA', 'DEPRESSED_MOOD', 'WORTHLESSNESS']",
                  "Educational experiences can be highly frustrating and are a risk factor for the appearance of depressive symptoms. Thus, although this statement only refers to aspects of academic assessment, the phrase may be an externalization of a depressed mood and cause significant distress along the lines of major depressive disorder in the DSM-5. Following the context of the phrase and the meaning of this comment, it is possible to classify this statement as a symptom of a marked loss of interest and pleasure, which is part of criterion A for the diagnosis of major depression in the DSM-5 mental disorders manual. Anger and irritation can appear in moments of intense discomfort due to depressive moods maintained for an extended time. For this reason, and taking into account the comments in the post, this phrase may be a manifestation of a depressed mood in line with the major depressive disorder of the DSM-5."
                ],
                [
                  "22",
                  "Perfection Before my final tasks of today, I have to let someone, somewhere know. This needs to be heard in case it ever happens again. I can't be crazy, I know it, and I truly hope I'm about to end this all tonight. In case I don't, the people of /r/nosleep seem to be the ones who will keep this in mind. When I'm done here, I will have done all that I can. Have you ever heard of the children's game called \"Perfection\"? If you haven't played it, heard of it, or gotten the ridiculously catchy jingle from the commercials stuck in your head once before (to the tune of \"Pop Goes the Weasel\"), let me explain it a bit. Perfection is a game in which you are given a red box-like contraption with a blue top that pops up, and is covered in differently shaped slots which you are to fit small corresponding yellow pieces into, all before the the timer runs out. When it does, well, \"**POP!** Goes Perfection!\". As a child I was obsessed with the game, I thought I had it mastered. I could get every single one of those little, yellow shapes into their slots before the timer ended, and then \"**POP!**\", my meticulous work was scattered as the blue top popped out and destroyed the wonderfully perfect puzzle I had finished. One thing about this game that irked me so, was the fact that I could never prove to anyone that I could actually do it. Being so young at the time, no one thought I could fit together so many randomized pieces into their perfect locations under the time constraint, \"Elizabeth, you'll get it one day, you don't need to pretend, I'll bet it's rigged so no one could do it at all!\" My mother smiled at this, she thought it was childish pride just trying to be something more than I was. To my six year old dismay, each attempt to prove that I had done it was somehow thwarted. If I asked someone to watch me, it seemed the timer had sped up and I had less than half the pieces placed before the sudden \"**POP!**\". It infuriated me, I had tried countless methods, switching off the game after I had completed the task, only to find that by the time I had brought someone in to look the timer had reset to the start, and they merely assumed I had filled all the slots without turning the game on. \"Now honey,\" my father had once scolded, \"There's no pride in cheating, it really doesn't matter if you beat the game. But enough of the silly lying, there's no reason for it.\". I **KNEW** that I had beat the game, that I had achieved the goal of Perfection, but I had no way to prove it to anyone but myself. I must have tried hundreds of times to show people, but no one ever believed my young self could do it, especially because no one else in my family ever had. My brother, older by two years, had only ever gotten about 75% into slots on his best days. My parents, aunts, uncles, any adult in my life I knew, simply couldn't finish in time either. They were always several pieces short, and became frustrated with my need to prove that it could be done, and that I was the one who could do it. In my daily routine I'd hum the little jingle while I did the meager amount of chores a child of that age has, I was always pleased with my work after it was done, because it was another thing I knew I was doing right. It seemed no one else saw it, the clothes I put away nicely folded in my drawers were always scattered about my room, the toys I had put away in the boxes before bed were set up as if I had spent the night playing instead of sleeping. Everyday I was reprimanded for my pride of doing my tasks so well, when no one ever saw that they were done at all. \" Elizabeth, your lying is getting out of hand. There is absolutely no need to pretend you've done your chores just so you can obsess over that ridiculous game! I'm going to take it away if things don't start shaping up with you.\", My father was almost at his limit with Perfection. I was insistent though upon the fact that I was doing everything *perfectly*, and my wording on that was enough for me to be taken to a child psychologist who worked in town. I don't remember much of him, he was an odd tall man, with a smile that was awkwardly large and forced. The most I recall of the hushed conversation was some mention of a possible form of OCD, and some talk of how I may be intentionally leaving things amiss because of the lack of belief everyone had when I thought I was doing things correctly. I'm not really sure if he helped my parents at all, I just know when I spoke to him I had a sick feeling in my stomach, like he was looking for something dark and wrong inside me, and stirring it around. After so much of my insistence that I had done it, that it really was PERFECT and complete, and exactly as it should be, my parents decided that perhaps I should just stop playing the game and focus on other things. They kind of forced it in fact, I remember seeking out the game one day while I was upset about chores I had done, but apparently *hadn't* done. Over the years I lost interest in the game itself, but the jingle from the commercials always popped into my head at random moments, \"*Put the pieces into the slot, make the right selection! But be quick you're racing the clock, POP! Goes Perfection!*\" It started out as just occasional, something I found myself humming while performing random tasks that I was pleased at doing, and the more pleased I was at finishing the task, the worse everyone else saw the results of. Around the age of 13, I discovered the game put up in my old closet, and decided to take it down and test out my old skills to see if I still had what it took. Each and every time, I completed it with several seconds to spare, and began singing the little jingle to myself as I restarted my scattered masterpiece over and over again. It felt good to be doing something right that no one could tell me I was doing wrong. Eventually my mother walked in to see me back at my childish obsession. I hadn't realized she was there, I had just started placing pieces, and singing the jingle when it suddenly popped and scattered less than 10 seconds after the timer had started. I looked up to see her standing in the doorway, she chuckled quietly and sighed, \"About to start high school, and you're still fixated on that little game that you just can't seem to beat.\" I frowned in dismay, *why can I not seem to achieve Perfection when others are around?* Throughout that summer I played the game in private, pleased with myself at the speed and ease of which I accomplished the game. Right before I was about to begin my Freshman year, I decided to put the old game back up in the closet. I was already one of the youngest to be in my class, I didn't need anyone outside of my family thinking I was obsessed with childish games. My troubles continued in high school itself though. I had been an excellent student in elementary and junior high, my grades always excelled and I was a quick learner, but something more than the just the natural teenaged hormones I was starting to gain. More and more often I found myself humming the jingle, especially when it was test time. It seemed to calm me. That year approximately half my tests were missing answers that I could swear I had written, I even told the teachers out loud what I had responded on the test with, and they simply thought I was being lazy and skipping questions I didn't know, and then studying them later to make it by for exam time. I had no idea what was going on, and my teachers were becoming disappointed in my grade drop. I was doing fine on everything except the tests. As I progressed through high school I found the jingle stuck in my head so often that it gave me migraines, over and over throughout the days it happily sang through my mind, \"*Put the pieces into the slot, make the right selection! But be quick you're racing the clock! Goes Perfection!*\". My schoolwork overall went downhill as the song played through my mind each day, I was focused and I was getting all the correct answers for my notes, but I was turning in empty assignments I was sure I had completed, emailing in homework files that were so corrupted my teachers assumed I was intentionally trying to ruin their computers so that I could lie about finishing them, flawlessly acing tests that when I handed in were written in unintelligible gibberish. I barely graduated, If not for my talk with a school psychologist I might not have. She never told me what she thought was wrong with me, but she seemed concerned once again that I considered all my work to be perfect. She kept a file about our meetings that I was never able to see, and she recommended my teachers give me only oral examinations. This helped greatly, I started hearing the jingle less in my head, though when I did, it now caused me a horrible stutter, which impacted my grading slightly, but I managed to scrape by. Somehow after that entire ordeal the psychologist from my childhood and the one from my school got together to discuss me with my parents. Being only 17 and a minor at the time, my parents had the entire say in what was going on in that department. I assumed I must be going crazy. At their recommendation, and to my family's relief, I was given a prescription to take that made the jingle disappear entirely from my head. My parents had told me that due to my \"condition\" the doctors requested I not be told what the medication was, only that it would help me lead a normal life. Which it honestly did for a very long time. I was able to function, I was actually completing the tasks that I believed I was doing, I couldn't even recall how the jingle went, or the name of the ridiculous game that drove me insane. After a few years of the medication the doctors decided I no longer needed it, and my memories should be entirely repressed by whatever it was they gave me. I was fine with not knowing, they had cured me, which was all that mattered to me at that time. If memories were to ever reoccur, I was to contact my family and we would revisit the doctors to see what needed to be done. I was ecstatic, my entire childhood of being haunted by a hellish game was over. I was done hearing a maddening tune in my head, I was done obsessing over the things I did wonderfully and yet somehow failed at. I was even more overjoyed at the fact that I could leave that small town and the condescending looks from the people that lived there. Half the town thought I was insane, and the more religious or superstitious folks thought I was cursed. So I moved out of state to pursue my normal life. I finally got to do what I wanted, I went to school for a financial degree, finished up and worked a modest job as a bank teller, met a lovely man named James who married me soon out of college, and a year later we had our beautiful baby girl. For a girl in her mid-twenties it was a happy life, an absolutely *perfect* life, until recently. My parents died in a car accident a few months ago, and apparently had left to me our old family home so that I may raise my own family there. I was saddened by the loss, but felt a sense of relief to be back in my familiar home. It was almost as if nothing had changed there, my old room looked as it had since I was a child. A pretty pale pink, a white single bed, and a closet full of old toys my mother had kept for sentimental value. My four year old Anna would adore the room for herself, I smiled as I imagined her playing with the old Barbie's and dollhouses I had left behind. While unpacking in the master bedroom I heard a familiar humming, something to the tune of \"Pop Goes the Weasel\". I felt an inner panic though I couldn't quite tell why. I went to check on my Anna, and found her sitting on her bed with a familiar looking game. Suddenly the little yellow pieces popped out their slots and I was hit with a flood of memories. I ran towards Anna and yanked the game away from her, she began to cry immediately, \"Mommy! I almost did it, why are you taking it! I want to finish the game!\" I felt sympathetic, I just didn't know if the game would ruin her childhood as it had mine. I sat on her bed and put my arm around her, \"Honey, this game is very old, it could break very easily, so we have to keep it put away because it was a gift from Grandma, okay?.\" It wasn't an entire lie, but enough that she may lose interest in the game. She nodded her tear streaked face in agreement, but still pouted when I put the game on the highest shelf in the house. I tried to get into contact with the doctors that had previously given the prescriptions to block my memories, but as the jingle played through my head, I kept dialing wrong numbers. \"* Put the pieces into the slot, make the right selection! But be quick you're racing the clock! Goes Perfection!*\". The song was giving me a headache, I finally really did have the perfect life and a childhood game was going to ruin it all! I asked James if would call the numbers I had searched up, and he looked at me as though I had grown an extra head, \"Sweetheart, these are numbers for decommissioned asylums, why would you want to call them?\". I then explained to him the repressed memories that were now resurfacing, and the gist of the experiences in my childhood created by this silly little game. He seemed a bit skeptical, and concerned at the fact I had not divulged this information earlier in the relationship. I had touched upon the subject of going through and conquering mental illness during my childhood, but this story seemed beyond his comprehension. He didn't believe me. He thought there must be something else to it, and tried himself to search for the doctors which names I could only vaguely recall. None in this area with names even close to the ones I had thought of. It was a small town, and I knew that at least the woman who worked at my high school had to be on file somewhere, but his search turned up that the small school had never had more than a simple guidance counselor, and each one on file had been male. I felt the same stress and anxiety as I had many years ago, I was wrong when I knew I couldn't be. I knew there had been someone who had stopped this before. In the midst of James trying to calm my nerves, I once again heard Anna humming the familiar tune. It sent me into a sort of rage, and I ran upstairs to see if she had somehow taken the game from her closet shelf. She was fast asleep, I shook my head in disbelief and dismay, *why is this happening, how can I stop this before it gets to her too?* I checked the time, it was nearly 11pm. Of course I must be hearing the jingle in my head again. I gave a resigned sigh, and went downstairs to ask James to just come to bed with me. I was sick of this day, and maybe some sleep would calm me and put things out of my mind. Around 1am I awoke with a start. \"* Put the pieces into the slot, make the right selection! But be quick you're racing the clock! Goes Perfection!*\" I slipped from the bed quietly, as to not awaken James. I knew that game was going to taint my daughter as it had tainted me. I knew something had to be done. It had to go. I quietly stepped downstairs as I heard the jingle start over, this time in my daughter's voice. I was livid. I went to the front closet where we kept a bat for safety, in case of intruders or the like. I made my hastily back up the stairs to destroy the growing evil. I stepped quietly into Anna's room, and saw that she was mouthing the words to the jingle in her sleep. I sighed, fearing she was already in the clutches of this curse. I took the game from the shelf and began the timer. I raised the bat over my head and swung with all my might. It took at least three solid hits before bloody, bloody, pulpy gore began to coat the bat, each swing felt so heavy, but my mind began to feel so light. I heard the telltale **POP** of the game scattering it's pieces, at the same time as I heard a gasp from behind me. James stood in the doorway, pale as a ghost. He began to speak, \"Elizabeth.. What have you... *Put the pieces into the slot, make the right selection! But be quick you're racing the clock! POP--*\" The jingle coming from his mouth was silenced as I brought the bloody bat across his jaw. The evil of Perfection had gotten him to. He cowered on the ground, holding his shattered jaw and staring at me with utter disbelief. How DARE he not believe me now, he was cursed. I brought the bat down over, and over again. His entire face was destroyed. I felt so calm having saved him from the horrible evil I lived so long with. I turned back to look around Anna's room, only one thing left to do to bring peace to my family. I picked up the game off the floor, and calmly walked down to the living room. I lit a fire in the large stone fireplace, and set the timer on the game once more. I smiled as I fit each piece into it's slot, but suddenly the timer ran out. With only two pieces left to place, I had not achieved my goal. I was distraught, but it was still time to do my final task. I've thrown the cursed game into the fire, the flames are large and black smoke is curling towards me as I type this. I've warned you all, Perfection is truly a curse. The fire is calling me now, it's singing the jingle with me, \"*Put the pieces into the slot, make the right selection! But be quick you're racing the clock! Goes Perfection!*\"",
                  "['NO_SYMPTOMS']",
                  "Although the above information indicates an episode of panic, and in Major depressive disorder, there may be moments of panic symptoms, this behavior is not associated with psychomotor agitation. According to the DSM-5, many people with depressive symptoms experience psychomotor agitation, which refers to moments of mania and hyperactivity where they cannot control their behavior. Therefore, the panic episode experienced is unrelated to psychomotor agitation symptomatology of symptom five of criterion A for the diagnosis of major depressive disorder."
                ],
                [
                  "23",
                  "This had me crying",
                  "['NO_SYMPTOMS']",
                  "It is true that in depression crying is a very recurrent behavior in people who suffer from it, however, not all cries are signs of pathological sadness. This sentence is related to a specific situation that has generated a moment of sadness. For this reason, it is not a phrase that is related to any symptom of major depressive disorder."
                ],
                [
                  "24",
                  "If I have something to wake up for then I just don't go back to sleep. It's called being responsible for your obligations. Grow up and learn that life isn't meant to be wasted on sleep. Unless you're younger than 5 years old, you should have enough sense to know you can't just ignore life and go back to sleep. If you can't handle whatever it is you're waking up for, then you don't need/want it bad enough. I work 60+ hours a week and go to school 10 hours a week. I have a house to maintain and food that doesn't cook itself. I get about 4-5 hours of sleep per night sometimes less. I know to have a house to maintain and food to cook, I have to work as much as I do. If I want these things without having to work as much, I have to complete my education to have the higher paying position. If I'm late for work or school, I risk those things. I wake up and stay awake. I'm aware this won't be a popular post and not just for grammatical reasons. I'm simply expressing my thoughts as a response to the original question. TL;DR: ranting about sleep.",
                  "['SLEEP_ISSUES']",
                  "this post may indicate that this person is suffering changes in the sleeping pattern, which is related to depressive symptomatology associated with DSM-5 criterion fourth for a possible diagnosis of major depressive disorder. These changes are related to insomnia, a syndrome characterized by loss of sleep habits and less time to sleep."
                ],
                [
                  "25",
                  "Does this sound like Bipolar? I can't go see anyone, we don't have enough money. Sometimes I feel like I have regular depression then it goes away and I feel great. I actually do housework and always ask my mom if there's more stuff to do and when she says no, I get a little sad. This is usually a two week cycle, sometime more or less. When I am in a depressive state, I feel worthless and can't do anything. I've heard that bipolar runs in families, my granddad was an alcoholic, could that me he was bipolar and passed it on to me?",
                  "['WORTHLESSNESS']",
                  "Feelings of worthlessness, such as those expressed by this person in the post, suggest that this person may be developing symptoms associated with depression. In the DSM-5, these feelings of worthlessness are the seventh symptom of criterion A for the diagnosis of major depression."
                ],
                [
                  "26",
                  "I'm worried about being a finance major I chose finance as my major largely because I didn't much like my other options. I genuinely love theology, art, psychology, and linguistics, but there's no real guaranteed, well-paying jobs in those fields. So what fields do offer those jobs? Medicine, mathematics, physics, engineering, IT, and finally, finance. I took classes in high school in each of those other fields and didn't really enjoy them except for economics and such, so I picked finance. Now I've heard finance is a very difficult field to get a job in. I don't know how to make myself more valuable, I guess, for a company to want to hire me eventually. I'm 19 and I'm curled up in my bed like a child. I'm not set to take any actual finance courses until after the coming semester. I'm worried for the future. What can I do to help prepare myself for a career in finance? Are there any certificates I could get online this summer? I thought about posting this in /r/finance but that sub seems to be mostly made up of news articles and such, not whiny questions from confused students.",
                  "['DEPRESSED_MOOD']",
                  "Many people with depressive symptoms develop a melancholy for the past and a pessimism about the future, which causes significant discomfort in the person's life and optimal functioning. In this context, the previous phrase could be a sign of concern about the future for a pessimistic view of life, which would be related to feelings of guilt and failure, and negative ideas about life that are described in the seventh symptom of criterion A for the diagnosis of major depression of the DSM-5."
                ],
                [
                  "27",
                  "I am SO angry at myself right now So, I go to a prestigious college which is pretty tough. That being said, I've always been really stressed but developed an anxiety disorder during my junior year and failed out of my program. I transferred to another program in school and was doing well..till now. I tried to take on a heavy course load to make up for the time I've been out of school dealing with anxiety. I was supposed to graduate in 5 weeks. Once again, anxiety reared its ugly head and screwed things up for me. I'm going to probably get a C in a class (Probably) and my GPA just can't handle that. Everyone is telling me to drop it and retake it in summer when I have more time to dedicate to it and I'm not taking 20 credits. I could do that but I'm SO SO SO scared what grad schools are going to think of me. I already had a problem with anxiety once before and had to Withdraw from 2 classes, how will a 3rd W on my transcript look. PROBABLY TERRIBLE. I've been SO SO anxious all day. I need to make a decision by the end of tomorrow and I'm just FREAKING OUT. I can't concentrate on homework at all. Either risk it and possibly get a C or B. Or just withdraw and definitely get a B or higher in summer. I'm so bummed about not graduating in 5 weeks. I feel like I've come so far with my anxiety and now I'm being set back again. I literally feel like there is no grad school that will EVER accept me. I am SO angry at myself right now. Why couldn't I just handle it????",
                  "['COGNITIVE_ISSUES']",
                  "The concentration issues that many people have by depressive mood could be symptomatology related to the ninth symptom of criterion A for the diagnosis of major depressive disorder. According to the DSM-5, this person could develop depressive symptoms related to this disorder."
                ],
                [
                  "28",
                  "I regret isolating myself from my peers, and not even taking any part in extracurriculars. Most of the time, I literally went to school and went home to get on the internet, and stayed in my room. Originally, I was very socially awkward due mostly because of my terrible home life, but was still very sociable. Just annoying, though. 7th grade was a terrible year, it was my first year at the junior high, and I was quickly learning how cruel other kids could be. I mean I was annoying, I deserved some of the hate I got, but there were some things that happened that were practically unwarranted. It was around that time that I moved to my grandparent's house to get away from my homelife abuse, and it just came to me that I was tired of other people. So very, very tired. My self esteem was in the pits. I was tired of being the subject of ridicule, of being a psychological punching bag of my peers and family. And I knew it had to do with the fact that I was hopeless at social interaction. I don't know what happened, but it was like some part of my brain just... slowed to a stop when I realized just how shitty everything was. Some part of me broke, I think. I stopped interacting with my peers mostly. I spent a lot of time studying. I pretty much only spoke when I had something witty to say. Soon... people started liking me. My only friend year later told me that someone from one of my classes told her, \"test_subject3112 used to be really weird, but she's cool now\". That's right, I was cool because I wasn't an annoying shit anymore and just shut up. Because of my bad self esteem, this pretty much only reinforced my behavior. While I did learn a great amount of patience from my actions, it is terribly regrettable. I developed severe social anxiety because I have worried so much about making myself presentable to others. I kept silent, I figured shutting up and being obedient and staying out of others way was the best and easiest way to coast through school. Now it is difficult to be employed, to leave my house, to make friends. I am anxious much of the time. I quit my last job due to a panic attack. Apathy has encroached on every aspect of my life. My therapist actually told me my depression is worse than my anxiety. At the time this all started, I could hardly cope with the stress. I'm thinking it is probably a combination of school and home pressure that caused me to break and retreat within myself. I greatly fear rejection. People tell me not to care about what others think, but I have realized from so many years of being alone that people are a part of our lives whether we want them there or not.",
                  "['ANHEDONIA', 'PSYCHOMOTOR']",
                  "This person is expressing an important loss of interest, which could be a signal of a depressive mood in line with the second symptom of a major depressive disorder. This symptom mentions the markedly diminished interest in pleasure for two weeks. These mood changes would cause a significant detriment. The feeling of anxiety that this person describes in the previous post expresses intense emotional distress and could be causing significant discomfort at work, personal life, or relationships. For this reason, it is relevant to assess whether this anxiety symptom corresponds to a depressive symptom in line with the fifth symptom of criterion A for major depressive disorder in the DSM-5."
                ],
                [
                  "29",
                  "I feel like you are having a bit of dysmorphia about your sack. Maybe, but if so, at least I have practical reasons for this dysmorphia. You can't couch your issues in different flavors to solve your goals man, thats not logical. You should understand that the lack of testosterone from a full castration will make you not care about that stuff nearly as much as you do now. Oh sure, but I will still have a romantic attraction to some women, now wouldn't I? You could find yourself alone and confused from lack of drive to pursue others. These are things you might not learn by asking one sided questions. While I might have less drive to pursue others sexually, I will still have a lot of drive to pursue others romantically. Plus, it's not like women have zero sex drive. I have balls but no sex drive, enough that I worry about taking testosterone supplements. Exactly how old are you, though? I ruined several relationships because neither of us understood how to talk about the problem. I am sorry to hear that. :( I hope you can find someone to talk to about your sexual needs and help you to find an answer that is beneficial to you before you do something drastic. How about a therapist at my university, though? I'm glad to pm in further if you like. OK; thus, go ahead and do this! :) Seriously. :)",
                  "['NO_SYMPTOMS']",
                  "Although the person who wrote the previous post manifests problems with sexual desire, this problem is not associated with a depressed mood, so it is not sufficient to affirm that the loss of sexual desire is a consequence of symptoms of major depressive disorder mentioned in the DSM-5. Following the description of the disorder, sadness, loss of desire, and motivation are the basis of the loss of sexual desire in depression, an aspect that can not be inferred in this post."
                ],
                [
                  "30",
                  "My health. Being dizzy makes being productive extremely difficult. As so I'm left feeling pessimistic on a daily basis. I lost my job last week, so that hasn't helped much, and it was due to being dizzy. I hope to go back to school in the fall, but I have spent the past week trying to get ahold of the admissions office and the administrator for the school, and so far nothing. My job was working as a SPED Paraeducator at an elementary school. My dream job is to work as an Art Therapist helping children and adolescents. Shitty health + losing job because of health + awaiting an important phone call = a shitty time\nEdit: words",
                  "['DEPRESSED_MOOD']",
                  "This pessimistic thought is an idea related to the seventh symptom of criterion A to Major depressive disorder, which could implicate the presence of depressive episodes and negative deep mood in line with DSM-5."
                ],
                [
                  "31",
                  "My boyfriend of three years has depression and I'm struggling what what to do? He was diagnosed 1 month ago and given anti-depressants after feeling low for a few months (which has been happening now and then for four years but he has never been to the doctors). When he was diagnosed he told me he needed space to sort his head out and for me to not talk to him for a few weeks, no-contact. I obliged and after 1 week he said he didn't like the thought of me being upset and it was all he could focus on so we decided to start texting again and he came and saw me, but he said he didn't know if he wanted to see me again for a while. I then saw him that weekend for about two hours, and have seen him once a week since then usually for a night and a few hours the next day. He actually seems completely normal and happy when I have seen him which is nice, we laugh like we always do. Good things are happening with his job and he is doing really well and has applied for a promotion. I am not seeing him throughout the week, and he has not come round to see my family in months - I have gone to see his. He has forgotten our anniversary and I gave him a card but he didn't get me one or offer to pay for the dinner we reluctantly went out for (something he would usually offer on our anniversary). He has been going on nights out with his friends. I feel constantly on edge and nervous he's going to stop speaking to me or going to decide he can't see me. I think I'm having a hard time thinking that the depression has caused the way he has been acting because when I see him he is normal and excited about his job and just not different. We haven't had sex for about 7 weeks because of the depression and now the anti-depressants have taken away his sex-drive. When we do see eachother we cuddle and it's nice but it's not the same intimacy and I don't know when his sex-drive is going to be back...\nI am really struggling with knowing what to do, I miss him and feel so so lonely even though he is in my life, and because I feel like this I want to confide in him but I can't. I have have such high anxiety levels at the minute, little things keep getting to me. This all may sound selfish but it's just hit me how down I have been for the last month doing everything on his terms and praying he feels better and wants me in his life still.",
                  "['PSYCHOMOTOR']",
                  "This post may indicate possible emotional agitation that relates to the symptoms of major depressive disorder included in the DSM-5. This disorder describes agitation as a characteristic symptom of depression, and these symptoms may be related to the behavior described by the person who published this post."
                ],
                [
                  "32",
                  "Does anyone else feel guilty after they have anxiety attacks? I always feel guilty about what i do when i'm in the middle of an attack. When people try to help i always flinch away terrified, like a wounded animal. Days later i have this lingering guilt and paranoia about what that person thinks of me now that they've seen me act this way. This only brings on more anxiety. Anyone else?",
                  "['WORTHLESSNESS']",
                  "The feelings expressed in the previous post indicate the presence of feelings of excessive guilt. This behavior may be related to the depressive symptomatology mentioned in the seventh symptom of DSM-5 criterion A for the diagnosis of major depressive disorder.  The feelings expressed in the previous post indicate the presence of feelings of self-criticalness. This behavior may be related to the depressive symptomatology mentioned in the seventh symptom of DSM-5 criterion A for the diagnosis of major depressive disorder."
                ],
                [
                  "33",
                  "I understand, that I am not SPD, but I still have it. It was not a choice, and I am finding it hard to accept (at least right now). My brain is in constant contradiction mode. The things I want to enjoy are things I cannot enjoy. I can get out of my shell, fake the best social skills in the world, go out with a a few high school classmates with whom I felt comfortable to talk with, and .... I don't enjoy it. I can't enjoy it. I want to go home and be alone. Then I go home, see them interacting with other people, then I get envious and sad. It's just a very annoying thing to go through, and I don't see how to fix it. I just moved to another country and I still don't have insurance, plus because of what I am doing, I don't think therapy is a wise thing to go through. For the next year at least, I can't get help. I'll probably feel better soon, get over it, go back to my old hermit self. But next month, I'll reach another low, then another high (it's really 'median'), then an another low.",
                  "['ANHEDONIA']",
                  "Although the previous sentence indicates a feeling of loss of pleasure in enjoying things that previously brought pleasure and interest, the contextual information is not sufficient to affirm that this behavior corresponds to a symptom of major depressive disorder of the DSM-5. Although the previous sentence indicates a feeling of loss of interest in enjoying things that previously brought pleasure and interest, the contextual information is not sufficient to affirm that this behavior corresponds to a symptom of major depressive disorder of the DSM-5."
                ],
                [
                  "34",
                  "This is a complete self diagnosis I'm saying right here, but I'm pretty sure SSRIs aren't for me. I think I might have low dopamine levels because my concentration and motivation levels are extremely low.",
                  "['ANHEDONIA', 'COGNITIVE_ISSUES']",
                  "In line with the symptoms of major depressive disorder, this person would meet the eighth symptom of major depressive disorder of the DSM-5, which refers to concentration difficulties. This post manifests low levels of motivation, which could be an emotional marker of loss of interest, a symptom of a depressive episode of major depressive disorder of DSM-5."
                ],
                [
                  "35",
                  "Recently Opened Documents How well do you pay attention to your list of recently opened documents? Last night, when tracking down a file I had worked on, I spotted an unfamiliar filename on the list: ryansjournal.docx. Privacy be dammed, I read it. I wish I hadnt. A whole day has gone by, and I still cannot shake the goose bumps: the content wasdisturbing, to say the least. Take a look:\n**Entry 1 - July 2nd, 2014:**\n*My name is Ryan and Im 11 years old. Im writing this journal for a time capsule Im burying. Hi, older me! Hope you made it as a firefighter!* *Me and mom moved this week. Theres a lot of boxes everywhere. I dont like it here. Its really small. I miss my big backyard with the pool and all the oak trees. I used to climb them and pretend I was king of the forest. There are no trees here. Just a fence and a bit of grass. I dont know anyone here. The worst is that its REALLY creepy at night. The shadows in my room look like theyre about to reach out and grab me. Im too old for a nightlight so I snuck a flashlight under my pillow so mom wont ask questions.* My intention in moving was simple: shorten my commute to work and lower my bills. I was wasting so much money heating up an entire house, when a two-bedroom apartment did the job. The apartment is in the basement, so it requires less AC in the summer and less heating in the winter. As an added bonus, the place is pitch black at night. The master bedroom in my old house overlooked a street lamp. Not even the blackest of curtains could keep the light from shining in and, as a result, I had trouble falling asleep. I sleep like a baby in this apartment. **Entry 2 July 16th, 2014:**\n*Mom finished unpacking. She must have forgotten a few boxes, because I dont have any toys to play with. I still dont have any friends because mom wont let me go to the park. She said Ill make new friends when school starts. I think shes just too lazy to show me the way to the park. This sucks! I hate it here! I hate HER! Shes the WORST! I wish I had someone to talk to! I want to go home! Every night, the shadows get closer and closer to my bed and I scare them away with my flashlight. Im afraid the batteries will die.* **Entry 3 July 30th, 2014:**\n*Today, I made a new friend!!! His name is Deacon and he lives in my closet behind a super-secret door Im not supposed to tell mom about. Hes really fun. His favorite color is green, just like me! I hope me and Deacon will be friends forever. He likes all the same food as me and plays all the same games! Hes older and a little scary-looking, but I dont mind. He even told me he could protect me from the shadows at night.* **Entry 4 August 13th, 2014:**\n*I asked mom if Deacon could have supper with us tonight, but she ignored me. She was on her computer again, looking at weird symbols all evening. I grabbed an extra plate of food after supper and took it to my room for Deacon. He loved the ground beef but didnt touch the peas. I cant blame him. Peas are gross!* I work as a Web Developer at a University, and August is our busiest time of the year. Its not unusual for me to have to do a bit of overtime in the weeks leading up to the start of the Fall semester. I suppose HTML code can look a lot like weird symbols to the untrained eye. I can read HTML like you would read a book. Its like my mind automatically renders the tags into their intended format. I suppose to others, it must be as foreign as sheet music is to me: I do not understand it and all I see are a bunch of dots on a half-dozen lines. **Entry 5 August 27th, 2014:**\n*Mom still wont let me invite Deacon for supper, so I have to sneak food to him every night. She keeps telling me Deacon isnt real. She says Im too old to have an imaginary friend. I told her to go suck a turdsicle. She didnt like that. I was sent to my room. I hate her. Deacon is real! Hes my best friend! He even crawls into bed with me at night to protect me from the scary shadows in the room. He holds me so tight that I cant move sometimes. He says as long as were together were safe. I believe him. I see the shadows scurrying away and up the wall whenever he crawls over.* **Entry 6 September 24th, 2014:**\n*Sorry I didnt write for a while. I started school and had SO MUCH homework. Mom wont let me on the computer unless Im done. 5th graders get a LOT of homework. By the time Im done, moms on her stupid websites and wont let me have my turn. Why cant we have two computers like a normal family?!!??!?! At least I have Deacon to talk to. Mom doesnt like it when she hears us talk. She says its not healthy to talk to myself. Shes a triple-stupid dumb-shake with a cherry on top! If shed just let him eat with us, shed see hes real.* A crudely drawn [MS Paint doodle](<URL>) was included with this entry. On it, I can make out Ryan with a tall, dark figure looming over him, holding his shoulders. The man has long, claw-like fingers, big dark holes for eyes, and a large gaping smiling mouth with sharp fangs. He seems to be looking at my cat, who is cowering in the corner of the room. **Entry 7 October 8th, 2014:**\n*Deacon isnt happy. Mom found his hiding spot. She got rid of all his stuff!!! Hes hiding in the ceiling now. Theres a little crawl space where the air conditioner goes. Hes in there right now. I can hear him grunting. Hes so upset. Mom needs to apologize if she knows whats good for her.* I did find a little door in the walk-in closet. I opened it up and got a face full of dust. There were a few boxes of trinkets, which I assumed belonged to the apartments previous owners. I tossed them out. Who needs old rags, magazines, and worn shoes? I found the small storage space after hearing skittering noises in the walls. I wasnt sure if mice had gotten in, or if the apartment was crackling from the cold outside. I never dreamed I would find the perfect place to store winter apparel. I cleaned it up and filled it with coats and boots. **Entry 8 October 22nd, 2014:**\n*Deacon couldnt come and protect me last night because mom left my bedroom door open. He said he doesnt want her to see us together. She might make him go away if she saw him and the shadows. I was so scared. I cried myself to sleep. I needed his big strong arms to protect me. I woke up in the middle of the night and saw shadows crawling towards me. They lifted from the floor and made squishy noises like they were made of slime putty. I screamed for my mom but she didnt come. One of the shadows got on the bed and I felt it crawling towards me. Threw my flashlight at it. It must have landed on the switch, because it lit up and the shadows disappeared under the bed.* I remember keeping the door open because the room smelled awful and desperately needed to be aired out. I always keep the door shut so at least one room is devoid of cat fur. I would have opened the window instead of the door, but it has been stuck since the move and no amount of force has managed to pry it loose. I had no choice but to leave the door open all day and overnight. I was pleasantly surprised that the cat did not even try to step foot inside. **Entry 9 November 5th, 2014:**\n*Mom has been keeping my door open. Deacon is getting really angry with her. He says hes going to have to deal with her soon. I warned her Deacon was getting mad, but shes still insisting Deacon isnt real. Stupid stupid stupid. Deacon is watching.* That entry is the last one in the journal. If that wasnt creepy enoughheres the really weird thing: Im single and I live alone with my cat. I do not nor have I ever- had a child. I dont know what to say: maybe its a bad prank, but I checked the file properties and it was created in July and last updated on November 5th. I havent had houseguests since late October. My computer is not synched up to any device, nor does it have the capability to do so. I noticed the entries are typically written every other Wednesday, so I am curious to see if there will be a new one tomorrow. If there is, I will give you guys an update. **Update (November 19th, 2014):** I barely slept last night. I decided to check the journal before I went to work. I dont even know what to say. To say that I am horrified is putting it lightly. Here is the entry:\n**Entry 10 November 19th, 2014:**\n*Deacon is real and hes coming for you. Deacon is real and hes coming for you. Deacon is real and hes coming for youunless the shadows get you first.* I think I am going to stay at a motel tonight. **Update (November 24th, 2014):** I just wanted to give you guys an update. I think I am freaking myself out over nothing. Ever since I read the journal, I keep seeing things move around in the dead of night. Around 3:00 a.m. this morning, I got up to use the restroom and saw my cat standing in the kitchen. He walked towards his food bowl and I heard a familiar crunching sound. I left him alone and went back to bed. As I slipped under the covers, my foot grazed my cat's head and he gave me an insulted, half-asleep meowl. There's no way he ran past me from the kitchen into my room: the hallway is too narrow. I would have seen or felt him. I was probably just sleep-deprived and imagined seeing him in the kitchen. People asked to see the drawing I found in Ryan's journal. It has been uploaded: [Ryan's Drawing](<URL>)",
                  "['DEPRESSED_MOOD']",
                  "This expression is a signal of sadness that can indicate an easy cry, a characteristic of sadness that is present in the depressed mood of major depressive disorder. The sadness and depressed mood could be expressed in different ways, the cry is one. For this reason, this crying could be related to depression criterion one of the diagnosis of this disorder."
                ],
                [
                  "36",
                  "I only hate myself\n:'/",
                  "['WORTHLESSNESS']",
                  "According to the DSM-5, this phrase may express a deep feeling of generalized self-contempt. This post could be associated with the seventh symptom of criterion A of major depressive disorder."
                ],
                [
                  "37",
                  "CD21 checking in. Today I feel just tired. No big depression like on some days, but nothing awesome either. Just waiting to ovulate, this is so long ugh... -_-",
                  "['FATIGUE']",
                  "This post is an emotional signal about tiredness or fatigue, which could be a specific behavior of depressive symptomatology. Many people with Major depressive disorder experience significant tiredness for two weeks. The mental health professional should do a deep assessment of these symptoms and other changes in mood."
                ],
                [
                  "38",
                  "I'd certainly kill myself.",
                  "['SUICIDAL_THOUGHTS']",
                  "Considering the symptoms of a major depressive episode described in the DSM-5, this person may be developing a significant desire to die and thoughts related to death. Therefore, the wish to die may manifest the appearance of a severely depressed mood. As a mental health professional, I would pay attention to this comment because there may be a risk to the person's life and the development of new symptoms."
                ],
                [
                  "39",
                  "I don't know how to get to sleep. I'm too scared to sleep, and when I finally do get to bed, it takes ages for me to fall asleep. I suppose I could with the School Services but I don't want to feel like I'm wasting their time.",
                  "['SLEEP_ISSUES']",
                  "This person tells how they have developed a fear of sleeping, possibly having difficulty conciliating the sleep. These behavioral changes could be related to the symptoms forth of major depressive disorder. This symptom describes insomnia or hypersomnia as a significant behavior of these people."
                ],
                [
                  "40",
                  "I struggle to concentrate and have a low attention span. Tips and Tricks? Hey guys this is a short post because of the problem, I have a really low attention span I struggle to wrok for long periods of time, i have to break up TV Shows and Movies into 10 minute intervals (not all the time) and I cant play video games for more than half an hour.",
                  "['NO_SYMPTOMS']",
                  "Although the above sentence describes an attention problem, it does not correspond to the attention problems typical of depressed mood states. Therefore, this sentence is not relevant as a symptom of depression since the problem described corresponds to another clinical pathology."
                ],
                [
                  "41",
                  "I have a very hardtime making decisions. And people have said that go with your gut alot than trusting anything else.",
                  "['COGNITIVE_ISSUES']",
                  "The emotional tone of this sentence suggests a possible change in the ability to think, make decisions, and respond appropriately to daily demands due to the presence of a depressed mood. This cognitive problem corresponds with the eighth symptom of criterion A of major depressive disorder in the DSM-5."
                ],
                [
                  "42",
                  "Ima cry so hard.",
                  "['DEPRESSED_MOOD']",
                  "Generalized crying can be a way of expressing the sadness of a depressive mood and causing discomfort. In line with the major depressive disorder of the DSM-5, this phrase may be related to the first symptom of criterion A for the diagnosis of this disorder."
                ],
                [
                  "43",
                  "Amazing advice, thank you so much. My curriculum is all over the place. I try to make to do lists and planners but never stick to it. That's the issue here. I kind of wanted someone to help me formulate a realistic, doable study plan this time. I sat down today and did managed to do make a \"plan\" for tomorrow but I'm not sure how it'll go. Pomodoro never works for me I don't know why. I still feel tired and I don't know, I think I just get distracted to quickly. I can't afford to take off any more days unfortunately :( I haven't even made plans for my birthday this year because that's how fucked I am for my finals. So yeah, it's all about gearing up at this point and just doing it. Thank you once again for the sweet reply :)",
                  "['COGNITIVE_ISSUES', 'FATIGUE']",
                  "Consistent with the symptoms in criterion A for the diagnosis of major depressive disorder, this person may meet symptom eight of decreased ability to think due to the presence of emotions associated with sadness that affect the ability to think. Many people with major depressive disorder have slow thinking because of depression. This diminished ability to think can affect decision-making, thinking, reasoning, and the processing of information.  Consistent with the symptoms in criterion A for the diagnosis of major depressive disorder, this person might meet symptom six about fatigue or loss of energy that is present in criterion A for the diagnosis of the disorder. Many people with depression experience tiredness or fatigue and loss of energy that prevents them from doing any activity or maintaining minimal self-care."
                ],
                [
                  "44",
                  "I start welling up if I just think about that film for too long. I haven't cried like that any time before or since. I'd recommend it to anyone though.",
                  "['DEPRESSED_MOOD']",
                  "This phrase is an indicator of depressed mood, the first symptom of a depressive episode according to Major depressive disorder DSM-5. Thus, this sentence is an example of crying and sadness related to a depressive episode, which gives relevant information for a possible diagnosis or clinical symptom."
                ],
                [
                  "45",
                  "Anxiety sucks, every. But more-so today. Well, first of, let me start by saying, it's nice to know that I'm not the only one here. Knowing you guys are facing your own battles AND WINNING, gives me strength. Let me share my story now. I'm a nursing student and my clinical instructor saw I was having some anxiety and clinical. So she set up a 4 part plan to help me. The last step was to go into a room that REALLY scares me...this is the the room where I started having panic attacks two years back. I agreed with 3 of the 4 step plan and told her that I was really uncomfortable with the 4th step. That it wouldn't help me and that anxiety doesn't just go away that easily. You can't just put someone in front of their stimulant and just expect things to get better, nevertheless, she did. I went into that room today...and I was doing well until half way through. Then one word from an instructor on just turning an IV bag upside down and I froze. I was useless. I became excessively hot, sweating, shaking finger, heart palpitations, the works. I'm just so frustrated because I've done so well so far and this one thing brought me down. Just came for a little support and ranting here. Thanks guys.",
                  "['WORTHLESSNESS']",
                  "This post may suggest that this person may be developing or experiencing feelings of worthlessness, such as evaluating past failure. These feelings are related to the symptoms of major depressive disorder included in the DSM-5, where these feelings are the seventh symptom of criterion A of the disorder."
                ],
                [
                  "46",
                  "I have a lot of inner demons, which translates into *literally* every story I've written to-date having some sort of truth about me in it. Whether it's an expetience, fear, etc. Writing about it really helps me cope. For example, my mom was recently in the hospital with kidney failure - I wrote [this](<URL>). Sometimes it isn't central to the plot like that. It's always there, though. Also, to be perfectly honest, I've always wanted to be a great writer. It's just taken me 25 years to become comfortable with trying. So that constantly keeps me motivated to keep publishing stories and writing about new topics. Finally, I *love* horror. I grew up on it. Think what you will, but my mom introduced me to horror movies when I was still a single-digit age. It didn't scar me. Well, I do have some *irrational fears* from some things (ha, get it /u/IrrationalFearsHost?! I said your podcast name), but nothing that's negatively impacted my life. Instead, I fell in love. I love being scared or disturbed. I love not being able to sleep at night. I want to do for other people what all of those great horror directors amd writers did for me. Full disclosure: I didn't read the full post.",
                  "['NO_SYMPTOMS']",
                  "Although this publication expresses a decrease in sleep, the meaning of the phrase allows us to affirm that this person does not present displeasure or discomfort caused by lack of sleep. For this reason, this lack of sleep cannot be related to a possible depressed mood, as occurs in depression disorder."
                ],
                [
                  "47",
                  "I've had a lot of trouble with depression over the past two years, and my dad's struggled with it, when he was a teenager and even these days sometimes. I tried to kill myself last Wednesday. It scared him a lot and I felt awful. But then other times he reminds me that I'm so selfish and awful, and how I can never give back. They spent so much money on me - hospital and antidepressants and therapy. It stressed my mom out a lot too. he's reminded me that it all depends on me and what I do in life, but just feels like I'm such a burden on them, I don't know what to do :(",
                  "['SUICIDAL_THOUGHTS']",
                  "Suicidal thoughts can appear in episodes of deep sadness, and in these cases, they are related to a possible major depressive disorder. For this reason, the previous post is a clinically important comment because it is a symptom of the major depressive disorder mentioned in the DSM-5 and which recognizes ideas, attempts, and desires to die as a form of depression."
                ],
                [
                  "48",
                  "Zoloft was a completely terrible med for me. I was on it for roughly 6 months and it was hell. I couldn't sleep at night, I was really, really irritable and emotionally numb. I also had a major issue with rage. I went cold turkey off it!! Not recommended at all. I would call the doctor and tell them what's going on.",
                  "['DEPRESSED_MOOD']",
                  "The use of medicines like antidepressants is the signal of symptoms associated with major depressive disorder. Following the description of the disorder, the use of medications to treat depression is a sign of the presence of a high interference of emotional difficulties in the daily functioning and physical health of the person. This person could be having problems sleeping, eating, having energy, or having general sadness. Irritability in depression can cause trouble sleeping, being calm, or emotionally upset because of a generalized depressed mood. Thus, the above sentence is associated with the symptoms of sadness and depressed mood of DSM-5 major depressive disorder, which refers to dislike for the feelings and emotions that constantly cause depression."
                ],
                [
                  "49",
                  "I have issues with depression and anxiety and I definitely feel a huge improvement. Maybe it's because I'm low carb, but it could also be that I'm just feeling good by doing something good for my body. I also get a nice mood boost when I see that I have lost weight. My depression usually makes me say \"I can't\" to myself, so sticking to keto helps me fight that feeling. As for my anxiety, I could barely sit still before keto. Now I feel so much more calm and relaxed, and I barely ever have mood swings.",
                  "['PSYCHOMOTOR', 'WORTHLESSNESS']",
                  "When a person constantly states that \"I can't,\" it can be a signal of a feeling of worthlessness or generalized failure. In this sense, this person could be developing symptoms associated with DSM-5 major depressive disorder, which refers to the presence of intense thoughts and feelings of worthlessness, failure, emptiness, and low self-esteem that are related to major depression.  Although the person expresses that they do not feel agitated or emotionally irritable now, it can be a risk factor for the appearance of new symptoms of agitation, restlessness, or anger. The onset of psychomotor agitation could be a problem associated with the fifth symptom of DSM-5 criterion A for the diagnosis of major depressive disorder."
                ]
              ],
              "shape": {
                "columns": 3,
                "rows": 1484
              }
            },
            "text/html": [
              "<div>\n",
              "<style scoped>\n",
              "    .dataframe tbody tr th:only-of-type {\n",
              "        vertical-align: middle;\n",
              "    }\n",
              "\n",
              "    .dataframe tbody tr th {\n",
              "        vertical-align: top;\n",
              "    }\n",
              "\n",
              "    .dataframe thead th {\n",
              "        text-align: right;\n",
              "    }\n",
              "</style>\n",
              "<table border=\"1\" class=\"dataframe\">\n",
              "  <thead>\n",
              "    <tr style=\"text-align: right;\">\n",
              "      <th></th>\n",
              "      <th>text</th>\n",
              "      <th>labels</th>\n",
              "      <th>explanation</th>\n",
              "    </tr>\n",
              "  </thead>\n",
              "  <tbody>\n",
              "    <tr>\n",
              "      <th>0</th>\n",
              "      <td>Voices of Recovery - Daily Meditation: Dec 20 ...</td>\n",
              "      <td>[NO_SYMPTOMS]</td>\n",
              "      <td>The previous post would suggest the presence o...</td>\n",
              "    </tr>\n",
              "    <tr>\n",
              "      <th>1</th>\n",
              "      <td>Our Blind Spot [part four] [Part One](&lt;URL&gt;)\\n...</td>\n",
              "      <td>[PSYCHOMOTOR]</td>\n",
              "      <td>Psychomotor agitation is a characteristic symp...</td>\n",
              "    </tr>\n",
              "    <tr>\n",
              "      <th>2</th>\n",
              "      <td>Health update I'm getting so much better. Even...</td>\n",
              "      <td>[NO_SYMPTOMS]</td>\n",
              "      <td>The person who wrote this post claims to have ...</td>\n",
              "    </tr>\n",
              "    <tr>\n",
              "      <th>3</th>\n",
              "      <td>Dude, I can't even tell you the last time some...</td>\n",
              "      <td>[ANHEDONIA]</td>\n",
              "      <td>This post suggests that this person is develop...</td>\n",
              "    </tr>\n",
              "    <tr>\n",
              "      <th>4</th>\n",
              "      <td>My sadness is immeasurable and my day is ruined.</td>\n",
              "      <td>[DEPRESSED_MOOD]</td>\n",
              "      <td>This post describes intense pain and immeasura...</td>\n",
              "    </tr>\n",
              "    <tr>\n",
              "      <th>...</th>\n",
              "      <td>...</td>\n",
              "      <td>...</td>\n",
              "      <td>...</td>\n",
              "    </tr>\n",
              "    <tr>\n",
              "      <th>1479</th>\n",
              "      <td>Jobs/careers?? Im diagnosed bipolar 1, and eve...</td>\n",
              "      <td>[WORTHLESSNESS, FATIGUE]</td>\n",
              "      <td>This post can suggest the presence of tirednes...</td>\n",
              "    </tr>\n",
              "    <tr>\n",
              "      <th>1480</th>\n",
              "      <td>My twin brother got in trouble because I taugh...</td>\n",
              "      <td>[WORTHLESSNESS]</td>\n",
              "      <td>The above sentence can suggest feelings of gui...</td>\n",
              "    </tr>\n",
              "    <tr>\n",
              "      <th>1481</th>\n",
              "      <td>Not very well, I constanly want to kill myself.</td>\n",
              "      <td>[SUICIDAL_THOUGHTS]</td>\n",
              "      <td>This post suggests that the person has posted ...</td>\n",
              "    </tr>\n",
              "    <tr>\n",
              "      <th>1482</th>\n",
              "      <td>I know I cant concentrate with other people be...</td>\n",
              "      <td>[NO_SYMPTOMS]</td>\n",
              "      <td>This publication suggests a possible attention...</td>\n",
              "    </tr>\n",
              "    <tr>\n",
              "      <th>1483</th>\n",
              "      <td>thats ok, you dont have to feel bad. this real...</td>\n",
              "      <td>[WORTHLESSNESS]</td>\n",
              "      <td>Yes, the comment could reflect a symptom of ma...</td>\n",
              "    </tr>\n",
              "  </tbody>\n",
              "</table>\n",
              "<p>1484 rows × 3 columns</p>\n",
              "</div>"
            ],
            "text/plain": [
              "                                                   text  \\\n",
              "0     Voices of Recovery - Daily Meditation: Dec 20 ...   \n",
              "1     Our Blind Spot [part four] [Part One](<URL>)\\n...   \n",
              "2     Health update I'm getting so much better. Even...   \n",
              "3     Dude, I can't even tell you the last time some...   \n",
              "4      My sadness is immeasurable and my day is ruined.   \n",
              "...                                                 ...   \n",
              "1479  Jobs/careers?? Im diagnosed bipolar 1, and eve...   \n",
              "1480  My twin brother got in trouble because I taugh...   \n",
              "1481    Not very well, I constanly want to kill myself.   \n",
              "1482  I know I cant concentrate with other people be...   \n",
              "1483  thats ok, you dont have to feel bad. this real...   \n",
              "\n",
              "                        labels  \\\n",
              "0                [NO_SYMPTOMS]   \n",
              "1                [PSYCHOMOTOR]   \n",
              "2                [NO_SYMPTOMS]   \n",
              "3                  [ANHEDONIA]   \n",
              "4             [DEPRESSED_MOOD]   \n",
              "...                        ...   \n",
              "1479  [WORTHLESSNESS, FATIGUE]   \n",
              "1480           [WORTHLESSNESS]   \n",
              "1481       [SUICIDAL_THOUGHTS]   \n",
              "1482             [NO_SYMPTOMS]   \n",
              "1483           [WORTHLESSNESS]   \n",
              "\n",
              "                                            explanation  \n",
              "0     The previous post would suggest the presence o...  \n",
              "1     Psychomotor agitation is a characteristic symp...  \n",
              "2     The person who wrote this post claims to have ...  \n",
              "3     This post suggests that this person is develop...  \n",
              "4     This post describes intense pain and immeasura...  \n",
              "...                                                 ...  \n",
              "1479  This post can suggest the presence of tirednes...  \n",
              "1480  The above sentence can suggest feelings of gui...  \n",
              "1481  This post suggests that the person has posted ...  \n",
              "1482  This publication suggests a possible attention...  \n",
              "1483  Yes, the comment could reflect a symptom of ma...  \n",
              "\n",
              "[1484 rows x 3 columns]"
            ]
          },
          "execution_count": 40,
          "metadata": {},
          "output_type": "execute_result"
        }
      ],
      "source": [
        "# Load dataset\n",
        "data = pd.read_csv('data/redsm5.csv')\n",
        "data['labels'] = data['labels'].apply(lambda x: x.split(';'))  # Convert labels to list\n",
        "\n",
        "# MultiLabel Binarization\n",
        "mlb = MultiLabelBinarizer()\n",
        "labels = mlb.fit_transform(data['labels'])\n",
        "texts = data['text'].tolist()\n",
        "\n",
        "# Train-test split\n",
        "X_train, X_test, y_train, y_test = train_test_split(\n",
        "    texts, labels, test_size=0.2, random_state=42\n",
        ")\n",
        "\n",
        "print(f'{texts[0][0:15]}... ---> {labels[0]}')\n",
        "data"
      ]
    },
    {
      "cell_type": "markdown",
      "id": "5fca5097",
      "metadata": {},
      "source": [
        "## 🧾 Tokenization and Dataset Wrapping\n",
        "\n",
        "We load the `bert-base-uncased` tokenizer from Hugging Face. Then we define a helper function to tokenize all input texts, applying padding and truncation to fit BERT's maximum input size (512 tokens).\n",
        "\n",
        "A custom `TextDataset` class is defined, inheriting from PyTorch’s `Dataset`. It stores tokenized inputs and label tensors. This structure enables batch-wise training using `DataLoader`.\n",
        "\n",
        "We create two data loaders:\n",
        "- `train_loader` for shuffled mini-batches used during training,\n",
        "- `test_loader` for evaluation without shuffling.\n"
      ]
    },
    {
      "cell_type": "code",
      "execution_count": null,
      "id": "8964d089",
      "metadata": {
        "collapsed": true,
        "id": "8964d089"
      },
      "outputs": [
        {
          "data": {
            "application/vnd.jupyter.widget-view+json": {
              "model_id": "7d5d0a2e8ce3404d99eef050c7b58243",
              "version_major": 2,
              "version_minor": 0
            },
            "text/plain": [
              "tokenizer_config.json:   0%|          | 0.00/48.0 [00:00<?, ?B/s]"
            ]
          },
          "metadata": {},
          "output_type": "display_data"
        },
        {
          "data": {
            "application/vnd.jupyter.widget-view+json": {
              "model_id": "493bf2c8b350482e96d6568e5e0ac46e",
              "version_major": 2,
              "version_minor": 0
            },
            "text/plain": [
              "vocab.txt:   0%|          | 0.00/232k [00:00<?, ?B/s]"
            ]
          },
          "metadata": {},
          "output_type": "display_data"
        },
        {
          "data": {
            "application/vnd.jupyter.widget-view+json": {
              "model_id": "df76b124877a4ae19986dccc170c5bc5",
              "version_major": 2,
              "version_minor": 0
            },
            "text/plain": [
              "tokenizer.json:   0%|          | 0.00/466k [00:00<?, ?B/s]"
            ]
          },
          "metadata": {},
          "output_type": "display_data"
        },
        {
          "data": {
            "application/vnd.jupyter.widget-view+json": {
              "model_id": "296a8aa8a909469ca663692de97b596a",
              "version_major": 2,
              "version_minor": 0
            },
            "text/plain": [
              "config.json:   0%|          | 0.00/570 [00:00<?, ?B/s]"
            ]
          },
          "metadata": {},
          "output_type": "display_data"
        }
      ],
      "source": [
        "tokenizer = BertTokenizer.from_pretrained('bert-base-uncased')\n",
        "\n",
        "def tokenize_texts(texts, tokenizer, max_len=512):\n",
        "    return tokenizer(texts, padding=True, truncation=True, max_length=max_len, return_tensors='pt')\n",
        "\n",
        "class TextDataset(Dataset):\n",
        "    def __init__(self, texts, labels, tokenizer):\n",
        "        self.texts = tokenize_texts(texts, tokenizer)\n",
        "        self.labels = torch.tensor(labels, dtype=torch.float)\n",
        "\n",
        "    def __len__(self):\n",
        "        return len(self.labels)\n",
        "\n",
        "    def __getitem__(self, idx):\n",
        "        return {key: val[idx] for key, val in self.texts.items()}, self.labels[idx]\n",
        "\n",
        "train_dataset = TextDataset(X_train, y_train, tokenizer)\n",
        "test_dataset = TextDataset(X_test, y_test, tokenizer)\n",
        "\n",
        "train_loader = DataLoader(train_dataset, batch_size=8, shuffle=True)\n",
        "test_loader = DataLoader(test_dataset, batch_size=8, shuffle=False)"
      ]
    },
    {
      "cell_type": "markdown",
      "id": "9bf8eec3",
      "metadata": {},
      "source": [
        "## 🤖 BERT Model Initialization\n",
        "\n",
        "We initialize a `BertForSequenceClassification` model with a multi-label classification head. Key parameters include:\n",
        "- the number of output labels (derived from the dataset),\n",
        "- the task type: `\"multi_label_classification\"`.\n",
        "\n",
        "This model extends BERT with a final linear layer adapted for our 10 symptom categories. Finally, we move the model to GPU if available to accelerate training.\n"
      ]
    },
    {
      "cell_type": "code",
      "execution_count": null,
      "id": "7279a2c6",
      "metadata": {
        "colab": {
          "base_uri": "https://localhost:8080/"
        },
        "collapsed": true,
        "id": "7279a2c6",
        "outputId": "d8544119-382f-437d-9267-a073fa5fe9bc"
      },
      "outputs": [
        {
          "data": {
            "application/vnd.jupyter.widget-view+json": {
              "model_id": "fd721f3faddd4ec4a96d08f418262bcb",
              "version_major": 2,
              "version_minor": 0
            },
            "text/plain": [
              "model.safetensors:   0%|          | 0.00/440M [00:00<?, ?B/s]"
            ]
          },
          "metadata": {},
          "output_type": "display_data"
        },
        {
          "name": "stderr",
          "output_type": "stream",
          "text": [
            "Some weights of BertForSequenceClassification were not initialized from the model checkpoint at bert-base-uncased and are newly initialized: ['classifier.bias', 'classifier.weight']\n",
            "You should probably TRAIN this model on a down-stream task to be able to use it for predictions and inference.\n"
          ]
        },
        {
          "data": {
            "text/plain": [
              "BertForSequenceClassification(\n",
              "  (bert): BertModel(\n",
              "    (embeddings): BertEmbeddings(\n",
              "      (word_embeddings): Embedding(30522, 768, padding_idx=0)\n",
              "      (position_embeddings): Embedding(512, 768)\n",
              "      (token_type_embeddings): Embedding(2, 768)\n",
              "      (LayerNorm): LayerNorm((768,), eps=1e-12, elementwise_affine=True)\n",
              "      (dropout): Dropout(p=0.1, inplace=False)\n",
              "    )\n",
              "    (encoder): BertEncoder(\n",
              "      (layer): ModuleList(\n",
              "        (0-11): 12 x BertLayer(\n",
              "          (attention): BertAttention(\n",
              "            (self): BertSdpaSelfAttention(\n",
              "              (query): Linear(in_features=768, out_features=768, bias=True)\n",
              "              (key): Linear(in_features=768, out_features=768, bias=True)\n",
              "              (value): Linear(in_features=768, out_features=768, bias=True)\n",
              "              (dropout): Dropout(p=0.1, inplace=False)\n",
              "            )\n",
              "            (output): BertSelfOutput(\n",
              "              (dense): Linear(in_features=768, out_features=768, bias=True)\n",
              "              (LayerNorm): LayerNorm((768,), eps=1e-12, elementwise_affine=True)\n",
              "              (dropout): Dropout(p=0.1, inplace=False)\n",
              "            )\n",
              "          )\n",
              "          (intermediate): BertIntermediate(\n",
              "            (dense): Linear(in_features=768, out_features=3072, bias=True)\n",
              "            (intermediate_act_fn): GELUActivation()\n",
              "          )\n",
              "          (output): BertOutput(\n",
              "            (dense): Linear(in_features=3072, out_features=768, bias=True)\n",
              "            (LayerNorm): LayerNorm((768,), eps=1e-12, elementwise_affine=True)\n",
              "            (dropout): Dropout(p=0.1, inplace=False)\n",
              "          )\n",
              "        )\n",
              "      )\n",
              "    )\n",
              "    (pooler): BertPooler(\n",
              "      (dense): Linear(in_features=768, out_features=768, bias=True)\n",
              "      (activation): Tanh()\n",
              "    )\n",
              "  )\n",
              "  (dropout): Dropout(p=0.1, inplace=False)\n",
              "  (classifier): Linear(in_features=768, out_features=10, bias=True)\n",
              ")"
            ]
          },
          "execution_count": 5,
          "metadata": {},
          "output_type": "execute_result"
        }
      ],
      "source": [
        "model = BertForSequenceClassification.from_pretrained(\n",
        "    'bert-base-uncased',\n",
        "    num_labels=len(mlb.classes_),\n",
        "    problem_type='multi_label_classification'\n",
        ")\n",
        "device = torch.device('cuda' if torch.cuda.is_available() else 'cpu')\n",
        "model.to(device)"
      ]
    },
    {
      "cell_type": "markdown",
      "id": "cc11b81c",
      "metadata": {},
      "source": [
        "## 🧮 Loss Function and Optimizer\n",
        "\n",
        "We use `BCEWithLogitsLoss`, which is the standard loss function for multi-label classification. It combines a sigmoid layer and binary cross-entropy in a single function, making it ideal for predicting multiple independent labels.\n",
        "\n",
        "The optimizer is `AdamW`, which adapts learning rates during training and includes weight decay regularization.\n",
        "\n",
        "A learning rate of `2e-5` is chosen, consistent with standard fine-tuning practice for BERT-based models.\n"
      ]
    },
    {
      "cell_type": "code",
      "execution_count": null,
      "id": "a5b2d813",
      "metadata": {
        "id": "a5b2d813"
      },
      "outputs": [],
      "source": [
        "criterion = nn.BCEWithLogitsLoss()\n",
        "optimizer = AdamW(model.parameters(), lr=2e-5)"
      ]
    },
    {
      "cell_type": "markdown",
      "id": "9bd83f45",
      "metadata": {},
      "source": [
        "## 🏋️ Training the Model\n",
        "\n",
        "We train the BERT model for 5 epochs using the training data. For each batch:\n",
        "1. The input tokens and attention masks are moved to the GPU (if available).\n",
        "2. The model produces logits for each symptom class.\n",
        "3. We compute the binary cross-entropy loss (`BCEWithLogitsLoss`) between predictions and true labels.\n",
        "4. We perform backpropagation and update the model parameters using the AdamW optimizer.\n",
        "\n",
        "A progress bar is displayed using `tqdm`, and the loss value is updated in real time to monitor training.\n"
      ]
    },
    {
      "cell_type": "code",
      "execution_count": null,
      "id": "e3155de3",
      "metadata": {
        "colab": {
          "base_uri": "https://localhost:8080/"
        },
        "id": "e3155de3",
        "outputId": "0a4c13d0-17f2-4942-a787-856a7ea9e4c1"
      },
      "outputs": [
        {
          "name": "stderr",
          "output_type": "stream",
          "text": [
            "Epoch 1: 100%|██████████| 149/149 [00:28<00:00,  5.20it/s, loss=0.307]\n",
            "Epoch 2: 100%|██████████| 149/149 [00:26<00:00,  5.62it/s, loss=0.289]\n",
            "Epoch 3: 100%|██████████| 149/149 [00:26<00:00,  5.61it/s, loss=0.281]\n",
            "Epoch 4: 100%|██████████| 149/149 [00:26<00:00,  5.60it/s, loss=0.266]\n",
            "Epoch 5: 100%|██████████| 149/149 [00:26<00:00,  5.60it/s, loss=0.173]\n"
          ]
        }
      ],
      "source": [
        "model.train()\n",
        "for epoch in range(5):\n",
        "    loop = tqdm(train_loader, leave=True)\n",
        "    for batch in loop:\n",
        "        inputs, targets = batch\n",
        "        inputs = {key: val.to(device) for key, val in inputs.items()}\n",
        "        targets = targets.to(device)\n",
        "\n",
        "        optimizer.zero_grad()\n",
        "        outputs = model(**inputs).logits\n",
        "        loss = criterion(outputs, targets)\n",
        "        loss.backward()\n",
        "        optimizer.step()\n",
        "\n",
        "        loop.set_description(f\"Epoch {epoch+1}\")\n",
        "        loop.set_postfix(loss=loss.item())"
      ]
    },
    {
      "cell_type": "markdown",
      "id": "91a7b757",
      "metadata": {},
      "source": [
        "## 🧪 Evaluation on the Test Set\n",
        "\n",
        "After training, we evaluate the model using the held-out test data. The model is set to evaluation mode (`model.eval()`), and gradient computation is disabled to speed up inference and reduce memory usage.\n",
        "\n",
        "We:\n",
        "- Pass each test batch through the model.\n",
        "- Apply a sigmoid activation to obtain probabilities.\n",
        "- Threshold these probabilities at 0.5 to get binary predictions for each symptom.\n",
        "- Collect all predictions and true labels for final metric computation.\n"
      ]
    },
    {
      "cell_type": "code",
      "execution_count": null,
      "id": "52ef512e",
      "metadata": {
        "id": "52ef512e"
      },
      "outputs": [],
      "source": [
        "model.eval()\n",
        "all_preds, all_targets = [], []\n",
        "with torch.no_grad():\n",
        "    for batch in test_loader:\n",
        "        inputs, targets = batch\n",
        "        inputs = {key: val.to(device) for key, val in inputs.items()}\n",
        "        targets = targets.cpu().numpy()\n",
        "\n",
        "        outputs = torch.sigmoid(model(**inputs).logits).cpu().numpy()\n",
        "        preds = (outputs > 0.5).astype(int)\n",
        "\n",
        "        all_preds.extend(preds)\n",
        "        all_targets.extend(targets)"
      ]
    },
    {
      "cell_type": "markdown",
      "id": "5614b21c",
      "metadata": {},
      "source": [
        "## 📈 Performance Metrics\n",
        "\n",
        "We compute standard multi-label classification metrics using `classification_report` from `scikit-learn`. This includes precision, recall, and F1-score per class, as well as macro, micro, and weighted averages.\n",
        "\n",
        "- **Micro average** treats each label equally and aggregates contributions of all classes.\n",
        "- **Macro average** calculates metrics independently per class and then averages them.\n",
        "- **Weighted average** accounts for class imbalance by weighting metrics by support.\n",
        "- **Samples average** reflects how well the model performs across individual samples.\n",
        "\n",
        "We also report the overall accuracy (i.e., the proportion of exact match predictions across all labels per sample).\n"
      ]
    },
    {
      "cell_type": "code",
      "execution_count": null,
      "id": "u6ZEpr7fEJMS",
      "metadata": {
        "colab": {
          "base_uri": "https://localhost:8080/"
        },
        "id": "u6ZEpr7fEJMS",
        "outputId": "a9df1611-f3ae-453e-8203-682742e68e52"
      },
      "outputs": [
        {
          "name": "stdout",
          "output_type": "stream",
          "text": [
            "                   precision    recall  f1-score   support\n",
            "\n",
            "        ANHEDONIA       0.76      0.52      0.62        25\n",
            "  APPETITE_CHANGE       0.00      0.00      0.00        10\n",
            " COGNITIVE_ISSUES       0.00      0.00      0.00        10\n",
            "   DEPRESSED_MOOD       0.61      0.40      0.48        70\n",
            "          FATIGUE       0.75      0.64      0.69        28\n",
            "      NO_SYMPTOMS       0.39      0.41      0.40        73\n",
            "      PSYCHOMOTOR       0.00      0.00      0.00         8\n",
            "     SLEEP_ISSUES       0.00      0.00      0.00        18\n",
            "SUICIDAL_THOUGHTS       0.81      0.61      0.69        28\n",
            "    WORTHLESSNESS       0.73      0.61      0.67        72\n",
            "\n",
            "        micro avg       0.61      0.44      0.51       342\n",
            "        macro avg       0.41      0.32      0.36       342\n",
            "     weighted avg       0.55      0.44      0.48       342\n",
            "      samples avg       0.49      0.46      0.47       342\n",
            "\n",
            "Accuracy: 0.41\n"
          ]
        }
      ],
      "source": [
        "print(classification_report(all_targets, all_preds, target_names=mlb.classes_, zero_division=0))\n",
        "print(f\"Accuracy: {accuracy_score(all_targets, all_preds):.2f}\")"
      ]
    }
  ],
  "metadata": {
    "accelerator": "GPU",
    "colab": {
      "gpuType": "T4",
      "provenance": []
    },
    "kernelspec": {
      "display_name": "Python 3 (ipykernel)",
      "language": "python",
      "name": "python3"
    },
    "language_info": {
      "codemirror_mode": {
        "name": "ipython",
        "version": 3
      },
      "file_extension": ".py",
      "mimetype": "text/x-python",
      "name": "python",
      "nbconvert_exporter": "python",
      "pygments_lexer": "ipython3",
      "version": "3.11.12"
    }
  },
  "nbformat": 4,
  "nbformat_minor": 5
}
