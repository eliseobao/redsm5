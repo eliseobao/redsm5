{
  "cells": [
    {
      "cell_type": "markdown",
      "id": "Ci2hvUBQOM0O",
      "metadata": {
        "id": "Ci2hvUBQOM0O"
      },
      "source": [
        "# BERT Multilabel Classification with ReDSM5"
      ]
    },
    {
      "cell_type": "code",
      "execution_count": 1,
      "id": "f7769541",
      "metadata": {
        "id": "f7769541"
      },
      "outputs": [
        {
          "name": "stderr",
          "output_type": "stream",
          "text": [
            "2025-03-19 19:04:11.236057: E external/local_xla/xla/stream_executor/cuda/cuda_fft.cc:467] Unable to register cuFFT factory: Attempting to register factory for plugin cuFFT when one has already been registered\n",
            "WARNING: All log messages before absl::InitializeLog() is called are written to STDERR\n",
            "E0000 00:00:1742407451.432456  141921 cuda_dnn.cc:8579] Unable to register cuDNN factory: Attempting to register factory for plugin cuDNN when one has already been registered\n",
            "E0000 00:00:1742407451.481304  141921 cuda_blas.cc:1407] Unable to register cuBLAS factory: Attempting to register factory for plugin cuBLAS when one has already been registered\n",
            "W0000 00:00:1742407451.996031  141921 computation_placer.cc:177] computation placer already registered. Please check linkage and avoid linking the same target more than once.\n",
            "W0000 00:00:1742407451.996054  141921 computation_placer.cc:177] computation placer already registered. Please check linkage and avoid linking the same target more than once.\n",
            "W0000 00:00:1742407451.996055  141921 computation_placer.cc:177] computation placer already registered. Please check linkage and avoid linking the same target more than once.\n",
            "W0000 00:00:1742407451.996057  141921 computation_placer.cc:177] computation placer already registered. Please check linkage and avoid linking the same target more than once.\n",
            "2025-03-19 19:04:12.046876: I tensorflow/core/platform/cpu_feature_guard.cc:210] This TensorFlow binary is optimized to use available CPU instructions in performance-critical operations.\n",
            "To enable the following instructions: AVX2 FMA, in other operations, rebuild TensorFlow with the appropriate compiler flags.\n"
          ]
        }
      ],
      "source": [
        "# Import necessary libraries\n",
        "import pandas as pd\n",
        "from sklearn.model_selection import train_test_split\n",
        "from sklearn.metrics import classification_report, accuracy_score\n",
        "from sklearn.preprocessing import MultiLabelBinarizer\n",
        "\n",
        "import torch\n",
        "import torch.nn as nn\n",
        "from torch.utils.data import DataLoader, Dataset\n",
        "from torch.optim import AdamW\n",
        "\n",
        "from transformers import BertTokenizer, BertForSequenceClassification\n",
        "from tqdm import tqdm"
      ]
    },
    {
      "cell_type": "code",
      "execution_count": 3,
      "id": "bfb1fd5f",
      "metadata": {
        "colab": {
          "base_uri": "https://localhost:8080/",
          "height": 441
        },
        "id": "bfb1fd5f",
        "outputId": "145f0a30-2249-4eea-c001-be6865b1dbc8"
      },
      "outputs": [
        {
          "name": "stdout",
          "output_type": "stream",
          "text": [
            "Voices of Recov... ---> [0 0 0 0 0 1 0 0 0 0]\n"
          ]
        },
        {
          "data": {
            "text/html": [
              "<div>\n",
              "<style scoped>\n",
              "    .dataframe tbody tr th:only-of-type {\n",
              "        vertical-align: middle;\n",
              "    }\n",
              "\n",
              "    .dataframe tbody tr th {\n",
              "        vertical-align: top;\n",
              "    }\n",
              "\n",
              "    .dataframe thead th {\n",
              "        text-align: right;\n",
              "    }\n",
              "</style>\n",
              "<table border=\"1\" class=\"dataframe\">\n",
              "  <thead>\n",
              "    <tr style=\"text-align: right;\">\n",
              "      <th></th>\n",
              "      <th>text</th>\n",
              "      <th>labels</th>\n",
              "      <th>explanation</th>\n",
              "    </tr>\n",
              "  </thead>\n",
              "  <tbody>\n",
              "    <tr>\n",
              "      <th>0</th>\n",
              "      <td>Voices of Recovery - Daily Meditation: Dec 20 ...</td>\n",
              "      <td>[NO_SYMPTOMS]</td>\n",
              "      <td>The previous post would suggest the presence o...</td>\n",
              "    </tr>\n",
              "    <tr>\n",
              "      <th>1</th>\n",
              "      <td>Our Blind Spot [part four] [Part One](&lt;URL&gt;)\\n...</td>\n",
              "      <td>[PSYCHOMOTOR]</td>\n",
              "      <td>Psychomotor agitation is a characteristic symp...</td>\n",
              "    </tr>\n",
              "    <tr>\n",
              "      <th>2</th>\n",
              "      <td>Health update I'm getting so much better. Even...</td>\n",
              "      <td>[NO_SYMPTOMS]</td>\n",
              "      <td>The person who wrote this post claims to have ...</td>\n",
              "    </tr>\n",
              "    <tr>\n",
              "      <th>3</th>\n",
              "      <td>Dude, I can't even tell you the last time some...</td>\n",
              "      <td>[ANHEDONIA]</td>\n",
              "      <td>This post suggests that this person is develop...</td>\n",
              "    </tr>\n",
              "    <tr>\n",
              "      <th>4</th>\n",
              "      <td>My sadness is immeasurable and my day is ruined.</td>\n",
              "      <td>[DEPRESSED_MOOD]</td>\n",
              "      <td>This post describes intense pain and immeasura...</td>\n",
              "    </tr>\n",
              "    <tr>\n",
              "      <th>...</th>\n",
              "      <td>...</td>\n",
              "      <td>...</td>\n",
              "      <td>...</td>\n",
              "    </tr>\n",
              "    <tr>\n",
              "      <th>1479</th>\n",
              "      <td>Jobs/careers?? Im diagnosed bipolar 1, and eve...</td>\n",
              "      <td>[WORTHLESSNESS, FATIGUE]</td>\n",
              "      <td>This post can suggest the presence of tirednes...</td>\n",
              "    </tr>\n",
              "    <tr>\n",
              "      <th>1480</th>\n",
              "      <td>My twin brother got in trouble because I taugh...</td>\n",
              "      <td>[WORTHLESSNESS]</td>\n",
              "      <td>The above sentence can suggest feelings of gui...</td>\n",
              "    </tr>\n",
              "    <tr>\n",
              "      <th>1481</th>\n",
              "      <td>Not very well, I constanly want to kill myself.</td>\n",
              "      <td>[SUICIDAL_THOUGHTS]</td>\n",
              "      <td>This post suggests that the person has posted ...</td>\n",
              "    </tr>\n",
              "    <tr>\n",
              "      <th>1482</th>\n",
              "      <td>I know I cant concentrate with other people be...</td>\n",
              "      <td>[NO_SYMPTOMS]</td>\n",
              "      <td>This publication suggests a possible attention...</td>\n",
              "    </tr>\n",
              "    <tr>\n",
              "      <th>1483</th>\n",
              "      <td>thats ok, you dont have to feel bad. this real...</td>\n",
              "      <td>[WORTHLESSNESS]</td>\n",
              "      <td>Yes, the comment could reflect a symptom of ma...</td>\n",
              "    </tr>\n",
              "  </tbody>\n",
              "</table>\n",
              "<p>1484 rows × 3 columns</p>\n",
              "</div>"
            ],
            "text/plain": [
              "                                                   text  \\\n",
              "0     Voices of Recovery - Daily Meditation: Dec 20 ...   \n",
              "1     Our Blind Spot [part four] [Part One](<URL>)\\n...   \n",
              "2     Health update I'm getting so much better. Even...   \n",
              "3     Dude, I can't even tell you the last time some...   \n",
              "4      My sadness is immeasurable and my day is ruined.   \n",
              "...                                                 ...   \n",
              "1479  Jobs/careers?? Im diagnosed bipolar 1, and eve...   \n",
              "1480  My twin brother got in trouble because I taugh...   \n",
              "1481    Not very well, I constanly want to kill myself.   \n",
              "1482  I know I cant concentrate with other people be...   \n",
              "1483  thats ok, you dont have to feel bad. this real...   \n",
              "\n",
              "                        labels  \\\n",
              "0                [NO_SYMPTOMS]   \n",
              "1                [PSYCHOMOTOR]   \n",
              "2                [NO_SYMPTOMS]   \n",
              "3                  [ANHEDONIA]   \n",
              "4             [DEPRESSED_MOOD]   \n",
              "...                        ...   \n",
              "1479  [WORTHLESSNESS, FATIGUE]   \n",
              "1480           [WORTHLESSNESS]   \n",
              "1481       [SUICIDAL_THOUGHTS]   \n",
              "1482             [NO_SYMPTOMS]   \n",
              "1483           [WORTHLESSNESS]   \n",
              "\n",
              "                                            explanation  \n",
              "0     The previous post would suggest the presence o...  \n",
              "1     Psychomotor agitation is a characteristic symp...  \n",
              "2     The person who wrote this post claims to have ...  \n",
              "3     This post suggests that this person is develop...  \n",
              "4     This post describes intense pain and immeasura...  \n",
              "...                                                 ...  \n",
              "1479  This post can suggest the presence of tirednes...  \n",
              "1480  The above sentence can suggest feelings of gui...  \n",
              "1481  This post suggests that the person has posted ...  \n",
              "1482  This publication suggests a possible attention...  \n",
              "1483  Yes, the comment could reflect a symptom of ma...  \n",
              "\n",
              "[1484 rows x 3 columns]"
            ]
          },
          "execution_count": 3,
          "metadata": {},
          "output_type": "execute_result"
        }
      ],
      "source": [
        "# Load dataset\n",
        "data = pd.read_csv('data/redsm5.csv')\n",
        "data['labels'] = data['labels'].apply(lambda x: x.split(';'))  # Convert labels to list\n",
        "\n",
        "# MultiLabel Binarization\n",
        "mlb = MultiLabelBinarizer()\n",
        "labels = mlb.fit_transform(data['labels'])\n",
        "texts = data['text'].tolist()\n",
        "\n",
        "# Train-test split\n",
        "X_train, X_test, y_train, y_test = train_test_split(\n",
        "    texts, labels, test_size=0.2, random_state=42\n",
        ")\n",
        "\n",
        "print(f'{texts[0][0:15]}... ---> {labels[0]}')\n",
        "data"
      ]
    },
    {
      "cell_type": "code",
      "execution_count": 4,
      "id": "8964d089",
      "metadata": {
        "collapsed": true,
        "id": "8964d089"
      },
      "outputs": [
        {
          "data": {
            "application/vnd.jupyter.widget-view+json": {
              "model_id": "7d5d0a2e8ce3404d99eef050c7b58243",
              "version_major": 2,
              "version_minor": 0
            },
            "text/plain": [
              "tokenizer_config.json:   0%|          | 0.00/48.0 [00:00<?, ?B/s]"
            ]
          },
          "metadata": {},
          "output_type": "display_data"
        },
        {
          "data": {
            "application/vnd.jupyter.widget-view+json": {
              "model_id": "493bf2c8b350482e96d6568e5e0ac46e",
              "version_major": 2,
              "version_minor": 0
            },
            "text/plain": [
              "vocab.txt:   0%|          | 0.00/232k [00:00<?, ?B/s]"
            ]
          },
          "metadata": {},
          "output_type": "display_data"
        },
        {
          "data": {
            "application/vnd.jupyter.widget-view+json": {
              "model_id": "df76b124877a4ae19986dccc170c5bc5",
              "version_major": 2,
              "version_minor": 0
            },
            "text/plain": [
              "tokenizer.json:   0%|          | 0.00/466k [00:00<?, ?B/s]"
            ]
          },
          "metadata": {},
          "output_type": "display_data"
        },
        {
          "data": {
            "application/vnd.jupyter.widget-view+json": {
              "model_id": "296a8aa8a909469ca663692de97b596a",
              "version_major": 2,
              "version_minor": 0
            },
            "text/plain": [
              "config.json:   0%|          | 0.00/570 [00:00<?, ?B/s]"
            ]
          },
          "metadata": {},
          "output_type": "display_data"
        }
      ],
      "source": [
        "# Tokenization\n",
        "tokenizer = BertTokenizer.from_pretrained('bert-base-uncased')\n",
        "\n",
        "def tokenize_texts(texts, tokenizer, max_len=512):\n",
        "    return tokenizer(texts, padding=True, truncation=True, max_length=max_len, return_tensors='pt')\n",
        "\n",
        "class TextDataset(Dataset):\n",
        "    def __init__(self, texts, labels, tokenizer):\n",
        "        self.texts = tokenize_texts(texts, tokenizer)\n",
        "        self.labels = torch.tensor(labels, dtype=torch.float)\n",
        "\n",
        "    def __len__(self):\n",
        "        return len(self.labels)\n",
        "\n",
        "    def __getitem__(self, idx):\n",
        "        return {key: val[idx] for key, val in self.texts.items()}, self.labels[idx]\n",
        "\n",
        "train_dataset = TextDataset(X_train, y_train, tokenizer)\n",
        "test_dataset = TextDataset(X_test, y_test, tokenizer)\n",
        "\n",
        "train_loader = DataLoader(train_dataset, batch_size=8, shuffle=True)\n",
        "test_loader = DataLoader(test_dataset, batch_size=8, shuffle=False)"
      ]
    },
    {
      "cell_type": "code",
      "execution_count": 5,
      "id": "7279a2c6",
      "metadata": {
        "colab": {
          "base_uri": "https://localhost:8080/"
        },
        "collapsed": true,
        "id": "7279a2c6",
        "outputId": "d8544119-382f-437d-9267-a073fa5fe9bc"
      },
      "outputs": [
        {
          "data": {
            "application/vnd.jupyter.widget-view+json": {
              "model_id": "fd721f3faddd4ec4a96d08f418262bcb",
              "version_major": 2,
              "version_minor": 0
            },
            "text/plain": [
              "model.safetensors:   0%|          | 0.00/440M [00:00<?, ?B/s]"
            ]
          },
          "metadata": {},
          "output_type": "display_data"
        },
        {
          "name": "stderr",
          "output_type": "stream",
          "text": [
            "Some weights of BertForSequenceClassification were not initialized from the model checkpoint at bert-base-uncased and are newly initialized: ['classifier.bias', 'classifier.weight']\n",
            "You should probably TRAIN this model on a down-stream task to be able to use it for predictions and inference.\n"
          ]
        },
        {
          "data": {
            "text/plain": [
              "BertForSequenceClassification(\n",
              "  (bert): BertModel(\n",
              "    (embeddings): BertEmbeddings(\n",
              "      (word_embeddings): Embedding(30522, 768, padding_idx=0)\n",
              "      (position_embeddings): Embedding(512, 768)\n",
              "      (token_type_embeddings): Embedding(2, 768)\n",
              "      (LayerNorm): LayerNorm((768,), eps=1e-12, elementwise_affine=True)\n",
              "      (dropout): Dropout(p=0.1, inplace=False)\n",
              "    )\n",
              "    (encoder): BertEncoder(\n",
              "      (layer): ModuleList(\n",
              "        (0-11): 12 x BertLayer(\n",
              "          (attention): BertAttention(\n",
              "            (self): BertSdpaSelfAttention(\n",
              "              (query): Linear(in_features=768, out_features=768, bias=True)\n",
              "              (key): Linear(in_features=768, out_features=768, bias=True)\n",
              "              (value): Linear(in_features=768, out_features=768, bias=True)\n",
              "              (dropout): Dropout(p=0.1, inplace=False)\n",
              "            )\n",
              "            (output): BertSelfOutput(\n",
              "              (dense): Linear(in_features=768, out_features=768, bias=True)\n",
              "              (LayerNorm): LayerNorm((768,), eps=1e-12, elementwise_affine=True)\n",
              "              (dropout): Dropout(p=0.1, inplace=False)\n",
              "            )\n",
              "          )\n",
              "          (intermediate): BertIntermediate(\n",
              "            (dense): Linear(in_features=768, out_features=3072, bias=True)\n",
              "            (intermediate_act_fn): GELUActivation()\n",
              "          )\n",
              "          (output): BertOutput(\n",
              "            (dense): Linear(in_features=3072, out_features=768, bias=True)\n",
              "            (LayerNorm): LayerNorm((768,), eps=1e-12, elementwise_affine=True)\n",
              "            (dropout): Dropout(p=0.1, inplace=False)\n",
              "          )\n",
              "        )\n",
              "      )\n",
              "    )\n",
              "    (pooler): BertPooler(\n",
              "      (dense): Linear(in_features=768, out_features=768, bias=True)\n",
              "      (activation): Tanh()\n",
              "    )\n",
              "  )\n",
              "  (dropout): Dropout(p=0.1, inplace=False)\n",
              "  (classifier): Linear(in_features=768, out_features=10, bias=True)\n",
              ")"
            ]
          },
          "execution_count": 5,
          "metadata": {},
          "output_type": "execute_result"
        }
      ],
      "source": [
        "# Model setup\n",
        "model = BertForSequenceClassification.from_pretrained(\n",
        "    'bert-base-uncased',\n",
        "    num_labels=len(mlb.classes_),\n",
        "    problem_type='multi_label_classification'\n",
        ")\n",
        "device = torch.device('cuda' if torch.cuda.is_available() else 'cpu')\n",
        "model.to(device)"
      ]
    },
    {
      "cell_type": "code",
      "execution_count": 6,
      "id": "a5b2d813",
      "metadata": {
        "id": "a5b2d813"
      },
      "outputs": [],
      "source": [
        "# Loss and Optimizer\n",
        "criterion = nn.BCEWithLogitsLoss()\n",
        "optimizer = AdamW(model.parameters(), lr=2e-5)"
      ]
    },
    {
      "cell_type": "code",
      "execution_count": 7,
      "id": "e3155de3",
      "metadata": {
        "colab": {
          "base_uri": "https://localhost:8080/"
        },
        "id": "e3155de3",
        "outputId": "0a4c13d0-17f2-4942-a787-856a7ea9e4c1"
      },
      "outputs": [
        {
          "name": "stderr",
          "output_type": "stream",
          "text": [
            "Epoch 1: 100%|██████████| 149/149 [00:28<00:00,  5.20it/s, loss=0.307]\n",
            "Epoch 2: 100%|██████████| 149/149 [00:26<00:00,  5.62it/s, loss=0.289]\n",
            "Epoch 3: 100%|██████████| 149/149 [00:26<00:00,  5.61it/s, loss=0.281]\n",
            "Epoch 4: 100%|██████████| 149/149 [00:26<00:00,  5.60it/s, loss=0.266]\n",
            "Epoch 5: 100%|██████████| 149/149 [00:26<00:00,  5.60it/s, loss=0.173]\n"
          ]
        }
      ],
      "source": [
        "# Training\n",
        "model.train()\n",
        "for epoch in range(5):\n",
        "    loop = tqdm(train_loader, leave=True)\n",
        "    for batch in loop:\n",
        "        inputs, targets = batch\n",
        "        inputs = {key: val.to(device) for key, val in inputs.items()}\n",
        "        targets = targets.to(device)\n",
        "\n",
        "        optimizer.zero_grad()\n",
        "        outputs = model(**inputs).logits\n",
        "        loss = criterion(outputs, targets)\n",
        "        loss.backward()\n",
        "        optimizer.step()\n",
        "\n",
        "        loop.set_description(f\"Epoch {epoch+1}\")\n",
        "        loop.set_postfix(loss=loss.item())"
      ]
    },
    {
      "cell_type": "code",
      "execution_count": 8,
      "id": "52ef512e",
      "metadata": {
        "id": "52ef512e"
      },
      "outputs": [],
      "source": [
        "# Evaluation\n",
        "model.eval()\n",
        "all_preds, all_targets = [], []\n",
        "with torch.no_grad():\n",
        "    for batch in test_loader:\n",
        "        inputs, targets = batch\n",
        "        inputs = {key: val.to(device) for key, val in inputs.items()}\n",
        "        targets = targets.cpu().numpy()\n",
        "\n",
        "        outputs = torch.sigmoid(model(**inputs).logits).cpu().numpy()\n",
        "        preds = (outputs > 0.5).astype(int)\n",
        "\n",
        "        all_preds.extend(preds)\n",
        "        all_targets.extend(targets)"
      ]
    },
    {
      "cell_type": "code",
      "execution_count": 9,
      "id": "u6ZEpr7fEJMS",
      "metadata": {
        "colab": {
          "base_uri": "https://localhost:8080/"
        },
        "id": "u6ZEpr7fEJMS",
        "outputId": "a9df1611-f3ae-453e-8203-682742e68e52"
      },
      "outputs": [
        {
          "name": "stdout",
          "output_type": "stream",
          "text": [
            "                   precision    recall  f1-score   support\n",
            "\n",
            "        ANHEDONIA       0.76      0.52      0.62        25\n",
            "  APPETITE_CHANGE       0.00      0.00      0.00        10\n",
            " COGNITIVE_ISSUES       0.00      0.00      0.00        10\n",
            "   DEPRESSED_MOOD       0.61      0.40      0.48        70\n",
            "          FATIGUE       0.75      0.64      0.69        28\n",
            "      NO_SYMPTOMS       0.39      0.41      0.40        73\n",
            "      PSYCHOMOTOR       0.00      0.00      0.00         8\n",
            "     SLEEP_ISSUES       0.00      0.00      0.00        18\n",
            "SUICIDAL_THOUGHTS       0.81      0.61      0.69        28\n",
            "    WORTHLESSNESS       0.73      0.61      0.67        72\n",
            "\n",
            "        micro avg       0.61      0.44      0.51       342\n",
            "        macro avg       0.41      0.32      0.36       342\n",
            "     weighted avg       0.55      0.44      0.48       342\n",
            "      samples avg       0.49      0.46      0.47       342\n",
            "\n",
            "Accuracy: 0.41\n"
          ]
        }
      ],
      "source": [
        "print(classification_report(all_targets, all_preds, target_names=mlb.classes_, zero_division=0))\n",
        "print(f\"Accuracy: {accuracy_score(all_targets, all_preds):.2f}\")"
      ]
    }
  ],
  "metadata": {
    "accelerator": "GPU",
    "colab": {
      "gpuType": "T4",
      "provenance": []
    },
    "kernelspec": {
      "display_name": "Python 3 (ipykernel)",
      "language": "python",
      "name": "python3"
    },
    "language_info": {
      "codemirror_mode": {
        "name": "ipython",
        "version": 3
      },
      "file_extension": ".py",
      "mimetype": "text/x-python",
      "name": "python",
      "nbconvert_exporter": "python",
      "pygments_lexer": "ipython3",
      "version": "3.10.12"
    }
  },
  "nbformat": 4,
  "nbformat_minor": 5
}
