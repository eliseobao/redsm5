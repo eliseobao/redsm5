{
  "cells": [
    {
      "cell_type": "markdown",
      "id": "f3adb47d",
      "metadata": {},
      "source": [
        "# 🔍 BERT for Multi-label Depression Symptom Detection with ReDSM5\n",
        "\n",
        "This notebook demonstrates how to fine-tune a BERT-based model for **multi-label classification of depression symptoms** using the `ReDSM5` dataset, a Reddit corpus annotated for the nine DSM-5 criteria for major depressive episodes.\n",
        "\n",
        "We walk through the full pipeline:\n",
        "- Loading and preprocessing the dataset,\n",
        "- Tokenizing posts using `bert-base-uncased`,\n",
        "- Wrapping inputs into a PyTorch-compatible `Dataset`,\n",
        "- Fine-tuning a `BertForSequenceClassification` model for multi-label classification,\n",
        "- Evaluating the model using standard classification metrics.\n",
        "\n",
        "This notebook serves as a reproducible baseline for the experiments presented in the [ReDSM5 paper](https://huggingface.co/irlab-udc/redsm5), and is intended for researchers and practitioners interested in interpretable, symptom-level mental health NLP.\n",
        "\n",
        "> ⚠️ This task is sensitive and related to mental health. The dataset should be used for research purposes only, with careful ethical considerations.\n"
      ]
    },
    {
      "cell_type": "markdown",
      "id": "c8126663",
      "metadata": {},
      "source": [
        "## 📦 Importing Dependencies\n",
        "\n",
        "In this section, we import all necessary Python libraries for data manipulation, model training, and evaluation. These include:\n",
        "- `pandas` for data handling,\n",
        "- `scikit-learn` for splitting data and evaluation metrics,\n",
        "- `torch` and `transformers` for building and fine-tuning the BERT model,\n",
        "- `tqdm` for progress bars during training."
      ]
    },
    {
      "cell_type": "code",
      "execution_count": 39,
      "id": "f7769541",
      "metadata": {
        "id": "f7769541"
      },
      "outputs": [],
      "source": [
        "import pandas as pd\n",
        "from sklearn.model_selection import train_test_split\n",
        "from sklearn.metrics import classification_report, accuracy_score\n",
        "from sklearn.preprocessing import MultiLabelBinarizer\n",
        "\n",
        "import torch\n",
        "import torch.nn as nn\n",
        "from torch.utils.data import DataLoader, Dataset\n",
        "from torch.optim import AdamW\n",
        "\n",
        "from transformers import BertTokenizer, BertForSequenceClassification\n",
        "from tqdm import tqdm"
      ]
    },
    {
      "cell_type": "markdown",
      "id": "712c1a0d",
      "metadata": {},
      "source": [
        "## 📊 Loading and Preparing the Dataset\n",
        "\n",
        "We load the `ReDSM5` dataset from a CSV file. Each row contains:\n",
        "- the Reddit post (`text`),\n",
        "- one or more DSM-5 symptom labels (`labels`),\n",
        "- and a sentence-level clinical explanation (`explanation`).\n",
        "\n",
        "We preprocess the `labels` column by splitting the semicolon-separated values into Python lists, allowing for multi-label classification. Then, we use `MultiLabelBinarizer` to convert these labels into binary vectors (one-hot style).\n",
        "\n",
        "Finally, we split the dataset into training and testing subsets (80/20 split) to prepare for model training and evaluation."
      ]
    },
    {
      "cell_type": "code",
      "execution_count": 41,
      "id": "bfb1fd5f",
      "metadata": {
        "colab": {
          "base_uri": "https://localhost:8080/",
          "height": 441
        },
        "id": "bfb1fd5f",
        "outputId": "145f0a30-2249-4eea-c001-be6865b1dbc8"
      },
      "outputs": [
        {
          "name": "stdout",
          "output_type": "stream",
          "text": [
            "Voices of Recov... ---> [0 0 0 0 0 1 0 0 0 0]\n"
          ]
        }
      ],
      "source": [
        "# Load dataset\n",
        "data = pd.read_csv('data/redsm5.csv')\n",
        "data['labels'] = data['labels'].apply(lambda x: x.split(';'))  # Convert labels to list\n",
        "\n",
        "# MultiLabel Binarization\n",
        "mlb = MultiLabelBinarizer()\n",
        "labels = mlb.fit_transform(data['labels'])\n",
        "texts = data['text'].tolist()\n",
        "\n",
        "# Train-test split\n",
        "X_train, X_test, y_train, y_test = train_test_split(\n",
        "    texts, labels, test_size=0.2, random_state=42\n",
        ")\n",
        "\n",
        "print(f'{texts[0][0:15]}... ---> {labels[0]}')"
      ]
    },
    {
      "cell_type": "markdown",
      "id": "5fca5097",
      "metadata": {},
      "source": [
        "## 🧾 Tokenization and Dataset Wrapping\n",
        "\n",
        "We load the `bert-base-uncased` tokenizer from Hugging Face. Then we define a helper function to tokenize all input texts, applying padding and truncation to fit BERT's maximum input size (512 tokens).\n",
        "\n",
        "A custom `TextDataset` class is defined, inheriting from PyTorch’s `Dataset`. It stores tokenized inputs and label tensors. This structure enables batch-wise training using `DataLoader`.\n",
        "\n",
        "We create two data loaders:\n",
        "- `train_loader` for shuffled mini-batches used during training,\n",
        "- `test_loader` for evaluation without shuffling.\n"
      ]
    },
    {
      "cell_type": "code",
      "execution_count": null,
      "id": "8964d089",
      "metadata": {
        "collapsed": true,
        "id": "8964d089"
      },
      "outputs": [
        {
          "data": {
            "application/vnd.jupyter.widget-view+json": {
              "model_id": "7d5d0a2e8ce3404d99eef050c7b58243",
              "version_major": 2,
              "version_minor": 0
            },
            "text/plain": [
              "tokenizer_config.json:   0%|          | 0.00/48.0 [00:00<?, ?B/s]"
            ]
          },
          "metadata": {},
          "output_type": "display_data"
        },
        {
          "data": {
            "application/vnd.jupyter.widget-view+json": {
              "model_id": "493bf2c8b350482e96d6568e5e0ac46e",
              "version_major": 2,
              "version_minor": 0
            },
            "text/plain": [
              "vocab.txt:   0%|          | 0.00/232k [00:00<?, ?B/s]"
            ]
          },
          "metadata": {},
          "output_type": "display_data"
        },
        {
          "data": {
            "application/vnd.jupyter.widget-view+json": {
              "model_id": "df76b124877a4ae19986dccc170c5bc5",
              "version_major": 2,
              "version_minor": 0
            },
            "text/plain": [
              "tokenizer.json:   0%|          | 0.00/466k [00:00<?, ?B/s]"
            ]
          },
          "metadata": {},
          "output_type": "display_data"
        },
        {
          "data": {
            "application/vnd.jupyter.widget-view+json": {
              "model_id": "296a8aa8a909469ca663692de97b596a",
              "version_major": 2,
              "version_minor": 0
            },
            "text/plain": [
              "config.json:   0%|          | 0.00/570 [00:00<?, ?B/s]"
            ]
          },
          "metadata": {},
          "output_type": "display_data"
        }
      ],
      "source": [
        "tokenizer = BertTokenizer.from_pretrained('bert-base-uncased')\n",
        "\n",
        "def tokenize_texts(texts, tokenizer, max_len=512):\n",
        "    return tokenizer(texts, padding=True, truncation=True, max_length=max_len, return_tensors='pt')\n",
        "\n",
        "class TextDataset(Dataset):\n",
        "    def __init__(self, texts, labels, tokenizer):\n",
        "        self.texts = tokenize_texts(texts, tokenizer)\n",
        "        self.labels = torch.tensor(labels, dtype=torch.float)\n",
        "\n",
        "    def __len__(self):\n",
        "        return len(self.labels)\n",
        "\n",
        "    def __getitem__(self, idx):\n",
        "        return {key: val[idx] for key, val in self.texts.items()}, self.labels[idx]\n",
        "\n",
        "train_dataset = TextDataset(X_train, y_train, tokenizer)\n",
        "test_dataset = TextDataset(X_test, y_test, tokenizer)\n",
        "\n",
        "train_loader = DataLoader(train_dataset, batch_size=8, shuffle=True)\n",
        "test_loader = DataLoader(test_dataset, batch_size=8, shuffle=False)"
      ]
    },
    {
      "cell_type": "markdown",
      "id": "9bf8eec3",
      "metadata": {},
      "source": [
        "## 🤖 BERT Model Initialization\n",
        "\n",
        "We initialize a `BertForSequenceClassification` model with a multi-label classification head. Key parameters include:\n",
        "- the number of output labels (derived from the dataset),\n",
        "- the task type: `\"multi_label_classification\"`.\n",
        "\n",
        "This model extends BERT with a final linear layer adapted for our 10 symptom categories. Finally, we move the model to GPU if available to accelerate training.\n"
      ]
    },
    {
      "cell_type": "code",
      "execution_count": null,
      "id": "7279a2c6",
      "metadata": {
        "colab": {
          "base_uri": "https://localhost:8080/"
        },
        "collapsed": true,
        "id": "7279a2c6",
        "outputId": "d8544119-382f-437d-9267-a073fa5fe9bc"
      },
      "outputs": [
        {
          "data": {
            "application/vnd.jupyter.widget-view+json": {
              "model_id": "fd721f3faddd4ec4a96d08f418262bcb",
              "version_major": 2,
              "version_minor": 0
            },
            "text/plain": [
              "model.safetensors:   0%|          | 0.00/440M [00:00<?, ?B/s]"
            ]
          },
          "metadata": {},
          "output_type": "display_data"
        },
        {
          "name": "stderr",
          "output_type": "stream",
          "text": [
            "Some weights of BertForSequenceClassification were not initialized from the model checkpoint at bert-base-uncased and are newly initialized: ['classifier.bias', 'classifier.weight']\n",
            "You should probably TRAIN this model on a down-stream task to be able to use it for predictions and inference.\n"
          ]
        },
        {
          "data": {
            "text/plain": [
              "BertForSequenceClassification(\n",
              "  (bert): BertModel(\n",
              "    (embeddings): BertEmbeddings(\n",
              "      (word_embeddings): Embedding(30522, 768, padding_idx=0)\n",
              "      (position_embeddings): Embedding(512, 768)\n",
              "      (token_type_embeddings): Embedding(2, 768)\n",
              "      (LayerNorm): LayerNorm((768,), eps=1e-12, elementwise_affine=True)\n",
              "      (dropout): Dropout(p=0.1, inplace=False)\n",
              "    )\n",
              "    (encoder): BertEncoder(\n",
              "      (layer): ModuleList(\n",
              "        (0-11): 12 x BertLayer(\n",
              "          (attention): BertAttention(\n",
              "            (self): BertSdpaSelfAttention(\n",
              "              (query): Linear(in_features=768, out_features=768, bias=True)\n",
              "              (key): Linear(in_features=768, out_features=768, bias=True)\n",
              "              (value): Linear(in_features=768, out_features=768, bias=True)\n",
              "              (dropout): Dropout(p=0.1, inplace=False)\n",
              "            )\n",
              "            (output): BertSelfOutput(\n",
              "              (dense): Linear(in_features=768, out_features=768, bias=True)\n",
              "              (LayerNorm): LayerNorm((768,), eps=1e-12, elementwise_affine=True)\n",
              "              (dropout): Dropout(p=0.1, inplace=False)\n",
              "            )\n",
              "          )\n",
              "          (intermediate): BertIntermediate(\n",
              "            (dense): Linear(in_features=768, out_features=3072, bias=True)\n",
              "            (intermediate_act_fn): GELUActivation()\n",
              "          )\n",
              "          (output): BertOutput(\n",
              "            (dense): Linear(in_features=3072, out_features=768, bias=True)\n",
              "            (LayerNorm): LayerNorm((768,), eps=1e-12, elementwise_affine=True)\n",
              "            (dropout): Dropout(p=0.1, inplace=False)\n",
              "          )\n",
              "        )\n",
              "      )\n",
              "    )\n",
              "    (pooler): BertPooler(\n",
              "      (dense): Linear(in_features=768, out_features=768, bias=True)\n",
              "      (activation): Tanh()\n",
              "    )\n",
              "  )\n",
              "  (dropout): Dropout(p=0.1, inplace=False)\n",
              "  (classifier): Linear(in_features=768, out_features=10, bias=True)\n",
              ")"
            ]
          },
          "execution_count": 5,
          "metadata": {},
          "output_type": "execute_result"
        }
      ],
      "source": [
        "model = BertForSequenceClassification.from_pretrained(\n",
        "    'bert-base-uncased',\n",
        "    num_labels=len(mlb.classes_),\n",
        "    problem_type='multi_label_classification'\n",
        ")\n",
        "device = torch.device('cuda' if torch.cuda.is_available() else 'cpu')\n",
        "model.to(device)"
      ]
    },
    {
      "cell_type": "markdown",
      "id": "cc11b81c",
      "metadata": {},
      "source": [
        "## 🧮 Loss Function and Optimizer\n",
        "\n",
        "We use `BCEWithLogitsLoss`, which is the standard loss function for multi-label classification. It combines a sigmoid layer and binary cross-entropy in a single function, making it ideal for predicting multiple independent labels.\n",
        "\n",
        "The optimizer is `AdamW`, which adapts learning rates during training and includes weight decay regularization.\n",
        "\n",
        "A learning rate of `2e-5` is chosen, consistent with standard fine-tuning practice for BERT-based models.\n"
      ]
    },
    {
      "cell_type": "code",
      "execution_count": null,
      "id": "a5b2d813",
      "metadata": {
        "id": "a5b2d813"
      },
      "outputs": [],
      "source": [
        "criterion = nn.BCEWithLogitsLoss()\n",
        "optimizer = AdamW(model.parameters(), lr=2e-5)"
      ]
    },
    {
      "cell_type": "markdown",
      "id": "9bd83f45",
      "metadata": {},
      "source": [
        "## 🏋️ Training the Model\n",
        "\n",
        "We train the BERT model for 5 epochs using the training data. For each batch:\n",
        "1. The input tokens and attention masks are moved to the GPU (if available).\n",
        "2. The model produces logits for each symptom class.\n",
        "3. We compute the binary cross-entropy loss (`BCEWithLogitsLoss`) between predictions and true labels.\n",
        "4. We perform backpropagation and update the model parameters using the AdamW optimizer.\n",
        "\n",
        "A progress bar is displayed using `tqdm`, and the loss value is updated in real time to monitor training.\n"
      ]
    },
    {
      "cell_type": "code",
      "execution_count": null,
      "id": "e3155de3",
      "metadata": {
        "colab": {
          "base_uri": "https://localhost:8080/"
        },
        "id": "e3155de3",
        "outputId": "0a4c13d0-17f2-4942-a787-856a7ea9e4c1"
      },
      "outputs": [
        {
          "name": "stderr",
          "output_type": "stream",
          "text": [
            "Epoch 1: 100%|██████████| 149/149 [00:28<00:00,  5.20it/s, loss=0.307]\n",
            "Epoch 2: 100%|██████████| 149/149 [00:26<00:00,  5.62it/s, loss=0.289]\n",
            "Epoch 3: 100%|██████████| 149/149 [00:26<00:00,  5.61it/s, loss=0.281]\n",
            "Epoch 4: 100%|██████████| 149/149 [00:26<00:00,  5.60it/s, loss=0.266]\n",
            "Epoch 5: 100%|██████████| 149/149 [00:26<00:00,  5.60it/s, loss=0.173]\n"
          ]
        }
      ],
      "source": [
        "model.train()\n",
        "for epoch in range(5):\n",
        "    loop = tqdm(train_loader, leave=True)\n",
        "    for batch in loop:\n",
        "        inputs, targets = batch\n",
        "        inputs = {key: val.to(device) for key, val in inputs.items()}\n",
        "        targets = targets.to(device)\n",
        "\n",
        "        optimizer.zero_grad()\n",
        "        outputs = model(**inputs).logits\n",
        "        loss = criterion(outputs, targets)\n",
        "        loss.backward()\n",
        "        optimizer.step()\n",
        "\n",
        "        loop.set_description(f\"Epoch {epoch+1}\")\n",
        "        loop.set_postfix(loss=loss.item())"
      ]
    },
    {
      "cell_type": "markdown",
      "id": "91a7b757",
      "metadata": {},
      "source": [
        "## 🧪 Evaluation on the Test Set\n",
        "\n",
        "After training, we evaluate the model using the held-out test data. The model is set to evaluation mode (`model.eval()`), and gradient computation is disabled to speed up inference and reduce memory usage.\n",
        "\n",
        "We:\n",
        "- Pass each test batch through the model.\n",
        "- Apply a sigmoid activation to obtain probabilities.\n",
        "- Threshold these probabilities at 0.5 to get binary predictions for each symptom.\n",
        "- Collect all predictions and true labels for final metric computation.\n"
      ]
    },
    {
      "cell_type": "code",
      "execution_count": null,
      "id": "52ef512e",
      "metadata": {
        "id": "52ef512e"
      },
      "outputs": [],
      "source": [
        "model.eval()\n",
        "all_preds, all_targets = [], []\n",
        "with torch.no_grad():\n",
        "    for batch in test_loader:\n",
        "        inputs, targets = batch\n",
        "        inputs = {key: val.to(device) for key, val in inputs.items()}\n",
        "        targets = targets.cpu().numpy()\n",
        "\n",
        "        outputs = torch.sigmoid(model(**inputs).logits).cpu().numpy()\n",
        "        preds = (outputs > 0.5).astype(int)\n",
        "\n",
        "        all_preds.extend(preds)\n",
        "        all_targets.extend(targets)"
      ]
    },
    {
      "cell_type": "markdown",
      "id": "5614b21c",
      "metadata": {},
      "source": [
        "## 📈 Performance Metrics\n",
        "\n",
        "We compute standard multi-label classification metrics using `classification_report` from `scikit-learn`. This includes precision, recall, and F1-score per class, as well as macro, micro, and weighted averages.\n",
        "\n",
        "- **Micro average** treats each label equally and aggregates contributions of all classes.\n",
        "- **Macro average** calculates metrics independently per class and then averages them.\n",
        "- **Weighted average** accounts for class imbalance by weighting metrics by support.\n",
        "- **Samples average** reflects how well the model performs across individual samples.\n",
        "\n",
        "We also report the overall accuracy (i.e., the proportion of exact match predictions across all labels per sample).\n"
      ]
    },
    {
      "cell_type": "code",
      "execution_count": null,
      "id": "u6ZEpr7fEJMS",
      "metadata": {
        "colab": {
          "base_uri": "https://localhost:8080/"
        },
        "id": "u6ZEpr7fEJMS",
        "outputId": "a9df1611-f3ae-453e-8203-682742e68e52"
      },
      "outputs": [
        {
          "name": "stdout",
          "output_type": "stream",
          "text": [
            "                   precision    recall  f1-score   support\n",
            "\n",
            "        ANHEDONIA       0.76      0.52      0.62        25\n",
            "  APPETITE_CHANGE       0.00      0.00      0.00        10\n",
            " COGNITIVE_ISSUES       0.00      0.00      0.00        10\n",
            "   DEPRESSED_MOOD       0.61      0.40      0.48        70\n",
            "          FATIGUE       0.75      0.64      0.69        28\n",
            "      NO_SYMPTOMS       0.39      0.41      0.40        73\n",
            "      PSYCHOMOTOR       0.00      0.00      0.00         8\n",
            "     SLEEP_ISSUES       0.00      0.00      0.00        18\n",
            "SUICIDAL_THOUGHTS       0.81      0.61      0.69        28\n",
            "    WORTHLESSNESS       0.73      0.61      0.67        72\n",
            "\n",
            "        micro avg       0.61      0.44      0.51       342\n",
            "        macro avg       0.41      0.32      0.36       342\n",
            "     weighted avg       0.55      0.44      0.48       342\n",
            "      samples avg       0.49      0.46      0.47       342\n",
            "\n",
            "Accuracy: 0.41\n"
          ]
        }
      ],
      "source": [
        "print(classification_report(all_targets, all_preds, target_names=mlb.classes_, zero_division=0))\n",
        "print(f\"Accuracy: {accuracy_score(all_targets, all_preds):.2f}\")"
      ]
    }
  ],
  "metadata": {
    "accelerator": "GPU",
    "colab": {
      "gpuType": "T4",
      "provenance": []
    },
    "kernelspec": {
      "display_name": "Python 3 (ipykernel)",
      "language": "python",
      "name": "python3"
    },
    "language_info": {
      "codemirror_mode": {
        "name": "ipython",
        "version": 3
      },
      "file_extension": ".py",
      "mimetype": "text/x-python",
      "name": "python",
      "nbconvert_exporter": "python",
      "pygments_lexer": "ipython3",
      "version": "3.11.12"
    }
  },
  "nbformat": 4,
  "nbformat_minor": 5
}
